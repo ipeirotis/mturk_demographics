{
  "cells": [
    {
      "cell_type": "markdown",
      "metadata": {
        "id": "view-in-github",
        "colab_type": "text"
      },
      "source": [
        "<a href=\"https://colab.research.google.com/github/ipeirotis/mturk_demographics/blob/master/3_Capture_Recapture.ipynb\" target=\"_parent\"><img src=\"https://colab.research.google.com/assets/colab-badge.svg\" alt=\"Open In Colab\"/></a>"
      ]
    },
    {
      "cell_type": "markdown",
      "metadata": {
        "id": "SRa8DK4IJGJZ"
      },
      "source": [
        "### Loading data\n",
        "\n",
        "Below we have the code that retrieves the data from the  Mechanical Turk Tracker Demographics API."
      ]
    },
    {
      "cell_type": "code",
      "source": [
        "import pandas as pd"
      ],
      "metadata": {
        "id": "2P2U-bodJafQ"
      },
      "execution_count": null,
      "outputs": []
    },
    {
      "cell_type": "code",
      "execution_count": null,
      "metadata": {
        "id": "i8a5VCrtJGJk"
      },
      "outputs": [],
      "source": [
        "# Fetch the data exported from Bigquery\n",
        "URL = 'https://github.com/ipeirotis/mturk_demographics/raw/master/dataset_29may2023_16_mar2015.zip'\n",
        "df = pd.read_csv(URL, low_memory=False)\n",
        "\n",
        "# Convert all NaN values to None\n",
        "df = df.where(pd.notnull(df), None)\n",
        "\n",
        "\n",
        "df['hit_answered_date'] = pd.to_datetime(df['hit_answered_date'])\n",
        "df['hit_creation_date'] = pd.to_datetime(df['hit_creation_date'])\n",
        "df[\"post_to_completion_secs\"] = (df['hit_answered_date'] - df['hit_creation_date']).dt.seconds\n",
        "\n",
        "# We now set the right data types\n",
        "df[\"household_income\"]=df[\"household_income\"].astype(\"category\")\n",
        "df[\"household_size\"]=df[\"household_size\"].astype(\"category\")\n",
        "df[\"location_country\"]=df[\"location_country\"].astype(\"category\")\n",
        "df[\"marital_status\"]=df[\"marital_status\"].astype(\"category\")\n",
        "df['date'] = pd.to_datetime(df['hit_answered_date'].apply(lambda x : x.date())).dt.tz_localize('UTC')\n",
        "df['time'] = df['hit_answered_date'].dt.round('min').apply(lambda x : x.time())\n",
        "df.dtypes\n"
      ]
    },
    {
      "cell_type": "code",
      "execution_count": null,
      "metadata": {
        "id": "2xA__f4kJGJl"
      },
      "outputs": [],
      "source": [
        "import datetime\n",
        "minDate = min(df['hit_answered_date'])\n",
        "maxDate = max(df['hit_answered_date'])\n",
        "days = (maxDate - minDate).days\n",
        "print(minDate)\n",
        "print(maxDate)\n",
        "print(days)"
      ]
    },
    {
      "cell_type": "code",
      "execution_count": null,
      "metadata": {
        "id": "5yq7plvHJGJm"
      },
      "outputs": [],
      "source": [
        "from time import gmtime, strftime\n",
        "def t():\n",
        "    print(strftime(\"%Y-%m-%d %H:%M:%S\", gmtime()))\n",
        "    "
      ]
    },
    {
      "cell_type": "code",
      "execution_count": null,
      "metadata": {
        "id": "E_qfkfAmJGJn"
      },
      "outputs": [],
      "source": [
        "df.head(5)"
      ]
    },
    {
      "cell_type": "markdown",
      "metadata": {
        "id": "H7GY8Z-zJGJo"
      },
      "source": [
        "### Exploratory plots"
      ]
    },
    {
      "cell_type": "code",
      "execution_count": null,
      "metadata": {
        "id": "A7ZzCv1lJGJp"
      },
      "outputs": [],
      "source": [
        "%matplotlib inline\n",
        "import matplotlib as mpl\n",
        "import matplotlib.pyplot as plt\n",
        "import seaborn as sns\n",
        "\n",
        "mpl.rc(\"figure\", figsize=(16, 8))\n",
        "mpl.rcParams.update({'font.size': 22})\n",
        "mpl.rcParams['pdf.fonttype'] = 42\n",
        "mpl.rcParams['ps.fonttype'] = 42\n",
        "sns.set_style(\"whitegrid\")"
      ]
    },
    {
      "cell_type": "markdown",
      "metadata": {
        "id": "RVqXRFJ2JGJp"
      },
      "source": [
        "### Capture Recapture model\n",
        "\n",
        "We will now attempt to estimate the capture-recapture models in order to estimate the overall population size of MTurk workers.\n",
        "\n",
        "#### Two-occasion Model (Lincoln Estimator)\n",
        "\n",
        "\n",
        "We will start with the simplest models first, expanding to more complex approaches later:\n",
        "\n",
        "This model assumes that we have two samples (the \"capture\" and the \"recapture\").\n",
        "\n",
        "In the first sampling period we \"capture\" (i.e., survey) $n_1$ workers from the population and we mark them as captured. \n",
        "\n",
        "In the second sampling period we \"capture\" $n_2$ workers. \n",
        "\n",
        "We assume that:\n",
        "* None of the workers from the first period have left (no \"deaths\"). This means that we have $n_1$ marked workers in the population in the second sampling period. \n",
        "* The probabiliy of capturing each worker is uniform in the population of workers.\n",
        "* That the size of the population $N$ in the second sampling period is significantly higher than $n_1$ and $n_2$, so that the probability of probability of \"recapturing\" a worker in every sampling attempt is $n_1 / N$. This allows us to use a d \n",
        "\n",
        "If the population during the recapture period is $N$, then when we pick a worker at random, the probability of \"recapturing\" a \"captured\" worker is $n_1 / N$. Therefore, when we sample $n_2$ workers, on expectation, we will have $E[m] = \\frac{n_1 \\cdot n_2}{N}$ common workers in the two samples. So, if we have $m$ common workers, we have that $m \\approx \\frac{n_1 \\cdot n_2}{N}$ and therefore $N \\approx \\frac{n_1 \\cdot n_2}{m}$."
      ]
    },
    {
      "cell_type": "code",
      "execution_count": null,
      "metadata": {
        "id": "Ihuq_U11JGJq"
      },
      "outputs": [],
      "source": [
        "def getWorkerIDs(df, startDate, endDate):\n",
        "    '''\n",
        "    Returns the set of distinct workers that participated in the surveys between the two dates\n",
        "    '''\n",
        "    return set(df[\"worker_id\"][(df['hit_answered_date']>=startDate) & (df['hit_answered_date']<endDate)])\n"
      ]
    },
    {
      "cell_type": "code",
      "execution_count": null,
      "metadata": {
        "id": "sZYmRzwLJGJr"
      },
      "outputs": [],
      "source": [
        "import numpy as np\n",
        "\n",
        "def capture_recapture_lincoln_estimator(df, groupAstart, groupBstart, window):\n",
        "    groupAend = groupAstart + datetime.timedelta(days=window)\n",
        "    groupBend = groupBstart + datetime.timedelta(days=window)\n",
        "    workersA = getWorkerIDs(df, groupAstart, groupAend)\n",
        "    workersB = getWorkerIDs(df, groupBstart, groupBend)\n",
        "    union = workersA | workersB\n",
        "    intersection = workersA & workersB\n",
        "    if len(intersection) > 0:\n",
        "        capture_recapture_estimate = len(workersA) * len(workersB) / len(intersection)\n",
        "        y = np.log(capture_recapture_estimate)\n",
        "    else:\n",
        "        capture_recapture_estimate = None\n",
        "        y = None\n",
        "\n",
        "    return {\n",
        "        \"window\" : window,\n",
        "        \"groupA_start\" : groupAstart,\n",
        "        \"groupA_end\" : groupAend,\n",
        "        \"groupB_start\" : groupBstart,\n",
        "        \"groupB_end\" : groupBend,\n",
        "        \"date_diff\": (groupBstart - groupAstart).days,\n",
        "        \"workers_A\" : len(workersA),\n",
        "        \"workers_B\" : len(workersB),\n",
        "        \"workers_union\" : len(union),\n",
        "        \"workers_intersection\": len(intersection),\n",
        "        \"capture_recapture_estimate\": capture_recapture_estimate,\n",
        "        # 'ln_n1' : np.log(len(workersA)),\n",
        "        # 'ln_n2' : np.log(len(workersB)),\n",
        "        # \"ln_m\" : np.log(len(intersection)),\n",
        "        'y' : y # will be used later, for survival analysis\n",
        "    }\n"
      ]
    },
    {
      "cell_type": "markdown",
      "metadata": {
        "id": "K6dUtPS6JGJs"
      },
      "source": [
        "Let's try our estimate for the first and third months in the data set:"
      ]
    },
    {
      "cell_type": "code",
      "execution_count": null,
      "metadata": {
        "id": "c6LSZRg-JGJs"
      },
      "outputs": [],
      "source": [
        "window = 30 # length of sampling period, in days\n",
        "offset = 0 # what is the beginning of the first sampling period\n",
        "\n",
        "# due to our setup: \n",
        "\n",
        "# so that we do not have the same worker participating again in the sampling period\n",
        "# window < 30 \n",
        "# so that we do not have workers being blocked due to the 30 day blocking time\n",
        "# window + 30 < date_diff,\n",
        "\n",
        "date_diff = 60 # how many days after the first period we start the second period. \n",
        "\n",
        "first_date = minDate + datetime.timedelta(days=offset)\n",
        "second_date = first_date + datetime.timedelta(days=date_diff)\n",
        "\n",
        "capture_recapture_lincoln_estimator(df, first_date, second_date, window)"
      ]
    },
    {
      "cell_type": "markdown",
      "metadata": {
        "id": "MQBPjq68JGJt"
      },
      "source": [
        "And try again for the 6th month and the 8th month in the data set"
      ]
    },
    {
      "cell_type": "code",
      "execution_count": null,
      "metadata": {
        "id": "APHRWVh9JGJt"
      },
      "outputs": [],
      "source": [
        "window = 30\n",
        "offset = 180\n",
        "date_diff = 60\n",
        "first_date = minDate + datetime.timedelta(days=offset)\n",
        "second_date = first_date + datetime.timedelta(days=date_diff)\n",
        "capture_recapture_lincoln_estimator(df, first_date, second_date, window)"
      ]
    },
    {
      "cell_type": "markdown",
      "metadata": {
        "id": "ifcaa7RyJGJu"
      },
      "source": [
        "Now, we are going to try various pairs of dates (all for the same window of 30 days worth of sampling). "
      ]
    },
    {
      "cell_type": "code",
      "execution_count": null,
      "metadata": {
        "id": "sXUNS4u7JGJu"
      },
      "outputs": [],
      "source": [
        "import random\n",
        "t()\n",
        "samples = 40000 # 20K samples per minute\n",
        "sample_dates = list(set(df['date']))\n",
        "\n",
        "window = 30\n",
        "\n",
        "result = []\n",
        "\n",
        "while len(result) < samples:\n",
        "    groupAstart = random.choice(sample_dates)\n",
        "    groupBstart = random.choice(sample_dates)\n",
        "    if  groupBstart > groupAstart + datetime.timedelta(days=window) + datetime.timedelta(days=30) and \\\n",
        "        groupBstart + datetime.timedelta(days=window) < maxDate.date():\n",
        "        r = capture_recapture_lincoln_estimator(df,groupAstart, groupBstart, window)\n",
        "        result.append(r)\n",
        "\n",
        "print(len(result))\n",
        "t()"
      ]
    },
    {
      "cell_type": "code",
      "execution_count": null,
      "metadata": {
        "id": "yisf15hFJGJv"
      },
      "outputs": [],
      "source": [
        "groupAstart = random.choice(sample_dates)\n",
        "groupAstart"
      ]
    },
    {
      "cell_type": "code",
      "execution_count": null,
      "metadata": {
        "id": "-7PQ4fIMJGJw"
      },
      "outputs": [],
      "source": [
        "lincoln_estimates = pd.DataFrame(result)\n",
        "lincoln_estimates['groupA_start'] = pd.to_datetime(lincoln_estimates['groupA_start'])\n",
        "lincoln_estimates['groupB_start'] = pd.to_datetime(lincoln_estimates['groupB_start'])\n",
        "lincoln_estimates['groupA_end'] = pd.to_datetime(lincoln_estimates['groupA_end'])\n",
        "lincoln_estimates['groupB_end'] = pd.to_datetime(lincoln_estimates['groupB_end'])"
      ]
    },
    {
      "cell_type": "markdown",
      "metadata": {
        "id": "AEWl7P8JJGJw"
      },
      "source": [
        "### Plotting the naive estimates\n",
        "\n",
        "Let's plot our estimates now, to see the MTurk population. Interestingly enough, instead of seeing the population estimates converging for more recent dates, the variance of the estimates increases. (This is due to the incorrect assumption of no departures)."
      ]
    },
    {
      "cell_type": "code",
      "execution_count": null,
      "metadata": {
        "scrolled": false,
        "id": "gPy9TmmNJGJx"
      },
      "outputs": [],
      "source": [
        "import seaborn as sns\n",
        "\n",
        "data = lincoln_estimates['capture_recapture_estimate']\n",
        "sns.histplot(data);"
      ]
    },
    {
      "cell_type": "code",
      "execution_count": null,
      "metadata": {
        "id": "LrdOxaztJGJx"
      },
      "outputs": [],
      "source": [
        "import matplotlib.pyplot as plt\n",
        "\n",
        "x_axis = lincoln_estimates['groupB_start'].tolist()\n",
        "y_axis = lincoln_estimates['capture_recapture_estimate'].tolist()\n",
        "\n",
        "plt.figure(figsize = (30,20))\n",
        "plt.tick_params(labelsize=30)\n",
        "\n",
        "plt.scatter(x_axis, y_axis, \n",
        "            cmap = plt.cm.coolwarm,\n",
        "            alpha=0.25)"
      ]
    },
    {
      "cell_type": "markdown",
      "metadata": {
        "id": "np5jLEZtJGJy"
      },
      "source": [
        "To make more clear what is going on, let's color the various dots, to make the color proportional to the difference in time between the two sampling periods. Red corresponds to bigger date_diffs, while black corresponds to smaller ones."
      ]
    },
    {
      "cell_type": "code",
      "execution_count": null,
      "metadata": {
        "id": "dzD-N_cMJGJy"
      },
      "outputs": [],
      "source": [
        "import matplotlib.pyplot as plt\n",
        "import seaborn as sns\n",
        "\n",
        "mpl.rc(\"figure\", figsize=(16, 8))\n",
        "mpl.rcParams.update({'font.size': 22})\n",
        "mpl.rcParams['pdf.fonttype'] = 42\n",
        "mpl.rcParams['ps.fonttype'] = 42\n",
        "sns.set_style(\"whitegrid\")"
      ]
    },
    {
      "cell_type": "code",
      "source": [
        "!mkdir plots"
      ],
      "metadata": {
        "id": "_Dc6FBcjMfe1"
      },
      "execution_count": null,
      "outputs": []
    },
    {
      "cell_type": "code",
      "execution_count": null,
      "metadata": {
        "id": "WB56MnGuJGJy"
      },
      "outputs": [],
      "source": [
        "x_axis = lincoln_estimates['groupB_start'].tolist()\n",
        "y_axis = lincoln_estimates['capture_recapture_estimate'].tolist()\n",
        "colors = lincoln_estimates['date_diff'].tolist() # / max(lincoln_estimates['date_diff'])\n",
        "\n",
        "# fig = plt.figure()\n",
        "fig, ax = plt.subplots(1, 1)  # a figure with a 1x1 \"grid\" for a single ax (ax = plot)\n",
        "\n",
        "# ax.tick_params(labelsize=20)\n",
        "ax.set_title(\"Estimates for Mechanical Turk Worker Population Size\")\n",
        "ax.set_xlabel(\"Start Date of Recapture Period\")\n",
        "ax.set_ylabel(\"Population Size Estimate\")\n",
        "ax.set_ylim([0,800000])\n",
        "\n",
        "ax.scatter(x_axis, y_axis, \n",
        "            c = colors,\n",
        "            cmap = plt.cm.nipy_spectral,\n",
        "            s = 4,\n",
        "            alpha=0.25)\n",
        "\n",
        "# fig = ax.get_figure()\n",
        "fig.savefig('plots/lincoln1.pdf', bbox_inches='tight')"
      ]
    },
    {
      "cell_type": "markdown",
      "metadata": {
        "id": "dZ9NcgHHJGJz"
      },
      "source": [
        "Now plotting the same variables, but having the `date_diff` in x-axis, the population estimate on the y-axis, and the color represents the time of the \"recapture\" period. Red corresponds to resampling periods close to the end of the study, while black corresponds to resampling time periods towards the beginning. Expectedly, we have red-colored dots for a wide variety of date-diff values, while black dots are limited to only a small number of date_diff values, as there were not that many \"capture\" periods before them.\n",
        "\n"
      ]
    },
    {
      "cell_type": "code",
      "execution_count": null,
      "metadata": {
        "id": "RHmSw9caJGJz"
      },
      "outputs": [],
      "source": [
        "x_axis = lincoln_estimates['date_diff'].tolist()\n",
        "y_axis = lincoln_estimates['capture_recapture_estimate'].tolist()\n",
        "colors = lincoln_estimates['groupB_start'].apply(lambda x: (x-minDate).days).tolist() # / max(lincoln_estimates['date_diff'])\n",
        "\n",
        "# fig = plt.figure()\n",
        "fig, ax = plt.subplots(1, 1)  # a figure with a 1x1 \"grid\" for a single ax (ax = plot)\n",
        "\n",
        "# ax.tick_params(labelsize=20)\n",
        "ax.set_title(\"Estimates for Mechanical Turk Worker Population Size\")\n",
        "ax.set_xlabel(\"Days Between Capture and Recapture Sample Periods\")\n",
        "ax.set_ylabel(\"Population Size Estimate\")\n",
        "ax.set_ylim([0,800000])\n",
        "\n",
        "ax.scatter(x_axis, y_axis, \n",
        "            c = colors,\n",
        "            cmap = plt.cm.nipy_spectral,\n",
        "            s = 4,\n",
        "            alpha=0.25)\n",
        "\n",
        "# fig = ax.get_figure()\n",
        "fig.savefig('plots/lincoln2.pdf', bbox_inches='tight')"
      ]
    },
    {
      "cell_type": "markdown",
      "metadata": {
        "id": "zVevcdjcJGJ0"
      },
      "source": [
        "If we see the red-colored dots, we see that the population estimates are heavily affected by the date_diff variable. If we compare with sampling periods that are close (i.e small date_diff) then the population estimate is low. If we compare with earlier periods, the estimate is high. This is inconsistent with naive estimator which should not be affected by the time difference between the samples. This indicated the violation of the assumptions. \n",
        "\n",
        "Specifically, and expectedly, we expect Turkers to leave the platform. This affects the results, as this leads to a lower number of \"marked\" workers that we have in later resampling periods. We address the issue next.\n",
        "\n",
        "The other issue that we will need to address is the issue of selection bias. If some workers are heavily attracted to the survey, this biases the results towards smaller population estimates. (The opposite if workers do not want to participate in  surveys.) We will deal with the issue later.\n",
        "\n",
        "----------"
      ]
    },
    {
      "cell_type": "code",
      "execution_count": null,
      "metadata": {
        "id": "3Z5DyWkTJGJ0"
      },
      "outputs": [],
      "source": [
        "# Let's plot the same plot as above but using box plots, with the date_diff grouped in groups of 30 days\n",
        "# group = 30\n",
        "# lincoln_estimates['date_diff_group'] = lincoln_estimates['date_diff'].apply(lambda x : group*int(round(x/group)))\n",
        "# lincoln_estimates[['date_diff_group','capture_recapture_estimate']].boxplot(by='date_diff_group', figsize=(15,10))"
      ]
    },
    {
      "cell_type": "markdown",
      "metadata": {
        "id": "phtQ4SNxJGJ0"
      },
      "source": [
        "Our results indicate that the population estimates are increasing as the difference in dates between datasets increases. This is not normal behavior under the ``closed world'' assumption of the Lincoln estimator, indicating that the assumptions of the model are violated. As we will see below, the key problem is the fact that new workers arrive (are \"born\"), and old workers quit (\"die\"). Furhtermore, as we have seen earlier, we see that Amazon opened the registration for non-US workers, allowing \"immigration\" into our area."
      ]
    },
    {
      "cell_type": "markdown",
      "metadata": {
        "collapsed": true,
        "id": "MRuclLycJGJ0"
      },
      "source": [
        "### Allowing for departure of workers from the population"
      ]
    },
    {
      "cell_type": "markdown",
      "metadata": {
        "id": "fsQCcwAoJGJ0"
      },
      "source": [
        "Now, we alleviate our assumption of \"no departures\". We assume that the lifetime of workers in the platform is given by a survival function that has the following form: \n",
        "\n",
        "$S(t) = \\exp(-\\lambda \\cdot t)$\n",
        "\n",
        "with $t$ being the time (in days) since the last survey. In this function, $\\lambda$ is the decay rate, which corresponds to the rate in which workers depart from the platform. Notice thatthe parameter  $\\lambda$ is assumed to be common across all workers.\n",
        "\n",
        "Refining the estimator: After the $n_1$ workers are 'marked', there is a $S(t)$ probability that the workers will survive until a resampling period which is $t$ time periods away. On expectation, we will have $S(t) \\cdot n_1$ workers in the population during resampling and the probability of picking one one them when picking a random worker is $S(t) \\cdot \\frac{n_1}{N}$. Therefore when resampling $n_2$ workers, we expect to see on average $E[m] = S(t) \\cdot \\frac{n_1 \\cdot n_2}{N}$ workers.\n",
        "\n",
        "So, if we capture $m$ workers that have been marked, then the estimate is $N = \\exp(-\\lambda \\cdot t) \\cdot \\frac{n_1 \\cdot n_2}{m}$.\n"
      ]
    },
    {
      "cell_type": "markdown",
      "metadata": {
        "id": "FaYApA_9JGJ1"
      },
      "source": [
        "By taking logs: $\\ln{N} + \\ln{m} = -\\lambda \\cdot t + \\ln{n_1} + \\ln{n_2}$\n",
        "\n",
        "$\\lambda \\cdot t + \\ln{N} + \\ln{m} - \\ln{n_1} - \\ln{n_2} = 0$\n",
        "\n",
        "$\\beta_1 \\cdot x_1 + \\beta_0  = y$\n",
        "\n",
        "* $\\beta_1 = \\lambda$\n",
        "* $x_1 = t$\n",
        "* $\\beta_0=\\ln{N}$ \n",
        "* $y = \\ln{n_1} + \\ln{n_2} - \\ln{m}$\n",
        "\n",
        "This approach assumes that the population $N$ remains the same. When we allow $N$ to vary per sampling period, we add a fixed-effect / categorical variable for the beginning of the recapture group, :\n",
        "\n",
        "* $\\beta_1 = \\lambda$\n",
        "* $x_1 = t$\n",
        "* $\\beta_0 + \\beta_{date} = \\ln{N \\cdot c(date)} =  \\ln{N} + \\ln{c(date)}$ \n",
        "* $y = \\ln{n_1} + \\ln{n_2} - \\ln{m}$\n",
        "\n",
        "with $c(date)$ being a binary variable, that gets assigned a coefficient that is a multiplier of the average population $N$.\n",
        "\n",
        "So the population on _date_ is $N \\cdot c(date) = \\exp(\\beta_0 + \\beta_{date}) = \\exp(\\beta_0) * \\exp(\\beta_{date})$"
      ]
    },
    {
      "cell_type": "code",
      "execution_count": null,
      "metadata": {
        "id": "ZbDFDAzsJGJ1"
      },
      "outputs": [],
      "source": [
        "# Assuming an exponential survival function S(t) = K * exp(-lambda * t)\n",
        "import math\n",
        "import statsmodels.formula.api as sm\n",
        "from datetime import datetime\n",
        "\n",
        "def fit_survival(data):\n",
        "    result = sm.ols(formula=\"y ~ date_diff + C(groupB_start)\", data=data).fit()\n",
        "    #print(result.summary())\n",
        "    fit_N = math.exp(result.params['Intercept']) #average population, exp(beta_0)\n",
        "    N_d = [{\"date\": datetime.strptime(d[29:-12], '%Y-%m-%d') , \"population\": fit_N * math.exp(result.params[d])} \n",
        "        for d in result.params.index \n",
        "        if d.startswith('C(groupB_start)')]\n",
        "    #N_err = result.bse['Intercept']\n",
        "    #N_low = math.exp(result.params['Intercept'] +N_err)\n",
        "    #N_high = math.exp(result.params['Intercept'] -N_err)\n",
        "    fit_lambda = result.params['date_diff']\n",
        "    #lambda_err = result.bse['date_diff']\n",
        "    return {\n",
        "        'N': fit_N,\n",
        "        'N_d': N_d,\n",
        "        'lambda': fit_lambda,\n",
        "        'half-life': math.log(2)/fit_lambda,\n",
        "    }\n",
        "\n",
        "le = lincoln_estimates.copy()\n",
        "le['groupB_start'] = le['groupB_start'].dt.tz_localize(None)\n",
        "results = fit_survival(le)"
      ]
    },
    {
      "cell_type": "code",
      "execution_count": null,
      "metadata": {
        "id": "jskYwH4lJGJ1"
      },
      "outputs": [],
      "source": [
        "print_outcome = dict(results)\n",
        "del print_outcome['N_d']\n",
        "print(print_outcome)"
      ]
    },
    {
      "cell_type": "code",
      "execution_count": null,
      "metadata": {
        "id": "6Z7c6jcsJGJ1"
      },
      "outputs": [],
      "source": [
        "# fig = plt.figure()\n",
        "fig, axes = plt.subplots(1, 1)  # a figure with a 1x1 \"grid\" for a single ax (ax = plot)\n",
        "\n",
        "ax = pd.DataFrame(results['N_d']).set_index('date').sort_index().plot(ax=axes)\n",
        "ax.set_title(\"Population Size Estimate with Open Population Model\")\n",
        "ax.set_xlabel(\"Date\")\n",
        "ax.set_ylabel(\"Population Size Estimate\")\n",
        "ax.set_ylim([0,50000])\n",
        "ax.legend().set_visible(False)\n",
        "\n",
        "fig.savefig('plots/openpopulation.pdf', bbox_inches='tight')"
      ]
    },
    {
      "cell_type": "code",
      "execution_count": null,
      "metadata": {
        "id": "BxRPCmCtJGKC"
      },
      "outputs": [],
      "source": []
    }
  ],
  "metadata": {
    "kernelspec": {
      "display_name": "Python 3",
      "language": "python",
      "name": "python3"
    },
    "language_info": {
      "codemirror_mode": {
        "name": "ipython",
        "version": 3
      },
      "file_extension": ".py",
      "mimetype": "text/x-python",
      "name": "python",
      "nbconvert_exporter": "python",
      "pygments_lexer": "ipython3",
      "version": "3.5.2"
    },
    "colab": {
      "provenance": [],
      "include_colab_link": true
    }
  },
  "nbformat": 4,
  "nbformat_minor": 0
}