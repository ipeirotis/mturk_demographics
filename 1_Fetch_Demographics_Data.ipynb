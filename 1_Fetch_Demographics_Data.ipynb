{
  "cells": [
    {
      "cell_type": "markdown",
      "metadata": {
        "id": "view-in-github",
        "colab_type": "text"
      },
      "source": [
        "<a href=\"https://colab.research.google.com/github/ipeirotis/mturk_demographics/blob/master/1_Fetch_Demographics_Data.ipynb\" target=\"_parent\"><img src=\"https://colab.research.google.com/assets/colab-badge.svg\" alt=\"Open In Colab\"/></a>"
      ]
    },
    {
      "cell_type": "markdown",
      "metadata": {
        "id": "E2FGuD8FtdpM"
      },
      "source": [
        "### Demographics API\n",
        "\n",
        "Below we have the code that retrieves the data from the  Mechanical Turk Tracker Demographics API."
      ]
    },
    {
      "cell_type": "code",
      "execution_count": null,
      "metadata": {
        "id": "vxHlNzIHtdpV"
      },
      "outputs": [],
      "source": [
        "from datetime import datetime\n",
        "import time\n",
        "\n",
        "# This function takes as input the response for a single survey, and transforms it into a flat dictionary\n",
        "def flatten(item):\n",
        "    fmt = \"%Y-%m-%dT%H:%M:%S.%f%z\"\n",
        "    \n",
        "    hit_answer_date = datetime.strptime(item[\"date\"], fmt)\n",
        "    hit_creation_str = item.get(\"hitCreationDate\")\n",
        "    \n",
        "    if hit_creation_str is None: \n",
        "        hit_creation_date = None \n",
        "        diff = None\n",
        "    else:\n",
        "        hit_creation_date = datetime.strptime(hit_creation_str, fmt)\n",
        "        # convert to unix timestamp\n",
        "        hit_date_ts = time.mktime(hit_creation_date.timetuple())\n",
        "        answer_date_ts = time.mktime(hit_answer_date.timetuple())\n",
        "        diff = int(answer_date_ts-hit_date_ts)\n",
        "    \n",
        "    result = {\n",
        "        \"worker_id\": str(item[\"workerId\"]),\n",
        "        \"gender\": str(item[\"answers\"][\"gender\"]).lower(),\n",
        "        \"household_income\": str(item[\"answers\"][\"householdIncome\"]),\n",
        "        \"household_size\": str(item[\"answers\"][\"householdSize\"]),\n",
        "        \"marital_status\": str(item[\"answers\"].get(\"maritalStatus\")),\n",
        "        \"year_of_birth\": int(item[\"answers\"][\"yearOfBirth\"]),\n",
        "        \"location_city\": str(item.get(\"locationCity\")),\n",
        "        \"location_region\": str(item.get(\"locationRegion\")),\n",
        "        \"location_country\": str(item[\"locationCountry\"]),\n",
        "        \"hit_answered_date\": hit_answer_date,\n",
        "        \"hit_creation_date\": hit_creation_date,\n",
        "        \"post_to_completion_secs\": diff\n",
        "    }\n",
        "    return result"
      ]
    },
    {
      "cell_type": "code",
      "execution_count": null,
      "metadata": {
        "id": "IEAKAFOjtdpa"
      },
      "outputs": [],
      "source": [
        "# The code below retrieves all the responses from the Demographics API\n",
        "# Since we cannot get all the responses at once, we fetch a few thousand\n",
        "# records at a time, until fetching them all\n",
        "\n",
        "import requests\n",
        "import json\n",
        "\n",
        "limit = 1000\n",
        "\n",
        "# The API call that returns the last survey responses\n",
        "baseurl = \"https://demographics.mturk-tracker.com\" + \\\n",
        "    \"/api/survey/demographics/answers?limit=\" + str(limit)\n",
        "\n",
        "print(baseurl)\n",
        "# This is the cursor variable, used to retrieve more pages of results\n",
        "nextPageToken = \"\"\n",
        "\n",
        "# We store the results in this list\n",
        "results = []\n",
        "\n",
        "while True:\n",
        "    url = baseurl + \"&cursor=\" + nextPageToken\n",
        "    resp = requests.get(url)\n",
        "    # print(resp.text)\n",
        "    if resp.status_code == 200:\n",
        "        data = json.loads(resp.text)\n",
        "        items = data.get(\"items\")\n",
        "        if items == None:\n",
        "            break\n",
        "        print(\"Retrieved \", len(items), \" responses\")\n",
        "        responses = [flatten(item) for item in items]\n",
        "        results.extend(responses)\n",
        "        print(\"Total of \", len(results), \" responses in our data\")\n",
        "    else:\n",
        "        print(\"Something went wrong with the network call\")\n",
        "\n",
        "    nextPageToken = data.get(\"nextPageToken\")\n",
        "    if nextPageToken == None:\n",
        "        break\n"
      ]
    },
    {
      "cell_type": "code",
      "source": [
        "# Fetch the old data as well (Mar 2015 - Oct 2020)\n",
        "URL = 'https://github.com/ipeirotis/mturk_demographics/raw/master/mturk_surveys_mar15_oct20.zip'\n",
        "df_old = pd.read_csv(URL)\n",
        "df_old = df_old.drop('Unnamed: 0', axis='columns')\n",
        "df_old"
      ],
      "metadata": {
        "id": "1U3NqA8vZQ-x"
      },
      "execution_count": null,
      "outputs": []
    },
    {
      "cell_type": "code",
      "source": [
        "df_old['hit_answered_date'] = pd.to_datetime(df_old['hit_answered_date'], utc=True)\n",
        "df_old['hit_creation_date'] = pd.to_datetime(df_old['hit_creation_date'], utc=True)\n",
        "\n",
        "df_old.dtypes"
      ],
      "metadata": {
        "id": "vBofzdglans1"
      },
      "execution_count": null,
      "outputs": []
    },
    {
      "cell_type": "code",
      "source": [
        "import pandas as pd\n",
        "df = pd.DataFrame(results)"
      ],
      "metadata": {
        "id": "8ViOAU6salRK"
      },
      "execution_count": null,
      "outputs": []
    },
    {
      "cell_type": "code",
      "source": [
        "df.dtypes"
      ],
      "metadata": {
        "id": "b9hXgHTFamEV"
      },
      "execution_count": null,
      "outputs": []
    },
    {
      "cell_type": "code",
      "execution_count": null,
      "metadata": {
        "id": "osxJllcDtdpe"
      },
      "outputs": [],
      "source": [
        "df = pd.DataFrame(results)\n",
        "df = pd.concat([df, df_old])\n",
        "\n",
        "# Let's save the file as a CSV\n",
        "df.to_csv(\"mturk_surveys.csv\")"
      ]
    },
    {
      "cell_type": "code",
      "execution_count": null,
      "metadata": {
        "id": "7U-UUqdttdpf"
      },
      "outputs": [],
      "source": [
        "# Let's print the total number of retrieved responses\n",
        "print(\"Total number of responses:\", df.shape[0])"
      ]
    },
    {
      "cell_type": "code",
      "execution_count": null,
      "metadata": {
        "id": "oFnfHGv_tdpf"
      },
      "outputs": [],
      "source": [
        "print(\"Unique workers:\", len(set(df.worker_id.values)))"
      ]
    },
    {
      "cell_type": "code",
      "execution_count": null,
      "metadata": {
        "id": "qV32jLTetdpg"
      },
      "outputs": [],
      "source": [
        "import numpy as np\n",
        "\n",
        "min_date = df.hit_answered_date.min()\n",
        "max_date = df.hit_answered_date.max()\n",
        "print(\"First date:\", min_date)\n",
        "print(\"Last date:\", max_date)\n",
        "print(\"Duration:\", max_date - min_date)"
      ]
    },
    {
      "cell_type": "code",
      "execution_count": null,
      "metadata": {
        "id": "FqrbpNertdpg"
      },
      "outputs": [],
      "source": [
        "df"
      ]
    }
  ],
  "metadata": {
    "kernelspec": {
      "display_name": "Python 3",
      "language": "python",
      "name": "python3"
    },
    "language_info": {
      "codemirror_mode": {
        "name": "ipython",
        "version": 3
      },
      "file_extension": ".py",
      "mimetype": "text/x-python",
      "name": "python",
      "nbconvert_exporter": "python",
      "pygments_lexer": "ipython3",
      "version": "3.5.2"
    },
    "colab": {
      "provenance": [],
      "include_colab_link": true
    }
  },
  "nbformat": 4,
  "nbformat_minor": 0
}