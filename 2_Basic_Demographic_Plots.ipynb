{
  "cells": [
    {
      "cell_type": "markdown",
      "metadata": {
        "id": "view-in-github",
        "colab_type": "text"
      },
      "source": [
        "<a href=\"https://colab.research.google.com/github/ipeirotis/mturk_demographics/blob/master/2_Basic_Demographic_Plots.ipynb\" target=\"_parent\"><img src=\"https://colab.research.google.com/assets/colab-badge.svg\" alt=\"Open In Colab\"/></a>"
      ]
    },
    {
      "cell_type": "markdown",
      "metadata": {
        "id": "sJbEHbt2gcDf"
      },
      "source": [
        "### Demographics API\n",
        "\n",
        "Below we have the code that retrieves the data from the  Mechanical Turk Tracker Demographics API."
      ]
    },
    {
      "cell_type": "code",
      "execution_count": null,
      "metadata": {
        "id": "gEqF6RyggcDn"
      },
      "outputs": [],
      "source": [
        "# Render our plots inline\n",
        "%matplotlib inline\n",
        "%config InlineBackend.figure_format = 'retina'"
      ]
    },
    {
      "cell_type": "code",
      "execution_count": null,
      "metadata": {
        "id": "EioIaAeigcDq"
      },
      "outputs": [],
      "source": [
        "import pandas as pd\n",
        "import matplotlib\n",
        "import numpy as np\n",
        "import seaborn as sns"
      ]
    },
    {
      "cell_type": "code",
      "execution_count": null,
      "metadata": {
        "id": "Lku2YEoagcDq"
      },
      "outputs": [],
      "source": [
        "# Fetch the old data as well (Mar 2015 - Oct 2020)\n",
        "URL = 'https://github.com/ipeirotis/mturk_demographics/raw/master/dataset_14may2023_16mar2015.zip'\n",
        "df = pd.read_csv(URL, low_memory=False)\n",
        "\n",
        "# Convert all NaN values to None\n",
        "df = df.where(pd.notnull(df), None)\n",
        "\n",
        "df = df.drop([\"hitId\", \"surveyId\"], axis=\"columns\")\n",
        "\n",
        "rename_columns = {\n",
        "    \"workerId\": \"worker_id\",\n",
        "    \"householdIncome\": \"household_income\",\n",
        "    \"educationalLevel\": \"educational_level\",\n",
        "    \"householdSize\": \"household_size\",\n",
        "    \"maritalStatus\": \"marital_status\",\n",
        "    \"languagesSpoken\": \"languages_spoken\",\n",
        "    \"timeSpentOnMturk\": \"time_spent_on_mturk\" ,\n",
        "    \"weeklyIncomeFromMturk\": \"weekly_income_from_mturk\",\n",
        "    \"yearOfBirth\": \"year_of_birth\",\n",
        "    \"locationCity\": \"location_city\",\n",
        "    \"locationRegion\": \"location_region\",\n",
        "    \"locationCountry\": \"location_country\",\n",
        "    \"date\": \"hit_answered_date\",\n",
        "    \"hitCreationDate\": \"hit_creation_date\",\n",
        "    # \"post_to_completion_secs\"\n",
        "    }\n",
        "\n",
        "df = df.rename(rename_columns, axis = \"columns\")\n",
        "\n",
        "df['hit_answered_date'] = pd.to_datetime(df['hit_answered_date'])\n",
        "df['hit_creation_date'] = pd.to_datetime(df['hit_creation_date'])\n",
        "df[\"post_to_completion_secs\"] = (df['hit_answered_date'] - df['hit_creation_date']).dt.seconds\n"
      ]
    },
    {
      "cell_type": "code",
      "source": [
        "df"
      ],
      "metadata": {
        "id": "n7YqWuHUiai4"
      },
      "execution_count": null,
      "outputs": []
    },
    {
      "cell_type": "code",
      "source": [
        "# We now transform our API answer into a flat table\n",
        "# and set the right data types\n",
        "# df[\"hit_answered_date\"]=pd.to_datetime(df[\"hit_answered_date\"], format=\"mixed\")\n",
        "# df[\"hit_creation_date\"] = pd.to_datetime(df[\"hit_creation_date\"], format=\"mixed\")\n",
        "# df[\"hit_answered_date\"]=pd.to_datetime(df[\"hit_answered_date\"], format='mixed', errors='coerce')\n",
        "\n",
        "# df[\"hit_creation_date\"] = pd.to_datetime(df[\"hit_creation_date\"])\n",
        "# df[\"hit_creation_date\"] = pd.to_datetime(df[\"hit_creation_date\"], format='mixed', errors='coerce')\n",
        "\n",
        "\n",
        "df[\"household_income\"]=df[\"household_income\"].astype(\"category\")\n",
        "df[\"household_size\"]=df[\"household_size\"].astype(\"category\")\n",
        "df[\"location_country\"]=df[\"location_country\"].astype(\"category\")\n",
        "df[\"marital_status\"]=df[\"marital_status\"].astype(\"category\")\n",
        "df['date'] = pd.to_datetime(df['hit_answered_date'].apply(lambda x : x.date()))\n",
        "df['time'] = df['hit_answered_date'].dt.round('min').apply(lambda x : x.time())\n",
        "df.dtypes"
      ],
      "metadata": {
        "id": "q2XegL41iY6D"
      },
      "execution_count": null,
      "outputs": []
    },
    {
      "cell_type": "code",
      "execution_count": null,
      "metadata": {
        "id": "SYdS4nkHgcDr"
      },
      "outputs": [],
      "source": [
        "len(df)"
      ]
    },
    {
      "cell_type": "code",
      "execution_count": null,
      "metadata": {
        "id": "OOmDETX5gcDs"
      },
      "outputs": [],
      "source": [
        "import datetime\n",
        "import time\n",
        "\n",
        "minDate = min(df['hit_answered_date'])\n",
        "maxDate = max(df['hit_answered_date'])\n",
        "\n",
        "\n",
        "# The following are for setting up the x-axis in the plots that\n",
        "# show demographics over time\n",
        "min_x = minDate.toordinal()\n",
        "max_x = maxDate.toordinal()\n",
        "ticks = 6\n",
        "steps = (max_x-min_x)/ticks\n",
        "\n",
        "days = (maxDate - minDate).days\n",
        "print(minDate)\n",
        "print(maxDate)\n",
        "print(days)\n",
        "len(set(df.date.values))"
      ]
    },
    {
      "cell_type": "code",
      "execution_count": null,
      "metadata": {
        "id": "TnjulR1CgcDu"
      },
      "outputs": [],
      "source": [
        "df['hour'] = df['hit_creation_date'].dt.hour"
      ]
    },
    {
      "cell_type": "code",
      "execution_count": null,
      "metadata": {
        "id": "piKHyROBgcDv"
      },
      "outputs": [],
      "source": [
        "df['dow'] = df['hit_creation_date'].dt.dayofweek"
      ]
    },
    {
      "cell_type": "code",
      "execution_count": null,
      "metadata": {
        "id": "Mrufiu2wgcDw"
      },
      "outputs": [],
      "source": [
        "ax = df.pivot_table(\n",
        "    index='hit_answered_date',\n",
        "    values='post_to_completion_secs',\n",
        "    aggfunc = np.median\n",
        ").resample('7D').median().plot( figsize=(15,10), grid=True)\n",
        "\n",
        "\n",
        "# sns.violinplot(data=df, x='hour', y='ttl', ylim=(0,100))"
      ]
    },
    {
      "cell_type": "code",
      "execution_count": null,
      "metadata": {
        "id": "BVgCTeQTgcDx"
      },
      "outputs": [],
      "source": [
        "print(\"Unique workers in the sample:\", len(set(df.worker_id)))"
      ]
    },
    {
      "cell_type": "code",
      "execution_count": null,
      "metadata": {
        "id": "UHwPJ1__gcDy"
      },
      "outputs": [],
      "source": [
        "# Fix a data quality issue\n",
        "#fix = list(df[df.gender=='Female'].index)[0]\n",
        "#df = df.set_value(fix, 'gender', 'female')"
      ]
    },
    {
      "cell_type": "code",
      "execution_count": null,
      "metadata": {
        "id": "21MMYtqbgcDz"
      },
      "outputs": [],
      "source": [
        "# df.head(5)"
      ]
    },
    {
      "cell_type": "markdown",
      "metadata": {
        "id": "dpv-OE0ZgcD0"
      },
      "source": [
        "### Exploratory plots"
      ]
    },
    {
      "cell_type": "code",
      "execution_count": null,
      "metadata": {
        "id": "viVjFE3tgcD0"
      },
      "outputs": [],
      "source": [
        "# !sudo -H pip3 install -U matplotlib"
      ]
    },
    {
      "cell_type": "code",
      "execution_count": null,
      "metadata": {
        "id": "lm1DC6rogcD1"
      },
      "outputs": [],
      "source": [
        "%matplotlib inline\n",
        "import matplotlib as mpl\n",
        "import matplotlib.pyplot as plt\n",
        "import matplotlib.ticker as mtick\n",
        "mpl.__version__"
      ]
    },
    {
      "cell_type": "code",
      "execution_count": null,
      "metadata": {
        "id": "Dya7YASMgcD2"
      },
      "outputs": [],
      "source": [
        "# !sudo -H pip3 install -U seaborn"
      ]
    },
    {
      "cell_type": "code",
      "execution_count": null,
      "metadata": {
        "id": "J_Cbub-lgcD2"
      },
      "outputs": [],
      "source": [
        "import seaborn as sns\n",
        "sns.__version__"
      ]
    },
    {
      "cell_type": "code",
      "execution_count": null,
      "metadata": {
        "id": "RjuQoUlZgcD3"
      },
      "outputs": [],
      "source": [
        "mpl.rc(\"figure\", figsize=(16, 8))\n",
        "mpl.rcParams.update({'font.size': 22})\n",
        "mpl.rcParams['pdf.fonttype'] = 42\n",
        "mpl.rcParams['ps.fonttype'] = 42\n",
        "sns.set_style(\"whitegrid\")"
      ]
    },
    {
      "cell_type": "markdown",
      "metadata": {
        "id": "9ROrDVbxgcD4"
      },
      "source": [
        "#### Countries of the workers"
      ]
    },
    {
      "cell_type": "code",
      "execution_count": null,
      "metadata": {
        "id": "wX3gKwlBgcD4"
      },
      "outputs": [],
      "source": [
        "# Let's see the top countries\n",
        "country = 100* df['location_country'].value_counts() / len(df)"
      ]
    },
    {
      "cell_type": "code",
      "execution_count": null,
      "metadata": {
        "id": "PLsXJx31gcD4"
      },
      "outputs": [],
      "source": [
        "pd.DataFrame(country.head(30))"
      ]
    },
    {
      "cell_type": "code",
      "source": [
        "!mkdir plots"
      ],
      "metadata": {
        "id": "IIJhbCRE1FIB"
      },
      "execution_count": null,
      "outputs": []
    },
    {
      "cell_type": "code",
      "execution_count": null,
      "metadata": {
        "id": "wrUKlCCJgcD5"
      },
      "outputs": [],
      "source": [
        "ax = country.head(20).plot.bar(log=True, fontsize='large', color=sns.color_palette(n_colors=1))\n",
        "ax.set_title(\"Top-20 Countries of Mechanical Turk Workers\", fontsize='large')\n",
        "ax.set_xlabel(\"Country\", fontsize='small')\n",
        "ax.set_ylabel(\"Percentage of Workers (log-scale)\", fontsize='large')\n",
        "\n",
        "fmt = '%.1f%%' # Format you want the ticks, e.g. '40%'\n",
        "yticks = mtick.FormatStrFormatter(fmt)\n",
        "ax.yaxis.set_major_formatter(yticks)\n",
        "ax.set_yticks([0.1, 0.2, 0.4, 0.8, 1.6, 3.2, 6.4, 12.5, 25, 50, 100])\n",
        "#ax.yaxis.set_major_formatter(mtick.PercentFormatter())\n",
        "\n",
        "fig = ax.get_figure()\n",
        "fig.savefig('plots/countries.pdf', bbox_inches='tight')"
      ]
    },
    {
      "cell_type": "code",
      "execution_count": null,
      "metadata": {
        "id": "qde7ZWSJgcD6"
      },
      "outputs": [],
      "source": [
        "country_table = pd.crosstab(index=df.date, columns=df.location_country, \n",
        "                            values='worker_id', aggfunc=np.count_nonzero, normalize='index')\n",
        "# country_table"
      ]
    },
    {
      "cell_type": "code",
      "execution_count": null,
      "metadata": {
        "id": "OCQmdmTagcD6"
      },
      "outputs": [],
      "source": []
    },
    {
      "cell_type": "code",
      "execution_count": null,
      "metadata": {
        "id": "doUgG8cQgcD6"
      },
      "outputs": [],
      "source": [
        "def time_plot(data, title, filename, confidence=True, legend=False):\n",
        "        # Compute the mean, and the 10%, 25%, 75%, and 90% percentile\n",
        "    # Values calculated over a rolling 30-day window\n",
        "    # Plot lines are smoothed using a 7-day exponential weighted window\n",
        "    m = data.rolling(window=30).mean().ewm(span=7).mean()\n",
        "    s1 = data.rolling(window=30).quantile(quantile=0.25).ewm(span=7).mean()\n",
        "    s2 = data.rolling(window=30).quantile(quantile=0.75).ewm(span=7).mean()\n",
        "    #s3 = country_table['US'].rolling(window=30).quantile(quantile=0.1).ewm(span=7).mean()\n",
        "    #s4 = country_table['US'].rolling(window=30).quantile(quantile=0.9).ewm(span=7).mean()\n",
        "\n",
        "    ax = m.plot(fontsize='small')\n",
        "    if confidence:\n",
        "        ax = s1.plot(fontsize='small', color='#bbbbff', linestyle = '--', ax = ax)\n",
        "        ax = s2.plot(fontsize='small', color='#bbbbff', linestyle = '--', ax = ax)\n",
        "        \n",
        "        \n",
        "    #ax = s3.plot(fontsize='small', color='#eeeeff', linestyle = '--', ax = ax)\n",
        "    #ax = s4.plot(fontsize='small', color='#eeeeff', linestyle = '--', ax = ax)\n",
        "\n",
        "    ax.set_title(title, fontsize='large')\n",
        "    ax.set_ylabel(\"Percentage\", fontsize='small')\n",
        "    ax.set_xlabel(\"Date\", fontsize='small')\n",
        "    \n",
        "    fmt = '%3.1f%%' # Format you want the ticks, e.g. '40%'\n",
        "    yticks = mtick.FormatStrFormatter(fmt)\n",
        "    ax.yaxis.set_major_formatter(yticks)\n",
        "    \n",
        "    if legend:\n",
        "        ax.legend( fontsize='small', fancybox=True, frameon = True)\n",
        "        \n",
        "\n",
        "            \n",
        "          \n",
        "    #ax.xaxis.set_ticks(np.arange(min_x, max_x, steps))\n",
        "    #ax.yaxis.set_ticks(np.arange(0.55, 0.91, 0.05))\n",
        "    fig = ax.get_figure()\n",
        "    fig.savefig(filename, bbox_inches='tight')\n",
        "    \n",
        "    return ax\n"
      ]
    },
    {
      "cell_type": "code",
      "execution_count": null,
      "metadata": {
        "id": "F6FkDZ87gcD7"
      },
      "outputs": [],
      "source": [
        "time_plot(100*country_table['US'], 'Percentage of US Workers over Time', 'plots/country-us.pdf')"
      ]
    },
    {
      "cell_type": "code",
      "execution_count": null,
      "metadata": {
        "id": "fOwMMlCmgcD7"
      },
      "outputs": [],
      "source": [
        "time_plot(100*country_table['IN'], 'Percentage of Indian Workers over Time', 'plots/country-in.pdf', confidence=True)\n"
      ]
    },
    {
      "cell_type": "code",
      "execution_count": null,
      "metadata": {
        "id": "72FMvVPTgcD8"
      },
      "outputs": [],
      "source": [
        "time_plot(100*country_table['CA'], 'Percentage of Canadian Workers over Time', 'plots/country-ca.pdf', confidence=False)\n"
      ]
    },
    {
      "cell_type": "code",
      "execution_count": null,
      "metadata": {
        "id": "qI-sQS4ZgcD8"
      },
      "outputs": [],
      "source": [
        "\n",
        "time_plot(100*country_table['GB'], 'Percentage of UK Workers over Time', 'plots/country-gb.pdf', confidence=False)\n"
      ]
    },
    {
      "cell_type": "code",
      "execution_count": null,
      "metadata": {
        "id": "EkKBLqs_gcD8"
      },
      "outputs": [],
      "source": [
        "time_plot(100*country_table['IT'], 'Percentage of Italian Workers over Time', 'plots/country-it.pdf', confidence=False)\n"
      ]
    },
    {
      "cell_type": "code",
      "execution_count": null,
      "metadata": {
        "id": "ckYBShCpgcD8"
      },
      "outputs": [],
      "source": [
        "\n",
        "time_plot(100*country_table['BR'], 'Percentage of Brazilian Workers over Time', 'plots/country-br.pdf', confidence=False)\n"
      ]
    },
    {
      "cell_type": "code",
      "execution_count": null,
      "metadata": {
        "id": "JLJun04agcD9"
      },
      "outputs": [],
      "source": [
        "time_plot(100*country_table['DE'], 'Percentage of German Workers over Time', 'plots/country-de.pdf', confidence=False)"
      ]
    },
    {
      "cell_type": "code",
      "execution_count": null,
      "metadata": {
        "id": "gakvbxC6gcD9"
      },
      "outputs": [],
      "source": [
        "country_table_time = pd.crosstab(index=df.time, \n",
        "                                 columns=df.location_country, \n",
        "                                 values='worker_id', \n",
        "                                 aggfunc=np.count_nonzero, \n",
        "                                 normalize='index')\n",
        "country_table_time.sort_index(inplace=True)"
      ]
    },
    {
      "cell_type": "code",
      "execution_count": null,
      "metadata": {
        "id": "X7lZ-pgMgcD9"
      },
      "outputs": [],
      "source": [
        "m = 100*country_table_time[['US','IN']].ewm(span=3).mean()\n",
        "\n",
        "ax = m.plot( fontsize='small', xlim=[0,86400], ylim=[0,1])\n",
        "ax.set_title(\"Percentage of US and Indian Workers During the Day (UTC Time)\", fontsize='large')\n",
        "ax.set_ylabel(\"Percentage of Total Workers\", fontsize='small')\n",
        "ax.set_xlabel(\"Time (UTC)\", fontsize='x-small')\n",
        "ax.xaxis.set_ticks(np.arange(0, 84400, 14400))\n",
        "ax.yaxis.set_ticks(np.arange(0, 110, 10))\n",
        "fmt = '%.0f%%' # Format you want the ticks, e.g. '40%'\n",
        "yticks = mtick.FormatStrFormatter(fmt)\n",
        "ax.yaxis.set_major_formatter(yticks)\n",
        "    \n",
        "ax.legend( fontsize='small')\n",
        "fig = ax.get_figure()\n",
        "fig.savefig('plots/country-usa-india-time-of-day.pdf', bbox_inches='tight')"
      ]
    },
    {
      "cell_type": "code",
      "execution_count": null,
      "metadata": {
        "id": "I03nt8lFgcD9"
      },
      "outputs": [],
      "source": [
        "# No significant periodicity\n",
        "# from pandas.plotting import autocorrelation_plot\n",
        "# data = country_table['US'].ewm(span=1).mean().diff()[1:]\n",
        "# autocorrelation_plot(data)"
      ]
    },
    {
      "cell_type": "code",
      "execution_count": null,
      "metadata": {
        "id": "NRfwWJH2gcD-"
      },
      "outputs": [],
      "source": [
        "time_plot(100*country_table['IN'], \n",
        "          'Percentage of Indian Workers over Time', \n",
        "          'plots/country-india.pdf')"
      ]
    },
    {
      "cell_type": "code",
      "execution_count": null,
      "metadata": {
        "id": "vbtLde79gcEF"
      },
      "outputs": [],
      "source": [
        "time_plot(data = 100*country_table['CA'], \n",
        "          title = 'Percentage of Canadian Workers over Time', \n",
        "          filename = 'plots/country-canada.pdf', \n",
        "          confidence=False)"
      ]
    },
    {
      "cell_type": "code",
      "execution_count": null,
      "metadata": {
        "id": "MncvwuzegcEF"
      },
      "outputs": [],
      "source": [
        "time_plot(data = 100*country_table['GB'], \n",
        "          title = 'Percentage of British Workers over Time', \n",
        "          filename = 'plots/country-uk.pdf', \n",
        "          confidence=False)"
      ]
    },
    {
      "cell_type": "code",
      "execution_count": null,
      "metadata": {
        "id": "_HAf1ODggcEG"
      },
      "outputs": [],
      "source": [
        "time_plot(100*country_table['IT'], \n",
        "          'Percentage of Italian Workers over Time', \n",
        "          'plots/country-italy.pdf',\n",
        "          confidence=False)"
      ]
    },
    {
      "cell_type": "code",
      "execution_count": null,
      "metadata": {
        "id": "SR9QzxsrgcEG"
      },
      "outputs": [],
      "source": [
        "time_plot(100*country_table['DE'], \n",
        "          'Percentage of German Workers over Time', \n",
        "          'plots/country-germany.pdf',\n",
        "          confidence=False)"
      ]
    },
    {
      "cell_type": "code",
      "execution_count": null,
      "metadata": {
        "id": "BRBSZ7mLgcEG"
      },
      "outputs": [],
      "source": [
        "time_plot(100*country_table['PH'], \n",
        "          'Percentage of Filipino Workers over Time', \n",
        "          'plots/country-philipines.pdf',\n",
        "          confidence=False)"
      ]
    },
    {
      "cell_type": "code",
      "execution_count": null,
      "metadata": {
        "id": "U8yV33fngcEH"
      },
      "outputs": [],
      "source": [
        "time_plot(100*country_table['ID'], \n",
        "          'Percentage of Indonesian Workers over Time', \n",
        "          'plots/country-indonesia.pdf',\n",
        "          confidence=False)"
      ]
    },
    {
      "cell_type": "code",
      "execution_count": null,
      "metadata": {
        "id": "4TORdJyggcEH"
      },
      "outputs": [],
      "source": [
        "time_plot(100*country_table['BR'], \n",
        "          'Percentage of Brazilian Workers over Time', \n",
        "          'plots/country-brazil.pdf',\n",
        "          confidence=False)"
      ]
    },
    {
      "cell_type": "markdown",
      "metadata": {
        "id": "_TY-7zobgcEI"
      },
      "source": [
        "## Gender"
      ]
    },
    {
      "cell_type": "code",
      "execution_count": null,
      "metadata": {
        "id": "x9JHhyG1gcEI"
      },
      "outputs": [],
      "source": [
        "gender_table = pd.crosstab(index=df.date, columns=df.gender, \n",
        "                            values='worker_id', aggfunc=np.count_nonzero, normalize='index')"
      ]
    },
    {
      "cell_type": "code",
      "execution_count": null,
      "metadata": {
        "id": "fpKTzUAQgcEI"
      },
      "outputs": [],
      "source": [
        "gender_table.mean()"
      ]
    },
    {
      "cell_type": "code",
      "execution_count": null,
      "metadata": {
        "id": "cbvJx95QgcEJ"
      },
      "outputs": [],
      "source": [
        "time_plot(data = 100*gender_table['female'], \n",
        "          title = 'Percentage of Female Workers over Time', \n",
        "          filename = 'plots/gender-female.pdf', \n",
        "          confidence=True)"
      ]
    },
    {
      "cell_type": "code",
      "execution_count": null,
      "metadata": {
        "id": "3C7tvpe9gcEJ"
      },
      "outputs": [],
      "source": [
        "time_plot(data = 100*gender_table['male'], \n",
        "          title = 'Percentage of Male Workers over Time', \n",
        "          filename = 'plots/gender-male.pdf', \n",
        "          confidence=True)"
      ]
    },
    {
      "cell_type": "markdown",
      "metadata": {
        "id": "sJvRvFN-gcEJ"
      },
      "source": [
        "### Gender by Country"
      ]
    },
    {
      "cell_type": "code",
      "execution_count": null,
      "metadata": {
        "id": "r4__XQaXgcEJ"
      },
      "outputs": [],
      "source": [
        "gender_by_country = pd.pivot_table(data=df,\n",
        "                             values='worker_id', \n",
        "                             aggfunc=np.count_nonzero,\n",
        "                             index=df.location_country,\n",
        "                             columns=df.gender)"
      ]
    },
    {
      "cell_type": "code",
      "execution_count": null,
      "metadata": {
        "id": "qQe8pkP9gcEK"
      },
      "outputs": [],
      "source": [
        "\n",
        "# Keep only US and India\n",
        "gender_by_country = gender_by_country[gender_by_country.index.isin(['US', 'IN', 'CA', 'GB', 'BR', 'IT', 'DE', 'PH', 'VE'])]\n",
        "# Normalize and keep percentages\n",
        "gender_by_country_perc = gender_by_country.apply(lambda x: 100*x / float(x.sum()), axis=1).round(2)\n",
        "gender_by_country_perc = gender_by_country_perc.reindex(['US', 'IN', 'CA', 'GB', 'BR', 'IT', 'DE', 'PH', 'VE'])"
      ]
    },
    {
      "cell_type": "code",
      "execution_count": null,
      "metadata": {
        "id": "ryxRSjMvgcEK"
      },
      "outputs": [],
      "source": [
        "gender_by_country.sum()"
      ]
    },
    {
      "cell_type": "code",
      "execution_count": null,
      "metadata": {
        "id": "mpfQsorngcEK"
      },
      "outputs": [],
      "source": [
        "gender_by_country.sum()/gender_by_country.sum().sum()"
      ]
    },
    {
      "cell_type": "code",
      "execution_count": null,
      "metadata": {
        "id": "BB22185CgcEK"
      },
      "outputs": [],
      "source": [
        "gender_by_country"
      ]
    },
    {
      "cell_type": "code",
      "execution_count": null,
      "metadata": {
        "id": "iAHhBMLwgcEL"
      },
      "outputs": [],
      "source": [
        "gender_by_country_perc_df = gender_by_country_perc[['female','male']]"
      ]
    },
    {
      "cell_type": "code",
      "execution_count": null,
      "metadata": {
        "scrolled": false,
        "id": "GHz-auFdgcEL"
      },
      "outputs": [],
      "source": [
        "ax = gender_by_country_perc_df.plot.bar(fontsize='large', color=['red','blue'])\n",
        "ax.set_title(\"Gender of Mechanical Turk Workers by Country\", fontsize='large')\n",
        "ax.set_xlabel(\"Country\", fontsize='small')\n",
        "ax.set_ylabel(\"Percentage of Workers\", fontsize='large')\n",
        "\n",
        "fmt = '%.0f%%' # Format you want the ticks, e.g. '40%'\n",
        "yticks = mtick.FormatStrFormatter(fmt)\n",
        "ax.yaxis.set_major_formatter(yticks)\n",
        "\n",
        "fig = ax.get_figure()\n",
        "fig.savefig('plots/gender.pdf', bbox_inches='tight')"
      ]
    },
    {
      "cell_type": "markdown",
      "metadata": {
        "id": "YkxxO3RXgcEL"
      },
      "source": [
        "### Gender by Country over Time"
      ]
    },
    {
      "cell_type": "code",
      "execution_count": null,
      "metadata": {
        "id": "ef8g78ObgcEM"
      },
      "outputs": [],
      "source": [
        "gender_table_us = pd.crosstab(index=df[df.location_country=='US'].date, columns=df[df.location_country=='US'].gender, \n",
        "                            values='worker_id', aggfunc=np.count_nonzero, normalize='index')"
      ]
    },
    {
      "cell_type": "code",
      "execution_count": null,
      "metadata": {
        "id": "NKRR8d2BgcEM"
      },
      "outputs": [],
      "source": [
        "time_plot(data = 100*gender_table_us['female'], \n",
        "          title = 'Percentage of Females among US Workers over Time', \n",
        "          filename = 'plots/gender-female-usa.pdf', \n",
        "          confidence=True)"
      ]
    },
    {
      "cell_type": "code",
      "execution_count": null,
      "metadata": {
        "id": "NYGUpNotgcEM"
      },
      "outputs": [],
      "source": [
        "gender_table_in = pd.crosstab(index=df[df.location_country=='IN'].date, columns=df[df.location_country=='IN'].gender, \n",
        "                            values='worker_id', aggfunc=np.count_nonzero, normalize='index')"
      ]
    },
    {
      "cell_type": "code",
      "execution_count": null,
      "metadata": {
        "id": "m_WpFkAkgcEM"
      },
      "outputs": [],
      "source": [
        "time_plot(data = 100*gender_table_in['female'], \n",
        "          title = 'Percentage of Females among Indian Workers over Time', \n",
        "          filename = 'plots/gender-female-india.pdf', \n",
        "          confidence=True)"
      ]
    },
    {
      "cell_type": "markdown",
      "metadata": {
        "id": "ubZyaBBFgcEN"
      },
      "source": [
        "### Year of Birth"
      ]
    },
    {
      "cell_type": "code",
      "execution_count": null,
      "metadata": {
        "id": "mD-RLeKogcEN"
      },
      "outputs": [],
      "source": [
        "yob_table = pd.crosstab(index=df.date, columns=df.year_of_birth, \n",
        "                            values='worker_id', aggfunc=np.count_nonzero, normalize='index')"
      ]
    },
    {
      "cell_type": "code",
      "execution_count": null,
      "metadata": {
        "id": "2y0flzp7gcEN"
      },
      "outputs": [],
      "source": [
        "# yob_table.head(5)"
      ]
    },
    {
      "cell_type": "code",
      "execution_count": null,
      "metadata": {
        "id": "MWMmiKz1gcEN"
      },
      "outputs": [],
      "source": [
        "# Limit data to working age\n",
        "years = [y for y in range(1950,2005)]\n",
        "\n",
        "# \n",
        "yob_df = (100*yob_table[years].mean()).cumsum()\n",
        "ax = yob_df.plot(fontsize='large', linewidth=5)\n",
        "ax.set_title(\"Year of Birth of Mechanical Turk Workers (CDF)\", fontsize='large')\n",
        "ax.set_xlabel(\"Year of Birth\", fontsize='large')\n",
        "ax.set_ylabel(\"Percentage of Workers\", fontsize='large')\n",
        "\n",
        "fmt = '%.0f%%' # Format you want the ticks, e.g. '40%'\n",
        "yticks = mtick.FormatStrFormatter(fmt)\n",
        "ax.yaxis.set_major_formatter(yticks)\n",
        "\n",
        "cansus_url = 'https://raw.githubusercontent.com/ipeirotis/mturk_demographics/master/census.csv'\n",
        "census = pd.read_csv(cansus_url, sep='\\t', names  = ['Year of Birth', 'U', 'US Population'])\n",
        "census.set_index('Year of Birth', inplace=True)\n",
        "census.drop('U',axis=1, inplace=True)\n",
        "census.sort_index(inplace=True)\n",
        "census['US Population'] = 100*census['US Population']\n",
        "census.plot(ax=ax, linestyle='--', linewidth=5)\n",
        "\n",
        "ax.legend(['Mechanical Turk', 'US Population (working age, 18-67)'], fontsize='large')\n",
        "\n",
        "fig = ax.get_figure()\n",
        "fig.savefig('plots/yearofbirth.pdf', bbox_inches='tight')"
      ]
    },
    {
      "cell_type": "code",
      "execution_count": null,
      "metadata": {
        "id": "avm9LqeRgcEO"
      },
      "outputs": [],
      "source": [
        "\n",
        "census.dtypes"
      ]
    },
    {
      "cell_type": "code",
      "execution_count": null,
      "metadata": {
        "id": "xnt6MeajgcEO"
      },
      "outputs": [],
      "source": [
        "age_by_country = pd.pivot_table(data=df,\n",
        "                             values='worker_id', \n",
        "                             aggfunc=np.count_nonzero,\n",
        "                             index=df.year_of_birth,\n",
        "                             columns=df.location_country)\n",
        "\n",
        "age_by_country = age_by_country[['US', 'IN']]\n",
        "age_by_country = 100*age_by_country / age_by_country.sum()\n",
        "# age_by_country.plot(ax = ax)\n",
        "# fig\n",
        "age_by_country.cumsum().plot()"
      ]
    },
    {
      "cell_type": "code",
      "execution_count": null,
      "metadata": {
        "id": "-YSnRflGgcEO"
      },
      "outputs": [],
      "source": [
        "\n",
        "\n"
      ]
    },
    {
      "cell_type": "code",
      "execution_count": null,
      "metadata": {
        "id": "QjzkqZ3JgcEP"
      },
      "outputs": [],
      "source": [
        "# Keep only US and India\n",
        "\n",
        "# Normalize and keep percentages\n",
        "age_by_country_perc = age_by_country.apply(lambda x: 100*x / float(x.sum()), axis=1).round(2)\n",
        "# age_by_country_perc = age_by_country_perc.reindex(['US', 'IN', 'CA', 'GB', 'PH', 'DE'])"
      ]
    },
    {
      "cell_type": "code",
      "execution_count": null,
      "metadata": {
        "id": "irFz0FH4gcEP"
      },
      "outputs": [],
      "source": [
        "age_by_country_perc"
      ]
    },
    {
      "cell_type": "markdown",
      "metadata": {
        "id": "ksj4G78AgcEP"
      },
      "source": [
        "##### Decade of birth"
      ]
    },
    {
      "cell_type": "code",
      "execution_count": null,
      "metadata": {
        "id": "wKvKZBFMgcEP"
      },
      "outputs": [],
      "source": [
        "def yob_decade(yob):\n",
        "  if yob is None or pd.isnull(yob): \n",
        "    return None\n",
        "  else: \n",
        "    try:\n",
        "      return str(int(round(yob,-1)))+'-'+str(int(round(yob,-1))+9)\n",
        "    except:\n",
        "      print(yob)\n",
        "\n",
        "df['yob_decade'] = df['year_of_birth'].apply(yob_decade)\n",
        "decades = ['1950-1959', '1960-1969', '1970-1979', '1980-1989', '1990-1999','2000-2009']\n",
        "yob_table = pd.crosstab(index=df.date, columns=df.yob_decade, \n",
        "                            values='worker_id', aggfunc=np.count_nonzero, normalize='index')"
      ]
    },
    {
      "cell_type": "code",
      "execution_count": null,
      "metadata": {
        "id": "o38gD3jBgcEQ"
      },
      "outputs": [],
      "source": [
        "time_plot(100*yob_table[decades], \"Year of Birth of Workers\", \n",
        "          filename = 'plots/decateofbirth.pdf', confidence = False, legend = True)"
      ]
    },
    {
      "cell_type": "markdown",
      "metadata": {
        "id": "mw32Si_TgcEQ"
      },
      "source": [
        "#### Indian workers are *slightly* younger"
      ]
    },
    {
      "cell_type": "code",
      "execution_count": null,
      "metadata": {
        "id": "B_Zs8T5ogcEQ"
      },
      "outputs": [],
      "source": [
        "data = pd.DataFrame(df[df.location_country=='IN'])\n",
        "yob_table_in = pd.crosstab(index=data.date, columns=data.yob_decade, \n",
        "                            values='worker_id', aggfunc=np.count_nonzero, normalize='index')"
      ]
    },
    {
      "cell_type": "code",
      "execution_count": null,
      "metadata": {
        "id": "_9m8DPdhgcEQ"
      },
      "outputs": [],
      "source": [
        "time_plot(100*yob_table_in[decades], \"Year of Birth of Indian Workers\", \n",
        "          'plots/yearofbirth-indian.pdf', confidence = False, legend = True)"
      ]
    },
    {
      "cell_type": "markdown",
      "metadata": {
        "id": "OUngofDPgcER"
      },
      "source": [
        "### Marital Status"
      ]
    },
    {
      "cell_type": "code",
      "execution_count": null,
      "metadata": {
        "id": "ExewEz8tgcER"
      },
      "outputs": [],
      "source": [
        "marital_status = pd.pivot_table(data=df,\n",
        "                             values='worker_id', \n",
        "                             aggfunc=np.count_nonzero,\n",
        "                             index=df.marital_status)"
      ]
    },
    {
      "cell_type": "code",
      "execution_count": null,
      "metadata": {
        "id": "hmuc1yKTgcER"
      },
      "outputs": [],
      "source": [
        "status = set(df.marital_status.dropna())\n",
        "\n",
        "status.discard('None')\n",
        "status.discard('separated')\n",
        "status.discard('widowed')\n",
        "status = sorted(status)\n",
        "status"
      ]
    },
    {
      "cell_type": "code",
      "execution_count": null,
      "metadata": {
        "id": "VCZiwzfYgcER"
      },
      "outputs": [],
      "source": [
        "marital_status = 100* marital_status / marital_status.sum()\n",
        "marital_status = marital_status.T[status].T"
      ]
    },
    {
      "cell_type": "code",
      "execution_count": null,
      "metadata": {
        "id": "6kf4Eh-9gcES"
      },
      "outputs": [],
      "source": [
        "marital_status"
      ]
    },
    {
      "cell_type": "code",
      "execution_count": null,
      "metadata": {
        "id": "NB2C1oDcgcES"
      },
      "outputs": [],
      "source": [
        "ax = marital_status.plot.bar(fontsize='large')\n",
        "ax.set_title(\"Marital Status of Workers\", fontsize='large')\n",
        "ax.set_xlabel(\"Marital Status\", fontsize='small')\n",
        "ax.set_ylabel(\"Percentage of Workers\", fontsize='large')\n",
        "ax.legend([''])\n",
        "\n",
        "fmt = '%.0f%%' # Format you want the ticks, e.g. '40%'\n",
        "yticks = mtick.FormatStrFormatter(fmt)\n",
        "ax.yaxis.set_major_formatter(yticks)\n",
        "\n",
        "fig = ax.get_figure()\n",
        "fig.savefig('plots/marital-status.pdf', bbox_inches='tight')"
      ]
    },
    {
      "cell_type": "code",
      "execution_count": null,
      "metadata": {
        "id": "5jb3k6LogcES"
      },
      "outputs": [],
      "source": [
        "married_table = pd.crosstab(index=df.date, columns=df.marital_status, \n",
        "                            values='worker_id', aggfunc=np.count_nonzero, normalize='index')"
      ]
    },
    {
      "cell_type": "code",
      "execution_count": null,
      "metadata": {
        "id": "ZSCWP5-ygcES"
      },
      "outputs": [],
      "source": [
        "status = set(df.marital_status.dropna())\n",
        "status.discard('None')\n",
        "status.discard('separated')\n",
        "status.discard('widowed')\n",
        "status = sorted(status)\n",
        "status"
      ]
    },
    {
      "cell_type": "code",
      "execution_count": null,
      "metadata": {
        "id": "PnDnKysYgcET"
      },
      "outputs": [],
      "source": [
        "time_plot(100*married_table[status], \"Marital Status of Workers\", \n",
        "          'plots/marital-status.pdf', confidence = False, legend = True)"
      ]
    },
    {
      "cell_type": "code",
      "execution_count": null,
      "metadata": {
        "id": "rN1B7vDugcET"
      },
      "outputs": [],
      "source": [
        "married_table_in = pd.crosstab(index=df[df.location_country=='IN'].date, columns=df[df.location_country=='IN'].marital_status, \n",
        "                            values='worker_id', aggfunc=np.count_nonzero, normalize='index')"
      ]
    },
    {
      "cell_type": "code",
      "execution_count": null,
      "metadata": {
        "id": "HgdgcZvvgcET"
      },
      "outputs": [],
      "source": [
        "status = set(df.marital_status.dropna())\n",
        "status.discard('None')\n",
        "status.discard('separated')\n",
        "status.discard('widowed')\n",
        "status.discard('engaged')\n",
        "status.discard('divorced')\n",
        "status.discard('cohabitating')\n",
        "status = sorted(status)\n",
        "status"
      ]
    },
    {
      "cell_type": "code",
      "execution_count": null,
      "metadata": {
        "id": "PWD6BhtYgcEU"
      },
      "outputs": [],
      "source": [
        "time_plot(married_table_in[status], \"Marital Status of Indian Workers\",\n",
        "          'plots/marital-status-indian.pdf', confidence = False, legend = True)"
      ]
    },
    {
      "cell_type": "markdown",
      "metadata": {
        "id": "ZPHFS0xOgcEU"
      },
      "source": [
        "### Household Size\n",
        "\n"
      ]
    },
    {
      "cell_type": "code",
      "execution_count": null,
      "metadata": {
        "id": "FvFJOj-qgcEU"
      },
      "outputs": [],
      "source": [
        "hhsize_table = pd.crosstab(index=df.date, columns=df.household_size, \n",
        "                           values='worker_id', aggfunc=np.count_nonzero, normalize='index')"
      ]
    },
    {
      "cell_type": "code",
      "execution_count": null,
      "metadata": {
        "id": "8yb4k_mhgcEU"
      },
      "outputs": [],
      "source": [
        "status = sorted(set(df.household_size.dropna()))"
      ]
    },
    {
      "cell_type": "code",
      "execution_count": null,
      "metadata": {
        "id": "0gG_y86ngcEV"
      },
      "outputs": [],
      "source": [
        "time_plot(hhsize_table[status], \"Household Size\",\n",
        "          'plots/hhsize.pdf', confidence = False, legend = True)"
      ]
    },
    {
      "cell_type": "markdown",
      "metadata": {
        "id": "NFscLyyegcEV"
      },
      "source": [
        "#### HHSize for Single and Married People"
      ]
    },
    {
      "cell_type": "code",
      "execution_count": null,
      "metadata": {
        "id": "ffNfeR8wgcEV"
      },
      "outputs": [],
      "source": [
        "hhsize_table = pd.crosstab(index=df.date, columns=[df.household_size, df.marital_status], \n",
        "                           values='worker_id', aggfunc=np.count_nonzero, normalize='index')"
      ]
    },
    {
      "cell_type": "code",
      "execution_count": null,
      "metadata": {
        "id": "VclhoPp4gcEV"
      },
      "outputs": [],
      "source": [
        "import itertools\n",
        "\n",
        "marital = set(df.marital_status.dropna())\n",
        "marital.discard('None')\n",
        "marital.discard('separated')\n",
        "marital.discard('widowed')\n",
        "marital.discard('engaged')\n",
        "marital.discard('divorced')\n",
        "marital.discard('cohabitating')\n",
        "# marital.discard('single')\n",
        "marital.discard('married')\n",
        "\n",
        "\n",
        "hhsize = set(df.household_size.dropna())\n",
        "# hhsize.discard('1')\n",
        "# hhsize.discard('2')\n",
        "# hhsize.discard('3')\n",
        "# hhsize.discard('4')\n",
        "# hhsize.discard('5+')\n",
        "\n",
        "status = sorted(itertools.product(hhsize, marital))\n",
        "status"
      ]
    },
    {
      "cell_type": "code",
      "execution_count": null,
      "metadata": {
        "id": "tOQHRiyhgcEW"
      },
      "outputs": [],
      "source": [
        "time_plot(100*hhsize_table[status], \"Household Size for Singles\", 'plots/hhsize-singles.pdf', confidence = False, legend = True)"
      ]
    },
    {
      "cell_type": "code",
      "execution_count": null,
      "metadata": {
        "id": "I9sm8iphgcEW"
      },
      "outputs": [],
      "source": [
        "import itertools\n",
        "\n",
        "marital = set(df.marital_status.dropna())\n",
        "marital.discard('None')\n",
        "marital.discard('separated')\n",
        "marital.discard('widowed')\n",
        "marital.discard('engaged')\n",
        "marital.discard('divorced')\n",
        "marital.discard('cohabitating')\n",
        "marital.discard('single')\n",
        "# marital.discard('married')\n",
        "\n",
        "\n",
        "hhsize = set(df.household_size.dropna())\n",
        "# hhsize.discard('1')\n",
        "# hhsize.discard('2')\n",
        "# hhsize.discard('3')\n",
        "# hhsize.discard('4')\n",
        "# hhsize.discard('5+')\n",
        "\n",
        "status = sorted(itertools.product(hhsize, marital))\n",
        "status"
      ]
    },
    {
      "cell_type": "code",
      "execution_count": null,
      "metadata": {
        "id": "fYxe1L2IgcEW"
      },
      "outputs": [],
      "source": [
        "time_plot(100*hhsize_table[status], \"Household Size for Married\", 'plots/hhsize-married.pdf', confidence = False, legend = True)"
      ]
    },
    {
      "cell_type": "markdown",
      "metadata": {
        "id": "KQf52ogAgcEX"
      },
      "source": [
        "### Household Income"
      ]
    },
    {
      "cell_type": "code",
      "execution_count": null,
      "metadata": {
        "id": "iMI1qdkRgcEX"
      },
      "outputs": [],
      "source": [
        "df['household_income'] = df['household_income'].apply(lambda x:x.replace('$',''))\n",
        "income = pd.pivot_table(data=df[df.location_country=='US'],\n",
        "                             values='worker_id', \n",
        "                             aggfunc=np.count_nonzero,\n",
        "                             index=df[df.location_country=='US'].household_income)"
      ]
    },
    {
      "cell_type": "code",
      "execution_count": null,
      "metadata": {
        "id": "6NTXm5tagcEX"
      },
      "outputs": [],
      "source": [
        "status = sorted(set(df.household_income.dropna()))\n",
        "# Reconfiguring the order\n",
        "status[0],  status[1], status[7] = status[7], status[0], status[1]\n",
        "income = income.reindex(status)\n",
        "income = income / income.sum()\n",
        "income_df = income.cumsum()*100\n",
        "income_df"
      ]
    },
    {
      "cell_type": "code",
      "execution_count": null,
      "metadata": {
        "id": "JGMmafw_gcEX"
      },
      "outputs": [],
      "source": [
        "# https://en.wikipedia.org/wiki/Household_income_in_the_United_States\n",
        "census_income_dict = [\n",
        "{'household_income': 'Less than 10,000', 'US Population' : 3.67},\n",
        "{'household_income': '10,000-14,999',  'US Population'  : 7.14},\n",
        "{'household_income': '15,000-24,999',  'US Population' : 18.01},\n",
        "{'household_income': '25,000-39,999',  'US Population' : 33.63},\n",
        "{'household_income': '40,000-59,999',  'US Population' : 50.83},\n",
        "{'household_income': '60,000-74,999',  'US Population' : 60.79},\n",
        "{'household_income': '75,000-99,999',  'US Population' : 73.45},\n",
        "{'household_income': '100,000 or more',  'US Population' : 100},   \n",
        "]\n",
        "census = pd.DataFrame(census_income_dict)\n",
        "census.set_index('household_income', inplace=True)\n"
      ]
    },
    {
      "cell_type": "code",
      "execution_count": null,
      "metadata": {
        "id": "wUiIP5MygcEY"
      },
      "outputs": [],
      "source": [
        "census"
      ]
    },
    {
      "cell_type": "code",
      "execution_count": null,
      "metadata": {
        "id": "1btbj871gcEY"
      },
      "outputs": [],
      "source": [
        "df_income = income_df.join(census)\n",
        "df_income.drop('100,000 or more', inplace=True)"
      ]
    },
    {
      "cell_type": "code",
      "execution_count": null,
      "metadata": {
        "id": "yaYo7FVfgcEY"
      },
      "outputs": [],
      "source": [
        "rename_dict = {\n",
        "    'Less than 10,000': 10000,\n",
        "    '10,000-14,999':  15000,\n",
        "    '15,000-24,999':  25000,\n",
        "    '25,000-39,999': 40000,\n",
        "    '40,000-59,999': 60000,\n",
        "    '60,000-74,999': 75000,\n",
        "    '75,000-99,999': 100000}\n",
        "\n",
        "df_income.rename(index=rename_dict, inplace=True)\n",
        "df_income"
      ]
    },
    {
      "cell_type": "code",
      "execution_count": null,
      "metadata": {
        "id": "FGfhTg09gcEZ"
      },
      "outputs": [],
      "source": []
    },
    {
      "cell_type": "code",
      "execution_count": null,
      "metadata": {
        "id": "FzsVHVXDgcEa"
      },
      "outputs": [],
      "source": [
        "tmp = pd.DataFrame([{'household_income': 0, 'US Population':0, 'worker_id': 0}]).set_index('household_income')\n",
        "df_income = df_income.append(tmp).sort_index()"
      ]
    },
    {
      "cell_type": "code",
      "execution_count": null,
      "metadata": {
        "id": "ducNksL1gcEa"
      },
      "outputs": [],
      "source": [
        "ax = df_income['worker_id'].plot(fontsize='large', linewidth=5)\n",
        "ax = df_income['US Population'].plot(fontsize='large', linewidth=5, linestyle='--', ax = ax)\n",
        "\n",
        "fmt = '%.0f%%' # Format you want the ticks, e.g. '40%'\n",
        "yticks = mtick.FormatStrFormatter(fmt)\n",
        "ax.yaxis.set_major_formatter(yticks)\n",
        "ax.set_xlim([0,100000])\n",
        "\n",
        "\n",
        "ax.set_title(\"Household Income of of Mechanical Turk Workers (CDF)\", fontsize='large')\n",
        "ax.set_xlabel(\"Household Income\", fontsize='large')\n",
        "ax.set_ylabel(\"Percentage of Workers\", fontsize='large')\n",
        "\n",
        "ax.legend(['Mechanical Turk', 'US Population'], fontsize='large')\n",
        "\n",
        "fig = ax.get_figure()\n",
        "fig.savefig('plots/income.pdf', bbox_inches='tight')"
      ]
    },
    {
      "cell_type": "code",
      "execution_count": null,
      "metadata": {
        "id": "h11cLVKkgcEa"
      },
      "outputs": [],
      "source": [
        "hhincome_table = pd.crosstab(index=df.date, columns=df.household_income, \n",
        "                           values='worker_id', aggfunc=np.count_nonzero, normalize='index')\n",
        "\n",
        "status = sorted(set(df.household_income.dropna()))\n",
        "\n",
        "# Reconfiguring the order\n",
        "status[0],  status[1], status[7] = status[7], status[0], status[1]\n",
        "status"
      ]
    },
    {
      "cell_type": "code",
      "execution_count": null,
      "metadata": {
        "id": "wAsxlc_egcEb"
      },
      "outputs": [],
      "source": [
        "fm = hhincome_table[sorted(status)].ewm(span=30).mean()\n",
        "fs = hhincome_table[sorted(status)].ewm(span=30).std() \n",
        "plt.figure(figsize = (30,20))\n",
        "plt.tick_params(labelsize=30)\n",
        "\n",
        "incomes = [fm[d] for d in status]\n",
        "\n",
        "plt.stackplot(fm.index, incomes, alpha=0.75)\n",
        "plt.ylim([0.0,1.0])\n",
        "\n",
        "ax = plt.gca()\n",
        "ax.set_title(\"Household Income\", fontsize='x-large', y=1.05)\n",
        "ax.set_ylabel(\"Percentage of Workers\", fontsize='x-large')\n",
        "ax.set_xlabel(\"Date\", fontsize='x-large')\n",
        "\n",
        "\n",
        "legend = []\n",
        "for stat in status:\n",
        "    s = stat.replace('$','')\n",
        "    legend.append(s)\n",
        "    \n",
        "ax.legend(legend, fontsize='x-large', fancybox=True, frameon = True, loc=\"upper center\", ncol=4, \n",
        "         bbox_to_anchor=(0.5, -0.15))"
      ]
    },
    {
      "cell_type": "code",
      "execution_count": null,
      "metadata": {
        "id": "ssfQ7MacgcEb"
      },
      "outputs": [],
      "source": []
    },
    {
      "cell_type": "code",
      "execution_count": null,
      "metadata": {
        "id": "RQ_s16eFgcEb"
      },
      "outputs": [],
      "source": []
    }
  ],
  "metadata": {
    "kernelspec": {
      "display_name": "Python 3",
      "language": "python",
      "name": "python3"
    },
    "language_info": {
      "codemirror_mode": {
        "name": "ipython",
        "version": 3
      },
      "file_extension": ".py",
      "mimetype": "text/x-python",
      "name": "python",
      "nbconvert_exporter": "python",
      "pygments_lexer": "ipython3",
      "version": "3.5.2"
    },
    "colab": {
      "provenance": [],
      "include_colab_link": true
    }
  },
  "nbformat": 4,
  "nbformat_minor": 0
}