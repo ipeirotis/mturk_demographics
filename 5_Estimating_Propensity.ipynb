{
  "cells": [
    {
      "cell_type": "markdown",
      "metadata": {
        "id": "view-in-github",
        "colab_type": "text"
      },
      "source": [
        "<a href=\"https://colab.research.google.com/github/ipeirotis/mturk_demographics/blob/master/5_Estimating_Propensity.ipynb\" target=\"_parent\"><img src=\"https://colab.research.google.com/assets/colab-badge.svg\" alt=\"Open In Colab\"/></a>"
      ]
    },
    {
      "cell_type": "markdown",
      "metadata": {
        "id": "Hosw2BWv29MK"
      },
      "source": [
        "### Loading data\n",
        "\n",
        "Below we have the code that retrieves the data from the  Mechanical Turk Tracker Demographics API."
      ]
    },
    {
      "cell_type": "code",
      "execution_count": 1,
      "metadata": {
        "colab": {
          "base_uri": "https://localhost:8080/"
        },
        "id": "QZ0tutL-29ML",
        "outputId": "2232e199-48df-4bc3-b85b-1ba18ba1e557"
      },
      "outputs": [
        {
          "output_type": "execute_result",
          "data": {
            "text/plain": [
              "time                                     object\n",
              "hit_answered_date           datetime64[ns, UTC]\n",
              "worker_id                                object\n",
              "hit_creation_date           datetime64[ns, UTC]\n",
              "gender                                   object\n",
              "household_size                         category\n",
              "household_income                       category\n",
              "marital_status                         category\n",
              "year_of_birth                           float64\n",
              "time_spent_on_mturk                      object\n",
              "languages_spoken                         object\n",
              "weekly_income_from_mturk                 object\n",
              "educational_level                        object\n",
              "location_country                       category\n",
              "location_region                          object\n",
              "location_city                            object\n",
              "date                             datetime64[ns]\n",
              "dtype: object"
            ]
          },
          "metadata": {},
          "execution_count": 1
        }
      ],
      "source": [
        "import pandas as pd\n",
        "URL = 'https://github.com/ipeirotis/mturk_demographics/raw/master/dataset_29may2023_16_mar2015.zip'\n",
        "df = pd.read_csv(URL, low_memory=False)\n",
        "# df.drop(df.columns[0], axis=1, inplace=True) # drop the \"index\" column\n",
        "# # We now transform our API answer into a flat table\n",
        "\n",
        "# # Convert all NaN values to None\n",
        "# df = df.where(pd.notnull(df), None)\n",
        "\n",
        "# df['hit_answered_date'] = pd.to_datetime(df['hit_answered_date'])\n",
        "# df['hit_creation_date'] = pd.to_datetime(df['hit_creation_date'])\n",
        "# df[\"post_to_completion_secs\"] = (df['hit_answered_date'] - df['hit_creation_date']).dt.seconds\n",
        "\n",
        "# df[\"household_income\"]=df[\"household_income\"].astype(\"category\")\n",
        "# df[\"household_size\"]=df[\"household_size\"].astype(\"category\")\n",
        "# df[\"location_country\"]=df[\"location_country\"].astype(\"category\")\n",
        "# df[\"marital_status\"]=df[\"marital_status\"].astype(\"category\")\n",
        "# df['date'] = pd.to_datetime(df['hit_answered_date'].apply(lambda x : x.date()))\n",
        "# df['time'] = df['hit_answered_date'].dt.round('min').apply(lambda x : x.time())\n",
        "# df.dtypes\n",
        "\n",
        "df.drop(df.columns[0], axis=1, inplace=True) # drop the \"index\" column\n",
        "# We now transform our API answer into a flat table\n",
        "# and set the right data types\n",
        "df[\"hit_answered_date\"]=pd.to_datetime(df[\"hit_answered_date\"])\n",
        "df[\"hit_creation_date\"]=pd.to_datetime(df[\"hit_creation_date\"])\n",
        "df[\"household_income\"]=df[\"household_income\"].astype(\"category\")\n",
        "df[\"household_size\"]=df[\"household_size\"].astype(\"category\")\n",
        "df[\"location_country\"]=df[\"location_country\"].astype(\"category\")\n",
        "df[\"marital_status\"]=df[\"marital_status\"].astype(\"category\")\n",
        "df['date'] = pd.to_datetime(df['hit_answered_date'].apply(lambda x : x.date()))\n",
        "df['time'] = df['hit_answered_date'].dt.round('min').apply(lambda x : x.time())\n",
        "df.dtypes"
      ]
    },
    {
      "cell_type": "code",
      "execution_count": 2,
      "metadata": {
        "colab": {
          "base_uri": "https://localhost:8080/"
        },
        "id": "6eRJJTw729MM",
        "outputId": "27d8eb40-c1af-42f3-fb9e-db0ac63caf3d"
      },
      "outputs": [
        {
          "output_type": "stream",
          "name": "stdout",
          "text": [
            "2015-03-16 18:52:03.956000+00:00\n",
            "2023-05-30 01:48:36.508000+00:00\n",
            "2996\n",
            "98\n"
          ]
        }
      ],
      "source": [
        "import datetime\n",
        "from dateutil.relativedelta import relativedelta\n",
        "minDate = min(df['hit_answered_date'])\n",
        "maxDate = max(df['hit_answered_date'])\n",
        "days = (maxDate - minDate).days\n",
        "# Calculate the difference between the dates using relativedelta\n",
        "date_difference = relativedelta(maxDate, minDate)\n",
        "\n",
        "# Calculate the total months difference\n",
        "total_months = date_difference.years * 12 + date_difference.months\n",
        "\n",
        "print(minDate)\n",
        "print(maxDate)\n",
        "print(days)\n",
        "print(total_months)"
      ]
    },
    {
      "cell_type": "code",
      "execution_count": 3,
      "metadata": {
        "id": "SnDaJ-5129MM"
      },
      "outputs": [],
      "source": [
        "from time import gmtime, strftime\n",
        "def t():\n",
        "    print(strftime(\"%Y-%m-%d %H:%M:%S\", gmtime()))\n",
        ""
      ]
    },
    {
      "cell_type": "markdown",
      "metadata": {
        "id": "-OIypXm-29MM"
      },
      "source": [
        "### Exploratory plots"
      ]
    },
    {
      "cell_type": "code",
      "execution_count": 4,
      "metadata": {
        "id": "3w-UmBmo29MM"
      },
      "outputs": [],
      "source": [
        "%matplotlib inline\n",
        "import matplotlib as mpl\n",
        "import matplotlib.pyplot as plt\n",
        "import seaborn as sns\n",
        "\n",
        "sns.set_style(\"whitegrid\")\n",
        "mpl.rc(\"figure\", figsize=(16, 8))\n",
        "mpl.rcParams.update({'font.size': 22})"
      ]
    },
    {
      "cell_type": "markdown",
      "metadata": {
        "id": "VMMwkvwX29MM"
      },
      "source": [
        "### New Worker IDs discovered"
      ]
    },
    {
      "cell_type": "code",
      "execution_count": 5,
      "metadata": {
        "id": "pdfWKT5I29MN"
      },
      "outputs": [],
      "source": [
        "def getWorkerIDs(df, startDate, endDate):\n",
        "    '''\n",
        "    Returns the set of distinct workers that participated in the surveys between the two dates\n",
        "    '''\n",
        "    workers = df[\"worker_id\"][(df['hit_answered_date']>=startDate) & (df['hit_answered_date']<endDate)]\n",
        "    unique = set(workers)\n",
        "    return {\n",
        "        \"workers\": len(workers),\n",
        "        \"unique\": len(unique),\n",
        "        \"ratio\": (len(unique) +0.5) / (len(workers) + 0.5),\n",
        "        \"start\": startDate,\n",
        "        \"end\": endDate\n",
        "    }"
      ]
    },
    {
      "cell_type": "code",
      "execution_count": 6,
      "metadata": {
        "colab": {
          "base_uri": "https://localhost:8080/"
        },
        "id": "AOaTZfeC29MN",
        "outputId": "5c159528-1a84-4a66-88ca-13d923726d3f"
      },
      "outputs": [
        {
          "output_type": "execute_result",
          "data": {
            "text/plain": [
              "2905"
            ]
          },
          "metadata": {},
          "execution_count": 6
        }
      ],
      "source": [
        "dates = sorted(set(df['date']))\n",
        "len(dates)"
      ]
    },
    {
      "cell_type": "code",
      "source": [
        "minDate"
      ],
      "metadata": {
        "colab": {
          "base_uri": "https://localhost:8080/"
        },
        "id": "FxIqERSuDJuY",
        "outputId": "fbdd29b0-280d-4ec3-a11e-3a00c77c6f9b"
      },
      "execution_count": 7,
      "outputs": [
        {
          "output_type": "execute_result",
          "data": {
            "text/plain": [
              "Timestamp('2015-03-16 18:52:03.956000+0000', tz='UTC')"
            ]
          },
          "metadata": {},
          "execution_count": 7
        }
      ]
    },
    {
      "cell_type": "code",
      "execution_count": 8,
      "metadata": {
        "id": "d7w65Ieg29MN"
      },
      "outputs": [],
      "source": [
        "import pytz\n",
        "from datetime import date, time, datetime\n",
        "dates = sorted(set(df['date']))\n",
        "given_time = time(0, 0, 0, 0)  # Hours, minutes, seconds, microseconds\n",
        "\n",
        "results = []\n",
        "for d in dates:\n",
        "   # Combine date and time to create a datetime object\n",
        "    combined_datetime = datetime.combine(d, given_time)\n",
        "    # Set the timezone for the combined datetime (e.g., UTC)\n",
        "    combined_datetime_with_timezone = pytz.utc.localize(combined_datetime)\n",
        "    result = getWorkerIDs(df, minDate, pd.Timestamp(combined_datetime_with_timezone))\n",
        "    results.append( result )"
      ]
    },
    {
      "cell_type": "code",
      "execution_count": 9,
      "metadata": {
        "colab": {
          "base_uri": "https://localhost:8080/",
          "height": 483
        },
        "id": "n8moN-bS29MN",
        "outputId": "8a081b78-239a-456b-975c-4e27d0e46df2"
      },
      "outputs": [
        {
          "output_type": "execute_result",
          "data": {
            "text/plain": [
              "<Axes: xlabel='end'>"
            ]
          },
          "metadata": {},
          "execution_count": 9
        },
        {
          "output_type": "display_data",
          "data": {
            "text/plain": [
              "<Figure size 1600x800 with 1 Axes>"
            ],
            "image/png": "[encoded data removed]"
          },
          "metadata": {}
        }
      ],
      "source": [
        "workers = pd.DataFrame(results)\n",
        "workers.set_index('end', inplace = True)\n",
        "workers[ ['workers', 'unique'] ].plot()"
      ]
    },
    {
      "cell_type": "code",
      "execution_count": 10,
      "metadata": {
        "colab": {
          "base_uri": "https://localhost:8080/",
          "height": 505
        },
        "id": "39idtySj29MN",
        "outputId": "783fef63-1276-47b4-e77a-7c3825fa714f"
      },
      "outputs": [
        {
          "output_type": "execute_result",
          "data": {
            "text/plain": [
              "<Axes: xlabel='end'>"
            ]
          },
          "metadata": {},
          "execution_count": 10
        },
        {
          "output_type": "display_data",
          "data": {
            "text/plain": [
              "<Figure size 1600x800 with 1 Axes>"
            ],
            "image/png": "[encoded data removed]"
          },
          "metadata": {}
        }
      ],
      "source": [
        "workers[ ['ratio'] ].plot()"
      ]
    },
    {
      "cell_type": "markdown",
      "metadata": {
        "id": "rlsqiGuT29MN"
      },
      "source": [
        "### Selection bias\n",
        "\n",
        "The analysis above indicated that we should expect to see around 10K-15K workers on Mechanical Turk, with an average half-life of around a year and a half. Over the last two years, this means around 35K-40K workers total.\n",
        "\n",
        "Out of these workers , every month, we survey around $24*4*30 \\approx 3K$ workers, for a total of around 80K surveys so far.\n",
        "\n",
        "If every worker had uniform chance of participating, we would have expected that on average we would see each worker twice.\n",
        "\n",
        "\n",
        "\n"
      ]
    },
    {
      "cell_type": "code",
      "execution_count": 11,
      "metadata": {
        "colab": {
          "base_uri": "https://localhost:8080/"
        },
        "id": "1aP1RKfZ29MN",
        "outputId": "b9878241-2f66-44c8-d53e-b7e724a5650b"
      },
      "outputs": [
        {
          "output_type": "execute_result",
          "data": {
            "text/plain": [
              "291458"
            ]
          },
          "metadata": {},
          "execution_count": 11
        }
      ],
      "source": [
        "len(df)"
      ]
    },
    {
      "cell_type": "code",
      "execution_count": 12,
      "metadata": {
        "colab": {
          "base_uri": "https://localhost:8080/"
        },
        "id": "_LvH9OQX29MN",
        "outputId": "39a2e427-07b4-4543-f41f-f9fbe04740e1"
      },
      "outputs": [
        {
          "output_type": "execute_result",
          "data": {
            "text/plain": [
              "0.05355488612424432"
            ]
          },
          "metadata": {},
          "execution_count": 12
        }
      ],
      "source": [
        "s = pd.DataFrame(df['worker_id'].value_counts()).cumsum()['worker_id'].values/len(df)\n",
        "sum(s<0.5)/len(df)"
      ]
    },
    {
      "cell_type": "code",
      "execution_count": 13,
      "metadata": {
        "colab": {
          "base_uri": "https://localhost:8080/",
          "height": 206
        },
        "id": "lhRUyNTL29MN",
        "outputId": "1eca9d18-637d-47ca-f14c-d3333a750ca1"
      },
      "outputs": [
        {
          "output_type": "execute_result",
          "data": {
            "text/plain": [
              "                                              worker_id\n",
              "MTnL4pK3QezPpfLZZqNfgyERy1w5vsTph8bj8XxdvAA=         92\n",
              "QEnrfikvIRDKUhzaqxMDohvMU4VO4T3BIc6RGykyABs=         91\n",
              "st91SPN5WVyhhKTlNvyt/wZPhp585ctyQYtPxqocsWo=         90\n",
              "8GHkSBMoEXeFRwEFlWOdSgMJ9DgE2HyaoQzbjiwAAX8=         87\n",
              "rCkQ2NdOt2tH+8/wbYeQMlKgnSWlIim6rYrJni7p1lQ=         81"
            ],
            "text/html": [
              "\n",
              "  <div id=\"df-292b71ba-9170-4054-9459-367047033027\" class=\"colab-df-container\">\n",
              "    <div>\n",
              "<style scoped>\n",
              "    .dataframe tbody tr th:only-of-type {\n",
              "        vertical-align: middle;\n",
              "    }\n",
              "\n",
              "    .dataframe tbody tr th {\n",
              "        vertical-align: top;\n",
              "    }\n",
              "\n",
              "    .dataframe thead th {\n",
              "        text-align: right;\n",
              "    }\n",
              "</style>\n",
              "<table border=\"1\" class=\"dataframe\">\n",
              "  <thead>\n",
              "    <tr style=\"text-align: right;\">\n",
              "      <th></th>\n",
              "      <th>worker_id</th>\n",
              "    </tr>\n",
              "  </thead>\n",
              "  <tbody>\n",
              "    <tr>\n",
              "      <th>MTnL4pK3QezPpfLZZqNfgyERy1w5vsTph8bj8XxdvAA=</th>\n",
              "      <td>92</td>\n",
              "    </tr>\n",
              "    <tr>\n",
              "      <th>QEnrfikvIRDKUhzaqxMDohvMU4VO4T3BIc6RGykyABs=</th>\n",
              "      <td>91</td>\n",
              "    </tr>\n",
              "    <tr>\n",
              "      <th>st91SPN5WVyhhKTlNvyt/wZPhp585ctyQYtPxqocsWo=</th>\n",
              "      <td>90</td>\n",
              "    </tr>\n",
              "    <tr>\n",
              "      <th>8GHkSBMoEXeFRwEFlWOdSgMJ9DgE2HyaoQzbjiwAAX8=</th>\n",
              "      <td>87</td>\n",
              "    </tr>\n",
              "    <tr>\n",
              "      <th>rCkQ2NdOt2tH+8/wbYeQMlKgnSWlIim6rYrJni7p1lQ=</th>\n",
              "      <td>81</td>\n",
              "    </tr>\n",
              "  </tbody>\n",
              "</table>\n",
              "</div>\n",
              "    <div class=\"colab-df-buttons\">\n",
              "\n",
              "  <div class=\"colab-df-container\">\n",
              "    <button class=\"colab-df-convert\" onclick=\"convertToInteractive('df-292b71ba-9170-4054-9459-367047033027')\"\n",
              "            title=\"Convert this dataframe to an interactive table.\"\n",
              "            style=\"display:none;\">\n",
              "\n",
              "  <svg xmlns=\"http://www.w3.org/2000/svg\" height=\"24px\" viewBox=\"0 -960 960 960\">\n",
              "    <path d=\"M120-120v-720h720v720H120Zm60-500h600v-160H180v160Zm220 220h160v-160H400v160Zm0 220h160v-160H400v160ZM180-400h160v-160H180v160Zm440 0h160v-160H620v160ZM180-180h160v-160H180v160Zm440 0h160v-160H620v160Z\"/>\n",
              "  </svg>\n",
              "    </button>\n",
              "\n",
              "  <style>\n",
              "    .colab-df-container {\n",
              "      display:flex;\n",
              "      gap: 12px;\n",
              "    }\n",
              "\n",
              "    .colab-df-convert {\n",
              "      background-color: #E8F0FE;\n",
              "      border: none;\n",
              "      border-radius: 50%;\n",
              "      cursor: pointer;\n",
              "      display: none;\n",
              "      fill: #1967D2;\n",
              "      height: 32px;\n",
              "      padding: 0 0 0 0;\n",
              "      width: 32px;\n",
              "    }\n",
              "\n",
              "    .colab-df-convert:hover {\n",
              "      background-color: #E2EBFA;\n",
              "      box-shadow: 0px 1px 2px rgba(60, 64, 67, 0.3), 0px 1px 3px 1px rgba(60, 64, 67, 0.15);\n",
              "      fill: #174EA6;\n",
              "    }\n",
              "\n",
              "    .colab-df-buttons div {\n",
              "      margin-bottom: 4px;\n",
              "    }\n",
              "\n",
              "    [theme=dark] .colab-df-convert {\n",
              "      background-color: #3B4455;\n",
              "      fill: #D2E3FC;\n",
              "    }\n",
              "\n",
              "    [theme=dark] .colab-df-convert:hover {\n",
              "      background-color: #434B5C;\n",
              "      box-shadow: 0px 1px 3px 1px rgba(0, 0, 0, 0.15);\n",
              "      filter: drop-shadow(0px 1px 2px rgba(0, 0, 0, 0.3));\n",
              "      fill: #FFFFFF;\n",
              "    }\n",
              "  </style>\n",
              "\n",
              "    <script>\n",
              "      const buttonEl =\n",
              "        document.querySelector('#df-292b71ba-9170-4054-9459-367047033027 button.colab-df-convert');\n",
              "      buttonEl.style.display =\n",
              "        google.colab.kernel.accessAllowed ? 'block' : 'none';\n",
              "\n",
              "      async function convertToInteractive(key) {\n",
              "        const element = document.querySelector('#df-292b71ba-9170-4054-9459-367047033027');\n",
              "        const dataTable =\n",
              "          await google.colab.kernel.invokeFunction('convertToInteractive',\n",
              "                                                    [key], {});\n",
              "        if (!dataTable) return;\n",
              "\n",
              "        const docLinkHtml = 'Like what you see? Visit the ' +\n",
              "          '<a target=\"_blank\" href=https://colab.research.google.com/notebooks/data_table.ipynb>data table notebook</a>'\n",
              "          + ' to learn more about interactive tables.';\n",
              "        element.innerHTML = '';\n",
              "        dataTable['output_type'] = 'display_data';\n",
              "        await google.colab.output.renderOutput(dataTable, element);\n",
              "        const docLink = document.createElement('div');\n",
              "        docLink.innerHTML = docLinkHtml;\n",
              "        element.appendChild(docLink);\n",
              "      }\n",
              "    </script>\n",
              "  </div>\n",
              "\n",
              "\n",
              "<div id=\"df-cc897a4d-0288-43a7-82e3-25497667df9e\">\n",
              "  <button class=\"colab-df-quickchart\" onclick=\"quickchart('df-cc897a4d-0288-43a7-82e3-25497667df9e')\"\n",
              "            title=\"Suggest charts.\"\n",
              "            style=\"display:none;\">\n",
              "\n",
              "<svg xmlns=\"http://www.w3.org/2000/svg\" height=\"24px\"viewBox=\"0 0 24 24\"\n",
              "     width=\"24px\">\n",
              "    <g>\n",
              "        <path d=\"M19 3H5c-1.1 0-2 .9-2 2v14c0 1.1.9 2 2 2h14c1.1 0 2-.9 2-2V5c0-1.1-.9-2-2-2zM9 17H7v-7h2v7zm4 0h-2V7h2v10zm4 0h-2v-4h2v4z\"/>\n",
              "    </g>\n",
              "</svg>\n",
              "  </button>\n",
              "\n",
              "<style>\n",
              "  .colab-df-quickchart {\n",
              "    background-color: #E8F0FE;\n",
              "    border: none;\n",
              "    border-radius: 50%;\n",
              "    cursor: pointer;\n",
              "    display: none;\n",
              "    fill: #1967D2;\n",
              "    height: 32px;\n",
              "    padding: 0 0 0 0;\n",
              "    width: 32px;\n",
              "  }\n",
              "\n",
              "  .colab-df-quickchart:hover {\n",
              "    background-color: #E2EBFA;\n",
              "    box-shadow: 0px 1px 2px rgba(60, 64, 67, 0.3), 0px 1px 3px 1px rgba(60, 64, 67, 0.15);\n",
              "    fill: #174EA6;\n",
              "  }\n",
              "\n",
              "  [theme=dark] .colab-df-quickchart {\n",
              "    background-color: #3B4455;\n",
              "    fill: #D2E3FC;\n",
              "  }\n",
              "\n",
              "  [theme=dark] .colab-df-quickchart:hover {\n",
              "    background-color: #434B5C;\n",
              "    box-shadow: 0px 1px 3px 1px rgba(0, 0, 0, 0.15);\n",
              "    filter: drop-shadow(0px 1px 2px rgba(0, 0, 0, 0.3));\n",
              "    fill: #FFFFFF;\n",
              "  }\n",
              "</style>\n",
              "\n",
              "  <script>\n",
              "    async function quickchart(key) {\n",
              "      const charts = await google.colab.kernel.invokeFunction(\n",
              "          'suggestCharts', [key], {});\n",
              "    }\n",
              "    (() => {\n",
              "      let quickchartButtonEl =\n",
              "        document.querySelector('#df-cc897a4d-0288-43a7-82e3-25497667df9e button');\n",
              "      quickchartButtonEl.style.display =\n",
              "        google.colab.kernel.accessAllowed ? 'block' : 'none';\n",
              "    })();\n",
              "  </script>\n",
              "</div>\n",
              "    </div>\n",
              "  </div>\n"
            ]
          },
          "metadata": {},
          "execution_count": 13
        }
      ],
      "source": [
        "pd.DataFrame(df['worker_id'].value_counts()).head(5)"
      ]
    },
    {
      "cell_type": "code",
      "execution_count": 14,
      "metadata": {
        "colab": {
          "base_uri": "https://localhost:8080/",
          "height": 649
        },
        "id": "00shDMQw29MN",
        "outputId": "1ceaa70f-83a8-4149-cc36-da964d891286"
      },
      "outputs": [
        {
          "output_type": "execute_result",
          "data": {
            "text/plain": [
              "                                                  time  \\\n",
              "worker_id                                                \n",
              "GIQvi1p3x6/xUloDxpXza3DJKzO9QxtN0yPb49FMiY8=  14:40:00   \n",
              "OuVAI9jQUJ1TrM8tfCrr70KsearC0kNbovFD9prQ91M=  09:06:00   \n",
              "rXYK7nenLvxPYqFIOk9Ik5ALPFsXma+Lah1+1Ct+5y4=  01:24:00   \n",
              "ndej+ke5aXKdkZmPuI2Vz878ZjtyA4r2+7D4zA05Pvw=  03:51:00   \n",
              "E2skbsh2TBfWqeUSwFDajfQfJpMB2hqjKkzFh26W2PY=  15:42:00   \n",
              "...                                                ...   \n",
              "QTMSwD3FlJ6k9Zi0bBn7H0AarzqzXQKJkXhTjyNywpo=  17:44:00   \n",
              "nQRH6wtEllzoLkzvvlvwWZTj2Nyn5u41jX/PdMRoBHE=  20:18:00   \n",
              "8WSQ72ayS/EphFphErUhzMFzGk/OYhCQo37YaJyUpOo=  04:50:00   \n",
              "6A95/jVE8cufim//yTIZbDouAjKIjN5k2C9d++XY3Q4=  11:20:00   \n",
              "613pmSV0k1EyYuzgCo7KiTgJBynKsp+J5UbJXv0MD7I=  19:08:00   \n",
              "\n",
              "                                                            hit_answered_date  \\\n",
              "worker_id                                                                       \n",
              "GIQvi1p3x6/xUloDxpXza3DJKzO9QxtN0yPb49FMiY8= 2020-11-07 14:40:08.402000+00:00   \n",
              "OuVAI9jQUJ1TrM8tfCrr70KsearC0kNbovFD9prQ91M= 2020-11-13 09:05:39.583000+00:00   \n",
              "rXYK7nenLvxPYqFIOk9Ik5ALPFsXma+Lah1+1Ct+5y4= 2020-11-07 01:24:09.740000+00:00   \n",
              "ndej+ke5aXKdkZmPuI2Vz878ZjtyA4r2+7D4zA05Pvw= 2020-11-06 03:50:54.902000+00:00   \n",
              "E2skbsh2TBfWqeUSwFDajfQfJpMB2hqjKkzFh26W2PY= 2020-11-07 15:42:23.723000+00:00   \n",
              "...                                                                       ...   \n",
              "QTMSwD3FlJ6k9Zi0bBn7H0AarzqzXQKJkXhTjyNywpo= 2021-04-18 17:44:15.374000+00:00   \n",
              "nQRH6wtEllzoLkzvvlvwWZTj2Nyn5u41jX/PdMRoBHE= 2018-09-28 20:17:47.354000+00:00   \n",
              "8WSQ72ayS/EphFphErUhzMFzGk/OYhCQo37YaJyUpOo= 2017-09-13 04:49:30.764000+00:00   \n",
              "6A95/jVE8cufim//yTIZbDouAjKIjN5k2C9d++XY3Q4= 2017-09-17 11:19:40.668000+00:00   \n",
              "613pmSV0k1EyYuzgCo7KiTgJBynKsp+J5UbJXv0MD7I= 2020-03-26 19:07:32.663000+00:00   \n",
              "\n",
              "                                                     hit_creation_date  \\\n",
              "worker_id                                                                \n",
              "GIQvi1p3x6/xUloDxpXza3DJKzO9QxtN0yPb49FMiY8= 2020-11-07 13:33:01+00:00   \n",
              "OuVAI9jQUJ1TrM8tfCrr70KsearC0kNbovFD9prQ91M= 2020-11-13 08:48:01+00:00   \n",
              "rXYK7nenLvxPYqFIOk9Ik5ALPFsXma+Lah1+1Ct+5y4= 2020-11-07 00:33:01+00:00   \n",
              "ndej+ke5aXKdkZmPuI2Vz878ZjtyA4r2+7D4zA05Pvw= 2020-11-06 03:18:00+00:00   \n",
              "E2skbsh2TBfWqeUSwFDajfQfJpMB2hqjKkzFh26W2PY= 2020-11-07 14:48:01+00:00   \n",
              "...                                                                ...   \n",
              "QTMSwD3FlJ6k9Zi0bBn7H0AarzqzXQKJkXhTjyNywpo= 2021-04-18 16:34:01+00:00   \n",
              "nQRH6wtEllzoLkzvvlvwWZTj2Nyn5u41jX/PdMRoBHE= 2018-09-28 19:11:09+00:00   \n",
              "8WSQ72ayS/EphFphErUhzMFzGk/OYhCQo37YaJyUpOo= 2017-09-13 04:46:17+00:00   \n",
              "6A95/jVE8cufim//yTIZbDouAjKIjN5k2C9d++XY3Q4= 2017-09-17 11:16:11+00:00   \n",
              "613pmSV0k1EyYuzgCo7KiTgJBynKsp+J5UbJXv0MD7I= 2020-03-26 15:48:00+00:00   \n",
              "\n",
              "                                              gender household_size  \\\n",
              "worker_id                                                             \n",
              "GIQvi1p3x6/xUloDxpXza3DJKzO9QxtN0yPb49FMiY8=    male              2   \n",
              "OuVAI9jQUJ1TrM8tfCrr70KsearC0kNbovFD9prQ91M=    male              3   \n",
              "rXYK7nenLvxPYqFIOk9Ik5ALPFsXma+Lah1+1Ct+5y4=  female              2   \n",
              "ndej+ke5aXKdkZmPuI2Vz878ZjtyA4r2+7D4zA05Pvw=    male              4   \n",
              "E2skbsh2TBfWqeUSwFDajfQfJpMB2hqjKkzFh26W2PY=  female              4   \n",
              "...                                              ...            ...   \n",
              "QTMSwD3FlJ6k9Zi0bBn7H0AarzqzXQKJkXhTjyNywpo=    male              3   \n",
              "nQRH6wtEllzoLkzvvlvwWZTj2Nyn5u41jX/PdMRoBHE=  female              2   \n",
              "8WSQ72ayS/EphFphErUhzMFzGk/OYhCQo37YaJyUpOo=    male              4   \n",
              "6A95/jVE8cufim//yTIZbDouAjKIjN5k2C9d++XY3Q4=    male              2   \n",
              "613pmSV0k1EyYuzgCo7KiTgJBynKsp+J5UbJXv0MD7I=    male              1   \n",
              "\n",
              "                                             household_income marital_status  \\\n",
              "worker_id                                                                      \n",
              "GIQvi1p3x6/xUloDxpXza3DJKzO9QxtN0yPb49FMiY8=  $25,000-$39,999        married   \n",
              "OuVAI9jQUJ1TrM8tfCrr70KsearC0kNbovFD9prQ91M=  $40,000-$59,999        married   \n",
              "rXYK7nenLvxPYqFIOk9Ik5ALPFsXma+Lah1+1Ct+5y4=  $40,000-$59,999         single   \n",
              "ndej+ke5aXKdkZmPuI2Vz878ZjtyA4r2+7D4zA05Pvw=  $75,000-$99,999        married   \n",
              "E2skbsh2TBfWqeUSwFDajfQfJpMB2hqjKkzFh26W2PY=  $75,000-$99,999        married   \n",
              "...                                                       ...            ...   \n",
              "QTMSwD3FlJ6k9Zi0bBn7H0AarzqzXQKJkXhTjyNywpo=  $25,000-$39,999         single   \n",
              "nQRH6wtEllzoLkzvvlvwWZTj2Nyn5u41jX/PdMRoBHE=  $60,000-$74,999        married   \n",
              "8WSQ72ayS/EphFphErUhzMFzGk/OYhCQo37YaJyUpOo=  $40,000-$59,999        married   \n",
              "6A95/jVE8cufim//yTIZbDouAjKIjN5k2C9d++XY3Q4=  $40,000-$59,999        married   \n",
              "613pmSV0k1EyYuzgCo7KiTgJBynKsp+J5UbJXv0MD7I=  $75,000-$99,999         single   \n",
              "\n",
              "                                              year_of_birth  \\\n",
              "worker_id                                                     \n",
              "GIQvi1p3x6/xUloDxpXza3DJKzO9QxtN0yPb49FMiY8=         1982.0   \n",
              "OuVAI9jQUJ1TrM8tfCrr70KsearC0kNbovFD9prQ91M=         1930.0   \n",
              "rXYK7nenLvxPYqFIOk9Ik5ALPFsXma+Lah1+1Ct+5y4=         1994.0   \n",
              "ndej+ke5aXKdkZmPuI2Vz878ZjtyA4r2+7D4zA05Pvw=         1991.0   \n",
              "E2skbsh2TBfWqeUSwFDajfQfJpMB2hqjKkzFh26W2PY=         1996.0   \n",
              "...                                                     ...   \n",
              "QTMSwD3FlJ6k9Zi0bBn7H0AarzqzXQKJkXhTjyNywpo=         1994.0   \n",
              "nQRH6wtEllzoLkzvvlvwWZTj2Nyn5u41jX/PdMRoBHE=         1957.0   \n",
              "8WSQ72ayS/EphFphErUhzMFzGk/OYhCQo37YaJyUpOo=         1990.0   \n",
              "6A95/jVE8cufim//yTIZbDouAjKIjN5k2C9d++XY3Q4=         1944.0   \n",
              "613pmSV0k1EyYuzgCo7KiTgJBynKsp+J5UbJXv0MD7I=         1984.0   \n",
              "\n",
              "                                                    time_spent_on_mturk  \\\n",
              "worker_id                                                                 \n",
              "GIQvi1p3x6/xUloDxpXza3DJKzO9QxtN0yPb49FMiY8=         2-4 hours per week   \n",
              "OuVAI9jQUJ1TrM8tfCrr70KsearC0kNbovFD9prQ91M=         2-4 hours per week   \n",
              "rXYK7nenLvxPYqFIOk9Ik5ALPFsXma+Lah1+1Ct+5y4=         4-8 hours per week   \n",
              "ndej+ke5aXKdkZmPuI2Vz878ZjtyA4r2+7D4zA05Pvw=         2-4 hours per week   \n",
              "E2skbsh2TBfWqeUSwFDajfQfJpMB2hqjKkzFh26W2PY=         2-4 hours per week   \n",
              "...                                                                 ...   \n",
              "QTMSwD3FlJ6k9Zi0bBn7H0AarzqzXQKJkXhTjyNywpo=         4-8 hours per week   \n",
              "nQRH6wtEllzoLkzvvlvwWZTj2Nyn5u41jX/PdMRoBHE=  Less than 1 hour per week   \n",
              "8WSQ72ayS/EphFphErUhzMFzGk/OYhCQo37YaJyUpOo=        8-20 hours per week   \n",
              "6A95/jVE8cufim//yTIZbDouAjKIjN5k2C9d++XY3Q4=       20-40 hours per week   \n",
              "613pmSV0k1EyYuzgCo7KiTgJBynKsp+J5UbJXv0MD7I=         2-4 hours per week   \n",
              "\n",
              "                                                            languages_spoken  \\\n",
              "worker_id                                                                      \n",
              "GIQvi1p3x6/xUloDxpXza3DJKzO9QxtN0yPb49FMiY8=                   English,Tamil   \n",
              "OuVAI9jQUJ1TrM8tfCrr70KsearC0kNbovFD9prQ91M=                         English   \n",
              "rXYK7nenLvxPYqFIOk9Ik5ALPFsXma+Lah1+1Ct+5y4=                         English   \n",
              "ndej+ke5aXKdkZmPuI2Vz878ZjtyA4r2+7D4zA05Pvw=         English,Malayalam,Tamil   \n",
              "E2skbsh2TBfWqeUSwFDajfQfJpMB2hqjKkzFh26W2PY=                   English,Tamil   \n",
              "...                                                                      ...   \n",
              "QTMSwD3FlJ6k9Zi0bBn7H0AarzqzXQKJkXhTjyNywpo=  English,Spanish,French,Italian   \n",
              "nQRH6wtEllzoLkzvvlvwWZTj2Nyn5u41jX/PdMRoBHE=                         English   \n",
              "8WSQ72ayS/EphFphErUhzMFzGk/OYhCQo37YaJyUpOo=                 English,Spanish   \n",
              "6A95/jVE8cufim//yTIZbDouAjKIjN5k2C9d++XY3Q4=                         English   \n",
              "613pmSV0k1EyYuzgCo7KiTgJBynKsp+J5UbJXv0MD7I=                         English   \n",
              "\n",
              "                                             weekly_income_from_mturk  \\\n",
              "worker_id                                                               \n",
              "GIQvi1p3x6/xUloDxpXza3DJKzO9QxtN0yPb49FMiY8=         $10-$20 per week   \n",
              "OuVAI9jQUJ1TrM8tfCrr70KsearC0kNbovFD9prQ91M=        $50-$100 per week   \n",
              "rXYK7nenLvxPYqFIOk9Ik5ALPFsXma+Lah1+1Ct+5y4=         $20-$50 per week   \n",
              "ndej+ke5aXKdkZmPuI2Vz878ZjtyA4r2+7D4zA05Pvw=         $20-$50 per week   \n",
              "E2skbsh2TBfWqeUSwFDajfQfJpMB2hqjKkzFh26W2PY=         $10-$20 per week   \n",
              "...                                                               ...   \n",
              "QTMSwD3FlJ6k9Zi0bBn7H0AarzqzXQKJkXhTjyNywpo=         $10-$20 per week   \n",
              "nQRH6wtEllzoLkzvvlvwWZTj2Nyn5u41jX/PdMRoBHE=    Less than $1 per week   \n",
              "8WSQ72ayS/EphFphErUhzMFzGk/OYhCQo37YaJyUpOo=       $100-$200 per week   \n",
              "6A95/jVE8cufim//yTIZbDouAjKIjN5k2C9d++XY3Q4=        $50-$100 per week   \n",
              "613pmSV0k1EyYuzgCo7KiTgJBynKsp+J5UbJXv0MD7I=         $10-$20 per week   \n",
              "\n",
              "                                                       educational_level  \\\n",
              "worker_id                                                                  \n",
              "GIQvi1p3x6/xUloDxpXza3DJKzO9QxtN0yPb49FMiY8=    Graduate degree, Masters   \n",
              "OuVAI9jQUJ1TrM8tfCrr70KsearC0kNbovFD9prQ91M=            Bachelors degree   \n",
              "rXYK7nenLvxPYqFIOk9Ik5ALPFsXma+Lah1+1Ct+5y4=     Some college, no degree   \n",
              "ndej+ke5aXKdkZmPuI2Vz878ZjtyA4r2+7D4zA05Pvw=    Graduate degree, Masters   \n",
              "E2skbsh2TBfWqeUSwFDajfQfJpMB2hqjKkzFh26W2PY=            Bachelors degree   \n",
              "...                                                                  ...   \n",
              "QTMSwD3FlJ6k9Zi0bBn7H0AarzqzXQKJkXhTjyNywpo=  Graduate degree, Doctorate   \n",
              "nQRH6wtEllzoLkzvvlvwWZTj2Nyn5u41jX/PdMRoBHE=  Graduate degree, Doctorate   \n",
              "8WSQ72ayS/EphFphErUhzMFzGk/OYhCQo37YaJyUpOo=  Graduate degree, Doctorate   \n",
              "6A95/jVE8cufim//yTIZbDouAjKIjN5k2C9d++XY3Q4=  Graduate degree, Doctorate   \n",
              "613pmSV0k1EyYuzgCo7KiTgJBynKsp+J5UbJXv0MD7I=  Graduate degree, Doctorate   \n",
              "\n",
              "                                             location_country location_region  \\\n",
              "worker_id                                                                       \n",
              "GIQvi1p3x6/xUloDxpXza3DJKzO9QxtN0yPb49FMiY8=               ZZ             NaN   \n",
              "OuVAI9jQUJ1TrM8tfCrr70KsearC0kNbovFD9prQ91M=               ZZ             NaN   \n",
              "rXYK7nenLvxPYqFIOk9Ik5ALPFsXma+Lah1+1Ct+5y4=               ZZ             NaN   \n",
              "ndej+ke5aXKdkZmPuI2Vz878ZjtyA4r2+7D4zA05Pvw=               ZZ             NaN   \n",
              "E2skbsh2TBfWqeUSwFDajfQfJpMB2hqjKkzFh26W2PY=               ZZ             NaN   \n",
              "...                                                       ...             ...   \n",
              "QTMSwD3FlJ6k9Zi0bBn7H0AarzqzXQKJkXhTjyNywpo=               IT              72   \n",
              "nQRH6wtEllzoLkzvvlvwWZTj2Nyn5u41jX/PdMRoBHE=               US              mi   \n",
              "8WSQ72ayS/EphFphErUhzMFzGk/OYhCQo37YaJyUpOo=               DO               ?   \n",
              "6A95/jVE8cufim//yTIZbDouAjKIjN5k2C9d++XY3Q4=               US              mi   \n",
              "613pmSV0k1EyYuzgCo7KiTgJBynKsp+J5UbJXv0MD7I=               US              ny   \n",
              "\n",
              "                                                          location_city  \\\n",
              "worker_id                                                                 \n",
              "GIQvi1p3x6/xUloDxpXza3DJKzO9QxtN0yPb49FMiY8=                        NaN   \n",
              "OuVAI9jQUJ1TrM8tfCrr70KsearC0kNbovFD9prQ91M=                        NaN   \n",
              "rXYK7nenLvxPYqFIOk9Ik5ALPFsXma+Lah1+1Ct+5y4=                        NaN   \n",
              "ndej+ke5aXKdkZmPuI2Vz878ZjtyA4r2+7D4zA05Pvw=                        NaN   \n",
              "E2skbsh2TBfWqeUSwFDajfQfJpMB2hqjKkzFh26W2PY=                        NaN   \n",
              "...                                                                 ...   \n",
              "QTMSwD3FlJ6k9Zi0bBn7H0AarzqzXQKJkXhTjyNywpo=    castellammare di stabia   \n",
              "nQRH6wtEllzoLkzvvlvwWZTj2Nyn5u41jX/PdMRoBHE=    monroe charter township   \n",
              "8WSQ72ayS/EphFphErUhzMFzGk/OYhCQo37YaJyUpOo=    santo domingo de guzman   \n",
              "6A95/jVE8cufim//yTIZbDouAjKIjN5k2C9d++XY3Q4=   west bloomfield township   \n",
              "613pmSV0k1EyYuzgCo7KiTgJBynKsp+J5UbJXv0MD7I=  jefferson valley-yorktown   \n",
              "\n",
              "                                                   date  \n",
              "worker_id                                                \n",
              "GIQvi1p3x6/xUloDxpXza3DJKzO9QxtN0yPb49FMiY8= 2020-11-07  \n",
              "OuVAI9jQUJ1TrM8tfCrr70KsearC0kNbovFD9prQ91M= 2020-11-13  \n",
              "rXYK7nenLvxPYqFIOk9Ik5ALPFsXma+Lah1+1Ct+5y4= 2020-11-07  \n",
              "ndej+ke5aXKdkZmPuI2Vz878ZjtyA4r2+7D4zA05Pvw= 2020-11-06  \n",
              "E2skbsh2TBfWqeUSwFDajfQfJpMB2hqjKkzFh26W2PY= 2020-11-07  \n",
              "...                                                 ...  \n",
              "QTMSwD3FlJ6k9Zi0bBn7H0AarzqzXQKJkXhTjyNywpo= 2021-04-18  \n",
              "nQRH6wtEllzoLkzvvlvwWZTj2Nyn5u41jX/PdMRoBHE= 2018-09-28  \n",
              "8WSQ72ayS/EphFphErUhzMFzGk/OYhCQo37YaJyUpOo= 2017-09-13  \n",
              "6A95/jVE8cufim//yTIZbDouAjKIjN5k2C9d++XY3Q4= 2017-09-17  \n",
              "613pmSV0k1EyYuzgCo7KiTgJBynKsp+J5UbJXv0MD7I= 2020-03-26  \n",
              "\n",
              "[291458 rows x 16 columns]"
            ],
            "text/html": [
              "\n",
              "  <div id=\"df-e18e03ab-cf8b-4bb5-b205-be3bbe7de874\" class=\"colab-df-container\">\n",
              "    <div>\n",
              "<style scoped>\n",
              "    .dataframe tbody tr th:only-of-type {\n",
              "        vertical-align: middle;\n",
              "    }\n",
              "\n",
              "    .dataframe tbody tr th {\n",
              "        vertical-align: top;\n",
              "    }\n",
              "\n",
              "    .dataframe thead th {\n",
              "        text-align: right;\n",
              "    }\n",
              "</style>\n",
              "<table border=\"1\" class=\"dataframe\">\n",
              "  <thead>\n",
              "    <tr style=\"text-align: right;\">\n",
              "      <th></th>\n",
              "      <th>time</th>\n",
              "      <th>hit_answered_date</th>\n",
              "      <th>hit_creation_date</th>\n",
              "      <th>gender</th>\n",
              "      <th>household_size</th>\n",
              "      <th>household_income</th>\n",
              "      <th>marital_status</th>\n",
              "      <th>year_of_birth</th>\n",
              "      <th>time_spent_on_mturk</th>\n",
              "      <th>languages_spoken</th>\n",
              "      <th>weekly_income_from_mturk</th>\n",
              "      <th>educational_level</th>\n",
              "      <th>location_country</th>\n",
              "      <th>location_region</th>\n",
              "      <th>location_city</th>\n",
              "      <th>date</th>\n",
              "    </tr>\n",
              "    <tr>\n",
              "      <th>worker_id</th>\n",
              "      <th></th>\n",
              "      <th></th>\n",
              "      <th></th>\n",
              "      <th></th>\n",
              "      <th></th>\n",
              "      <th></th>\n",
              "      <th></th>\n",
              "      <th></th>\n",
              "      <th></th>\n",
              "      <th></th>\n",
              "      <th></th>\n",
              "      <th></th>\n",
              "      <th></th>\n",
              "      <th></th>\n",
              "      <th></th>\n",
              "      <th></th>\n",
              "    </tr>\n",
              "  </thead>\n",
              "  <tbody>\n",
              "    <tr>\n",
              "      <th>GIQvi1p3x6/xUloDxpXza3DJKzO9QxtN0yPb49FMiY8=</th>\n",
              "      <td>14:40:00</td>\n",
              "      <td>2020-11-07 14:40:08.402000+00:00</td>\n",
              "      <td>2020-11-07 13:33:01+00:00</td>\n",
              "      <td>male</td>\n",
              "      <td>2</td>\n",
              "      <td>$25,000-$39,999</td>\n",
              "      <td>married</td>\n",
              "      <td>1982.0</td>\n",
              "      <td>2-4 hours per week</td>\n",
              "      <td>English,Tamil</td>\n",
              "      <td>$10-$20 per week</td>\n",
              "      <td>Graduate degree, Masters</td>\n",
              "      <td>ZZ</td>\n",
              "      <td>NaN</td>\n",
              "      <td>NaN</td>\n",
              "      <td>2020-11-07</td>\n",
              "    </tr>\n",
              "    <tr>\n",
              "      <th>OuVAI9jQUJ1TrM8tfCrr70KsearC0kNbovFD9prQ91M=</th>\n",
              "      <td>09:06:00</td>\n",
              "      <td>2020-11-13 09:05:39.583000+00:00</td>\n",
              "      <td>2020-11-13 08:48:01+00:00</td>\n",
              "      <td>male</td>\n",
              "      <td>3</td>\n",
              "      <td>$40,000-$59,999</td>\n",
              "      <td>married</td>\n",
              "      <td>1930.0</td>\n",
              "      <td>2-4 hours per week</td>\n",
              "      <td>English</td>\n",
              "      <td>$50-$100 per week</td>\n",
              "      <td>Bachelors degree</td>\n",
              "      <td>ZZ</td>\n",
              "      <td>NaN</td>\n",
              "      <td>NaN</td>\n",
              "      <td>2020-11-13</td>\n",
              "    </tr>\n",
              "    <tr>\n",
              "      <th>rXYK7nenLvxPYqFIOk9Ik5ALPFsXma+Lah1+1Ct+5y4=</th>\n",
              "      <td>01:24:00</td>\n",
              "      <td>2020-11-07 01:24:09.740000+00:00</td>\n",
              "      <td>2020-11-07 00:33:01+00:00</td>\n",
              "      <td>female</td>\n",
              "      <td>2</td>\n",
              "      <td>$40,000-$59,999</td>\n",
              "      <td>single</td>\n",
              "      <td>1994.0</td>\n",
              "      <td>4-8 hours per week</td>\n",
              "      <td>English</td>\n",
              "      <td>$20-$50 per week</td>\n",
              "      <td>Some college, no degree</td>\n",
              "      <td>ZZ</td>\n",
              "      <td>NaN</td>\n",
              "      <td>NaN</td>\n",
              "      <td>2020-11-07</td>\n",
              "    </tr>\n",
              "    <tr>\n",
              "      <th>ndej+ke5aXKdkZmPuI2Vz878ZjtyA4r2+7D4zA05Pvw=</th>\n",
              "      <td>03:51:00</td>\n",
              "      <td>2020-11-06 03:50:54.902000+00:00</td>\n",
              "      <td>2020-11-06 03:18:00+00:00</td>\n",
              "      <td>male</td>\n",
              "      <td>4</td>\n",
              "      <td>$75,000-$99,999</td>\n",
              "      <td>married</td>\n",
              "      <td>1991.0</td>\n",
              "      <td>2-4 hours per week</td>\n",
              "      <td>English,Malayalam,Tamil</td>\n",
              "      <td>$20-$50 per week</td>\n",
              "      <td>Graduate degree, Masters</td>\n",
              "      <td>ZZ</td>\n",
              "      <td>NaN</td>\n",
              "      <td>NaN</td>\n",
              "      <td>2020-11-06</td>\n",
              "    </tr>\n",
              "    <tr>\n",
              "      <th>E2skbsh2TBfWqeUSwFDajfQfJpMB2hqjKkzFh26W2PY=</th>\n",
              "      <td>15:42:00</td>\n",
              "      <td>2020-11-07 15:42:23.723000+00:00</td>\n",
              "      <td>2020-11-07 14:48:01+00:00</td>\n",
              "      <td>female</td>\n",
              "      <td>4</td>\n",
              "      <td>$75,000-$99,999</td>\n",
              "      <td>married</td>\n",
              "      <td>1996.0</td>\n",
              "      <td>2-4 hours per week</td>\n",
              "      <td>English,Tamil</td>\n",
              "      <td>$10-$20 per week</td>\n",
              "      <td>Bachelors degree</td>\n",
              "      <td>ZZ</td>\n",
              "      <td>NaN</td>\n",
              "      <td>NaN</td>\n",
              "      <td>2020-11-07</td>\n",
              "    </tr>\n",
              "    <tr>\n",
              "      <th>...</th>\n",
              "      <td>...</td>\n",
              "      <td>...</td>\n",
              "      <td>...</td>\n",
              "      <td>...</td>\n",
              "      <td>...</td>\n",
              "      <td>...</td>\n",
              "      <td>...</td>\n",
              "      <td>...</td>\n",
              "      <td>...</td>\n",
              "      <td>...</td>\n",
              "      <td>...</td>\n",
              "      <td>...</td>\n",
              "      <td>...</td>\n",
              "      <td>...</td>\n",
              "      <td>...</td>\n",
              "      <td>...</td>\n",
              "    </tr>\n",
              "    <tr>\n",
              "      <th>QTMSwD3FlJ6k9Zi0bBn7H0AarzqzXQKJkXhTjyNywpo=</th>\n",
              "      <td>17:44:00</td>\n",
              "      <td>2021-04-18 17:44:15.374000+00:00</td>\n",
              "      <td>2021-04-18 16:34:01+00:00</td>\n",
              "      <td>male</td>\n",
              "      <td>3</td>\n",
              "      <td>$25,000-$39,999</td>\n",
              "      <td>single</td>\n",
              "      <td>1994.0</td>\n",
              "      <td>4-8 hours per week</td>\n",
              "      <td>English,Spanish,French,Italian</td>\n",
              "      <td>$10-$20 per week</td>\n",
              "      <td>Graduate degree, Doctorate</td>\n",
              "      <td>IT</td>\n",
              "      <td>72</td>\n",
              "      <td>castellammare di stabia</td>\n",
              "      <td>2021-04-18</td>\n",
              "    </tr>\n",
              "    <tr>\n",
              "      <th>nQRH6wtEllzoLkzvvlvwWZTj2Nyn5u41jX/PdMRoBHE=</th>\n",
              "      <td>20:18:00</td>\n",
              "      <td>2018-09-28 20:17:47.354000+00:00</td>\n",
              "      <td>2018-09-28 19:11:09+00:00</td>\n",
              "      <td>female</td>\n",
              "      <td>2</td>\n",
              "      <td>$60,000-$74,999</td>\n",
              "      <td>married</td>\n",
              "      <td>1957.0</td>\n",
              "      <td>Less than 1 hour per week</td>\n",
              "      <td>English</td>\n",
              "      <td>Less than $1 per week</td>\n",
              "      <td>Graduate degree, Doctorate</td>\n",
              "      <td>US</td>\n",
              "      <td>mi</td>\n",
              "      <td>monroe charter township</td>\n",
              "      <td>2018-09-28</td>\n",
              "    </tr>\n",
              "    <tr>\n",
              "      <th>8WSQ72ayS/EphFphErUhzMFzGk/OYhCQo37YaJyUpOo=</th>\n",
              "      <td>04:50:00</td>\n",
              "      <td>2017-09-13 04:49:30.764000+00:00</td>\n",
              "      <td>2017-09-13 04:46:17+00:00</td>\n",
              "      <td>male</td>\n",
              "      <td>4</td>\n",
              "      <td>$40,000-$59,999</td>\n",
              "      <td>married</td>\n",
              "      <td>1990.0</td>\n",
              "      <td>8-20 hours per week</td>\n",
              "      <td>English,Spanish</td>\n",
              "      <td>$100-$200 per week</td>\n",
              "      <td>Graduate degree, Doctorate</td>\n",
              "      <td>DO</td>\n",
              "      <td>?</td>\n",
              "      <td>santo domingo de guzman</td>\n",
              "      <td>2017-09-13</td>\n",
              "    </tr>\n",
              "    <tr>\n",
              "      <th>6A95/jVE8cufim//yTIZbDouAjKIjN5k2C9d++XY3Q4=</th>\n",
              "      <td>11:20:00</td>\n",
              "      <td>2017-09-17 11:19:40.668000+00:00</td>\n",
              "      <td>2017-09-17 11:16:11+00:00</td>\n",
              "      <td>male</td>\n",
              "      <td>2</td>\n",
              "      <td>$40,000-$59,999</td>\n",
              "      <td>married</td>\n",
              "      <td>1944.0</td>\n",
              "      <td>20-40 hours per week</td>\n",
              "      <td>English</td>\n",
              "      <td>$50-$100 per week</td>\n",
              "      <td>Graduate degree, Doctorate</td>\n",
              "      <td>US</td>\n",
              "      <td>mi</td>\n",
              "      <td>west bloomfield township</td>\n",
              "      <td>2017-09-17</td>\n",
              "    </tr>\n",
              "    <tr>\n",
              "      <th>613pmSV0k1EyYuzgCo7KiTgJBynKsp+J5UbJXv0MD7I=</th>\n",
              "      <td>19:08:00</td>\n",
              "      <td>2020-03-26 19:07:32.663000+00:00</td>\n",
              "      <td>2020-03-26 15:48:00+00:00</td>\n",
              "      <td>male</td>\n",
              "      <td>1</td>\n",
              "      <td>$75,000-$99,999</td>\n",
              "      <td>single</td>\n",
              "      <td>1984.0</td>\n",
              "      <td>2-4 hours per week</td>\n",
              "      <td>English</td>\n",
              "      <td>$10-$20 per week</td>\n",
              "      <td>Graduate degree, Doctorate</td>\n",
              "      <td>US</td>\n",
              "      <td>ny</td>\n",
              "      <td>jefferson valley-yorktown</td>\n",
              "      <td>2020-03-26</td>\n",
              "    </tr>\n",
              "  </tbody>\n",
              "</table>\n",
              "<p>291458 rows × 16 columns</p>\n",
              "</div>\n",
              "    <div class=\"colab-df-buttons\">\n",
              "\n",
              "  <div class=\"colab-df-container\">\n",
              "    <button class=\"colab-df-convert\" onclick=\"convertToInteractive('df-e18e03ab-cf8b-4bb5-b205-be3bbe7de874')\"\n",
              "            title=\"Convert this dataframe to an interactive table.\"\n",
              "            style=\"display:none;\">\n",
              "\n",
              "  <svg xmlns=\"http://www.w3.org/2000/svg\" height=\"24px\" viewBox=\"0 -960 960 960\">\n",
              "    <path d=\"M120-120v-720h720v720H120Zm60-500h600v-160H180v160Zm220 220h160v-160H400v160Zm0 220h160v-160H400v160ZM180-400h160v-160H180v160Zm440 0h160v-160H620v160ZM180-180h160v-160H180v160Zm440 0h160v-160H620v160Z\"/>\n",
              "  </svg>\n",
              "    </button>\n",
              "\n",
              "  <style>\n",
              "    .colab-df-container {\n",
              "      display:flex;\n",
              "      gap: 12px;\n",
              "    }\n",
              "\n",
              "    .colab-df-convert {\n",
              "      background-color: #E8F0FE;\n",
              "      border: none;\n",
              "      border-radius: 50%;\n",
              "      cursor: pointer;\n",
              "      display: none;\n",
              "      fill: #1967D2;\n",
              "      height: 32px;\n",
              "      padding: 0 0 0 0;\n",
              "      width: 32px;\n",
              "    }\n",
              "\n",
              "    .colab-df-convert:hover {\n",
              "      background-color: #E2EBFA;\n",
              "      box-shadow: 0px 1px 2px rgba(60, 64, 67, 0.3), 0px 1px 3px 1px rgba(60, 64, 67, 0.15);\n",
              "      fill: #174EA6;\n",
              "    }\n",
              "\n",
              "    .colab-df-buttons div {\n",
              "      margin-bottom: 4px;\n",
              "    }\n",
              "\n",
              "    [theme=dark] .colab-df-convert {\n",
              "      background-color: #3B4455;\n",
              "      fill: #D2E3FC;\n",
              "    }\n",
              "\n",
              "    [theme=dark] .colab-df-convert:hover {\n",
              "      background-color: #434B5C;\n",
              "      box-shadow: 0px 1px 3px 1px rgba(0, 0, 0, 0.15);\n",
              "      filter: drop-shadow(0px 1px 2px rgba(0, 0, 0, 0.3));\n",
              "      fill: #FFFFFF;\n",
              "    }\n",
              "  </style>\n",
              "\n",
              "    <script>\n",
              "      const buttonEl =\n",
              "        document.querySelector('#df-e18e03ab-cf8b-4bb5-b205-be3bbe7de874 button.colab-df-convert');\n",
              "      buttonEl.style.display =\n",
              "        google.colab.kernel.accessAllowed ? 'block' : 'none';\n",
              "\n",
              "      async function convertToInteractive(key) {\n",
              "        const element = document.querySelector('#df-e18e03ab-cf8b-4bb5-b205-be3bbe7de874');\n",
              "        const dataTable =\n",
              "          await google.colab.kernel.invokeFunction('convertToInteractive',\n",
              "                                                    [key], {});\n",
              "        if (!dataTable) return;\n",
              "\n",
              "        const docLinkHtml = 'Like what you see? Visit the ' +\n",
              "          '<a target=\"_blank\" href=https://colab.research.google.com/notebooks/data_table.ipynb>data table notebook</a>'\n",
              "          + ' to learn more about interactive tables.';\n",
              "        element.innerHTML = '';\n",
              "        dataTable['output_type'] = 'display_data';\n",
              "        await google.colab.output.renderOutput(dataTable, element);\n",
              "        const docLink = document.createElement('div');\n",
              "        docLink.innerHTML = docLinkHtml;\n",
              "        element.appendChild(docLink);\n",
              "      }\n",
              "    </script>\n",
              "  </div>\n",
              "\n",
              "\n",
              "<div id=\"df-2221815f-b808-48cb-87e6-7c1bc6985903\">\n",
              "  <button class=\"colab-df-quickchart\" onclick=\"quickchart('df-2221815f-b808-48cb-87e6-7c1bc6985903')\"\n",
              "            title=\"Suggest charts.\"\n",
              "            style=\"display:none;\">\n",
              "\n",
              "<svg xmlns=\"http://www.w3.org/2000/svg\" height=\"24px\"viewBox=\"0 0 24 24\"\n",
              "     width=\"24px\">\n",
              "    <g>\n",
              "        <path d=\"M19 3H5c-1.1 0-2 .9-2 2v14c0 1.1.9 2 2 2h14c1.1 0 2-.9 2-2V5c0-1.1-.9-2-2-2zM9 17H7v-7h2v7zm4 0h-2V7h2v10zm4 0h-2v-4h2v4z\"/>\n",
              "    </g>\n",
              "</svg>\n",
              "  </button>\n",
              "\n",
              "<style>\n",
              "  .colab-df-quickchart {\n",
              "    background-color: #E8F0FE;\n",
              "    border: none;\n",
              "    border-radius: 50%;\n",
              "    cursor: pointer;\n",
              "    display: none;\n",
              "    fill: #1967D2;\n",
              "    height: 32px;\n",
              "    padding: 0 0 0 0;\n",
              "    width: 32px;\n",
              "  }\n",
              "\n",
              "  .colab-df-quickchart:hover {\n",
              "    background-color: #E2EBFA;\n",
              "    box-shadow: 0px 1px 2px rgba(60, 64, 67, 0.3), 0px 1px 3px 1px rgba(60, 64, 67, 0.15);\n",
              "    fill: #174EA6;\n",
              "  }\n",
              "\n",
              "  [theme=dark] .colab-df-quickchart {\n",
              "    background-color: #3B4455;\n",
              "    fill: #D2E3FC;\n",
              "  }\n",
              "\n",
              "  [theme=dark] .colab-df-quickchart:hover {\n",
              "    background-color: #434B5C;\n",
              "    box-shadow: 0px 1px 3px 1px rgba(0, 0, 0, 0.15);\n",
              "    filter: drop-shadow(0px 1px 2px rgba(0, 0, 0, 0.3));\n",
              "    fill: #FFFFFF;\n",
              "  }\n",
              "</style>\n",
              "\n",
              "  <script>\n",
              "    async function quickchart(key) {\n",
              "      const charts = await google.colab.kernel.invokeFunction(\n",
              "          'suggestCharts', [key], {});\n",
              "    }\n",
              "    (() => {\n",
              "      let quickchartButtonEl =\n",
              "        document.querySelector('#df-2221815f-b808-48cb-87e6-7c1bc6985903 button');\n",
              "      quickchartButtonEl.style.display =\n",
              "        google.colab.kernel.accessAllowed ? 'block' : 'none';\n",
              "    })();\n",
              "  </script>\n",
              "</div>\n",
              "    </div>\n",
              "  </div>\n"
            ]
          },
          "metadata": {},
          "execution_count": 14
        }
      ],
      "source": [
        "df.set_index('worker_id')"
      ]
    },
    {
      "cell_type": "code",
      "execution_count": 15,
      "metadata": {
        "collapsed": true,
        "id": "fbX2mWH929MN"
      },
      "outputs": [],
      "source": [
        "# Let's compute the frequency of captures\n",
        "x = df['worker_id'].value_counts().value_counts()"
      ]
    },
    {
      "cell_type": "code",
      "execution_count": 16,
      "metadata": {
        "colab": {
          "base_uri": "https://localhost:8080/",
          "height": 516
        },
        "id": "jNmYt7Pa29MN",
        "outputId": "e0299e98-07e5-4c4c-9420-45ac8eb9cbb2"
      },
      "outputs": [
        {
          "output_type": "execute_result",
          "data": {
            "text/plain": [
              "<Axes: xlabel='index', ylabel='worker_id'>"
            ]
          },
          "metadata": {},
          "execution_count": 16
        },
        {
          "output_type": "display_data",
          "data": {
            "text/plain": [
              "<Figure size 1600x800 with 1 Axes>"
            ],
            "image/png": "[encoded data removed]"
          },
          "metadata": {}
        }
      ],
      "source": [
        "# Plot the above\n",
        "df['worker_id'].value_counts().value_counts().sort_index().reset_index().plot.scatter(x='index', y='worker_id', logy=True)"
      ]
    },
    {
      "cell_type": "code",
      "execution_count": 17,
      "metadata": {
        "colab": {
          "base_uri": "https://localhost:8080/",
          "height": 499
        },
        "id": "WoKfIqak29MN",
        "outputId": "f124677b-d341-46d5-fa2b-a18874b214a6"
      },
      "outputs": [
        {
          "output_type": "display_data",
          "data": {
            "text/plain": [
              "<Figure size 1600x800 with 1 Axes>"
            ],
            "image/png": "[encoded data removed]"
          },
          "metadata": {}
        }
      ],
      "source": [
        "import numpy as np\n",
        "import os\n",
        "mpl.rc(\"figure\", figsize=(16, 8))\n",
        "mpl.rcParams.update({'font.size': 22})\n",
        "mpl.rcParams['pdf.fonttype'] = 42\n",
        "mpl.rcParams['ps.fonttype'] = 42\n",
        "sns.set_style(\"whitegrid\")\n",
        "\n",
        "from scipy.stats import binom\n",
        "N=len(set(df['worker_id']))\n",
        "p=0.25\n",
        "rvs = binom.rvs(98, p, size=N)\n",
        "\n",
        "\n",
        "fig, ax = plt.subplots(1, 1)\n",
        "\n",
        "cnt = pd.DataFrame(x).drop(34).reset_index()\n",
        "cnt['index'] = cnt['index'] # /cnt['index'].max()\n",
        "ax = cnt.plot.scatter(x='index', y='worker_id', logy=True, logx=False, s=10*np.log(cnt['worker_id']), ax = ax)\n",
        "\n",
        "ax.set_xlabel(\"Number of times a worker participated in the 98-month surveys\")\n",
        "ax.set_ylabel(\"Number of workers\")\n",
        "\n",
        "pd.DataFrame(rvs).plot.hist(alpha=0.5, color='r', bins=18, sharex=True, ax=ax)\n",
        "ax.legend().set_visible(False)\n",
        "\n",
        "if not os.path.exists('plots'):\n",
        "    os.makedirs('plots')\n",
        "\n",
        "plt.savefig('plots/frequency-counts.pdf', bbox_inches='tight')"
      ]
    },
    {
      "cell_type": "code",
      "execution_count": 18,
      "metadata": {
        "colab": {
          "base_uri": "https://localhost:8080/",
          "height": 659
        },
        "id": "GDuOL5Lq29MO",
        "outputId": "c61c5dbc-1708-49ca-df92-0f1b4f8c4ee2"
      },
      "outputs": [
        {
          "output_type": "execute_result",
          "data": {
            "text/plain": [
              "(array([2.75723468e-05, 3.07234721e-04, 1.29196139e-03, 5.33327965e-03,\n",
              "        1.63464627e-02, 3.55249994e-02, 6.03046613e-02, 8.41508024e-02,\n",
              "        8.90468634e-02, 7.88490340e-02, 5.55149508e-02, 3.28307872e-02,\n",
              "        1.68900319e-02, 6.74734715e-03, 2.38697745e-03, 7.44453363e-04,\n",
              "        1.65434081e-04, 2.36334401e-05]),\n",
              " array([ 7.        ,  9.05555556, 11.11111111, 13.16666667, 15.22222222,\n",
              "        17.27777778, 19.33333333, 21.38888889, 23.44444444, 25.5       ,\n",
              "        27.55555556, 29.61111111, 31.66666667, 33.72222222, 35.77777778,\n",
              "        37.83333333, 39.88888889, 41.94444444, 44.        ]),\n",
              " [<matplotlib.patches.Polygon at 0x7dd82f5d9d80>])"
            ]
          },
          "metadata": {},
          "execution_count": 18
        },
        {
          "output_type": "display_data",
          "data": {
            "text/plain": [
              "<Figure size 1600x800 with 1 Axes>"
            ],
            "image/png": "[encoded data removed]"
          },
          "metadata": {}
        }
      ],
      "source": [
        "fig, ax = plt.subplots(1, 1)\n",
        "ax.set_yscale(\"log\")\n",
        "ax.hist(rvs, density=True, histtype='stepfilled', alpha=0.5, bins=18)"
      ]
    },
    {
      "cell_type": "code",
      "execution_count": 19,
      "metadata": {
        "colab": {
          "base_uri": "https://localhost:8080/"
        },
        "id": "6dXfcDgh29MO",
        "outputId": "25140ae3-1d2b-48d8-ee67-76be7388fbbd"
      },
      "outputs": [
        {
          "output_type": "stream",
          "name": "stderr",
          "text": [
            "<ipython-input-19-12697a23504c>:7: FutureWarning: iteritems is deprecated and will be removed in a future version. Use .items instead.\n",
            "  for i,v in x.iteritems():\n",
            "/usr/local/lib/python3.10/dist-packages/scipy/stats/_continuous_distns.py:709: RuntimeWarning: invalid value encountered in sqrt\n",
            "  sk = 2*(b-a)*np.sqrt(a + b + 1) / (a + b + 2) / np.sqrt(a*b)\n",
            "/usr/local/lib/python3.10/dist-packages/scipy/optimize/_minpack_py.py:178: RuntimeWarning: The iteration is not making good progress, as measured by the \n",
            "  improvement from the last ten iterations.\n",
            "  warnings.warn(msg, RuntimeWarning)\n"
          ]
        },
        {
          "output_type": "execute_result",
          "data": {
            "text/plain": [
              "(0.5333706778568913,\n",
              " 36.64712420092742,\n",
              " 0.010869565217391302,\n",
              " 1.0092637266807625)"
            ]
          },
          "metadata": {},
          "execution_count": 19
        }
      ],
      "source": [
        "# Let's try to fit directly a beta distribution on the counts:\n",
        "import scipy\n",
        "import random\n",
        "\n",
        "data = []\n",
        "mx_freq = max(x.index)\n",
        "for i,v in x.iteritems():\n",
        "    tmp = [i/mx_freq] * v\n",
        "    data.extend(tmp)\n",
        "\n",
        "random.shuffle(data)\n",
        "\n",
        "scipy.stats.beta.fit(data, scale=1, loc=0)"
      ]
    },
    {
      "cell_type": "code",
      "execution_count": 20,
      "metadata": {
        "collapsed": true,
        "id": "VTHpXfkO29MO"
      },
      "outputs": [],
      "source": [
        "# We can also try a variety of other distributions and find hte best fit.\n",
        "\n",
        "import numpy as np\n",
        "import scipy.stats as st\n",
        "import statsmodels as sm\n",
        "import warnings\n",
        "import sys\n",
        "\n",
        "# Create models from data\n",
        "def best_fit_distribution(data, bins=27, ax=None):\n",
        "    \"\"\"Model data by finding best fit distribution to data\"\"\"\n",
        "    # Get histogram of original data\n",
        "    y, x = np.histogram(data, bins=bins, density=True)\n",
        "    x = (x + np.roll(x, -1))[:-1] / 2.0\n",
        "\n",
        "    # Distributions to check\n",
        "    '''\n",
        "    DISTRIBUTIONS = [\n",
        "        st.alpha,st.anglit,st.arcsine,st.beta,st.betaprime,st.bradford,st.burr,st.cauchy,st.chi,st.chi2,st.cosine,\n",
        "        st.dgamma,st.dweibull,st.erlang,st.expon,st.exponnorm,st.exponweib,st.exponpow,st.f,st.fatiguelife,st.fisk,\n",
        "        st.foldcauchy,st.foldnorm,st.frechet_r,st.frechet_l,st.genlogistic,st.genpareto,st.gennorm,st.genexpon,\n",
        "        st.genextreme,st.gausshyper,st.gamma,st.gengamma,st.genhalflogistic,st.gilbrat,st.gompertz,st.gumbel_r,\n",
        "        st.gumbel_l,st.halfcauchy,st.halflogistic,st.halfnorm,st.halfgennorm,st.hypsecant,st.invgamma,st.invgauss,\n",
        "        st.invweibull,st.johnsonsb,st.johnsonsu,st.ksone,st.kstwobign,st.laplace,st.levy,st.levy_l,st.levy_stable,\n",
        "        st.logistic,st.loggamma,st.loglaplace,st.lognorm,st.lomax,st.maxwell,st.mielke,st.nakagami,st.ncx2,st.ncf,\n",
        "        st.nct,st.norm,st.pareto,st.pearson3,st.powerlaw,st.powerlognorm,st.powernorm,st.rdist,st.reciprocal,\n",
        "        st.rayleigh,st.rice,st.recipinvgauss,st.semicircular,st.t,st.triang,st.truncexpon,st.truncnorm,st.tukeylambda,\n",
        "        st.uniform,st.vonmises,st.vonmises_line,st.wald,st.weibull_min,st.weibull_max,st.wrapcauchy\n",
        "    ]\n",
        "    '''\n",
        "    DISTRIBUTIONS = [\n",
        "        st.beta,st.expon,st.exponnorm,st.lognorm,st.lomax,st.powerlaw,st.powerlognorm,st.powernorm\n",
        "    ]\n",
        "\n",
        "    # Best holders\n",
        "    best_distribution = st.norm\n",
        "    best_params = (0.0, 1.0)\n",
        "    best_sse = np.inf\n",
        "    #best_p = np.inf\n",
        "\n",
        "    # Estimate distribution parameters from data\n",
        "    for distribution in DISTRIBUTIONS:\n",
        "        # print(distribution)\n",
        "\n",
        "        # Try to fit the distribution\n",
        "        try:\n",
        "            # Ignore warnings from data that can't be fit\n",
        "            with warnings.catch_warnings():\n",
        "                warnings.filterwarnings('ignore')\n",
        "\n",
        "                # fit dist to data\n",
        "                params = distribution.fit(data, fscale=1)\n",
        "\n",
        "                # Separate parts of parameters\n",
        "                arg = params[:-2]\n",
        "                loc = params[-2]\n",
        "                scale = params[-1]\n",
        "\n",
        "                # Calculate fitted PDF and error with fit in distribution\n",
        "                pdf = distribution.pdf(x, loc=loc, scale=scale, *arg)\n",
        "                #cdf = distribution.cdf(x, loc=loc, scale=scale, *arg)\n",
        "                sse = np.sum(np.power(y - pdf, 2.0))\n",
        "                aic = 2*len(params) + np.sum ( distribution.logpdf(data, loc=loc, scale=scale, *arg) )\n",
        "                #ks = st.kstest(y, cdf)\n",
        "\n",
        "                # if axis pass in add to plot\n",
        "                try:\n",
        "                    if ax:\n",
        "                        pd.Series(pdf, x).plot(ax=ax)\n",
        "                    end\n",
        "                except Exception:\n",
        "                    pass\n",
        "\n",
        "                # identify if this distribution is better\n",
        "                if best_sse > sse > 0:\n",
        "                    best_distribution = distribution\n",
        "                    best_params = params\n",
        "                    best_sse = sse\n",
        "\n",
        "                print(\"{0}, [{1}], {2:3,.2f}, {3:3,.2f}\".format(distribution.name, params, sse, aic))\n",
        "\n",
        "        except Exception as e:\n",
        "            print(sys.exc_info()[0])\n",
        "            pass\n",
        "\n",
        "    return (best_distribution.name, best_params)\n"
      ]
    },
    {
      "cell_type": "code",
      "execution_count": 21,
      "metadata": {
        "colab": {
          "base_uri": "https://localhost:8080/"
        },
        "id": "kaP660kA29MO",
        "outputId": "66eaa130-da1c-4110-ff63-539494be79af"
      },
      "outputs": [
        {
          "output_type": "stream",
          "name": "stdout",
          "text": [
            "beta, [(0.5952226874364936, 67.93883482718687, 0.010869565217391302, 1)], 161.47, 1,506,767.07\n",
            "expon, [(0.010869565217391304, 1.0)], 569.60, -1,821.41\n",
            "exponnorm, [(5.600528532650006e-05, 0.02556114343251091, 1)], 592.52, -113,610.54\n",
            "lognorm, [(7.233835379496761, 0.010869565217391302, 1)], 488.49, 1,780,187.35\n",
            "lomax, [(72.09871231429094, 0.010869565217376871, 1)], 31.10, 403,152.30\n",
            "powerlaw, [(0.03617428954971786, 0.010869565217391302, 1)], 528.10, 2,880,749.52\n",
            "powerlognorm, [(2.0438624349470516, 5.6851384509994745, 0.010869565217382117, 1)], 404.70, 1,184,776.58\n",
            "powernorm, [(255809271.90851432, 5.812646072946279, 1)], 513.87, 86,696.43\n",
            "===================\n",
            "lomax (72.09871231429094, 0.010869565217376871, 1)\n"
          ]
        }
      ],
      "source": [
        "# Find best fit distribution\n",
        "best_fit_name, best_fit_paramms = best_fit_distribution(data, 27)\n",
        "best_dist = getattr(st, best_fit_name)\n",
        "\n",
        "print(\"===================\")\n",
        "print(best_fit_name, best_fit_paramms)"
      ]
    },
    {
      "cell_type": "code",
      "execution_count": 22,
      "metadata": {
        "colab": {
          "base_uri": "https://localhost:8080/"
        },
        "id": "84YApaL729MO",
        "outputId": "b709dee6-1546-4dd7-a036-b247622c7c93"
      },
      "outputs": [
        {
          "output_type": "execute_result",
          "data": {
            "text/plain": [
              "286298.87152284285"
            ]
          },
          "metadata": {},
          "execution_count": 22
        }
      ],
      "source": [
        "# This is from Chao 1987, equation 10.\n",
        "# This provides a lower bound on the population\n",
        "# The assumptions in that paper, for the derivation of this estimator are still not great\n",
        "# as it assumes that the number of captures (sample periods) is large and that probability\n",
        "# of capture (propensity) is small. This does not work for the right tail (the heavy hitters)\n",
        "\n",
        "S = len(set(df['worker_id'])) # 37830 123508\n",
        "f1 = cnt.loc[0]['worker_id'] # 25070 79469\n",
        "f2 = cnt.loc[1]['worker_id'] # 5642 19584\n",
        "f3 = cnt.loc[2]['worker_id'] # 2346 8297\n",
        "t = len(cnt.index) # 27 82\n",
        "m1 = 2 * f2/f1\n",
        "m2 = 6* f3/f1\n",
        "\n",
        "N = S + f1**2 / (2*f2) * (( 1 - m1/t)/(1-m2/(t*m1)))\n",
        "N"
      ]
    },
    {
      "cell_type": "code",
      "source": [
        "f3"
      ],
      "metadata": {
        "colab": {
          "base_uri": "https://localhost:8080/"
        },
        "id": "185h5GKhKtRa",
        "outputId": "f37ad76c-7727-4f8d-e5b1-b7c493a2f620"
      },
      "execution_count": 23,
      "outputs": [
        {
          "output_type": "execute_result",
          "data": {
            "text/plain": [
              "8297"
            ]
          },
          "metadata": {},
          "execution_count": 23
        }
      ]
    },
    {
      "cell_type": "code",
      "execution_count": 53,
      "metadata": {
        "collapsed": true,
        "id": "bWIvNi7N29MO"
      },
      "outputs": [],
      "source": [
        "# Let's compute the frequency of captures\n",
        "f = df['worker_id'].value_counts().value_counts()\n",
        "# f = f.drop(34) # dropping the outlier, this is a data point that should not have existed"
      ]
    },
    {
      "cell_type": "code",
      "execution_count": 54,
      "metadata": {
        "collapsed": true,
        "id": "xRCku2uz29MO"
      },
      "outputs": [],
      "source": [
        "# If we assume that the distribution of the propensities follows a Beta distribution,\n",
        "# then the counts will follow a Beta-Binomial distribution\n",
        "# See https://en.wikipedia.org/wiki/Beta-binomial_distribution\n"
      ]
    },
    {
      "cell_type": "code",
      "execution_count": 26,
      "metadata": {
        "collapsed": true,
        "id": "xOCeZRpe29MO"
      },
      "outputs": [],
      "source": [
        "from scipy.special import gammaln\n",
        "import numpy as np\n",
        "def beta_binom_density_ln(k, n, alpha, beta):\n",
        "    Ad = beta\n",
        "    Bd = alpha\n",
        "    An = n - k + beta\n",
        "    Bn = k + alpha\n",
        "    num = gammaln(An) + gammaln(Bn) - gammaln(An+Bn)\n",
        "    den = gammaln(Ad) + gammaln(Bd) - gammaln(Ad+Bd)\n",
        "    log = np.log(scipy.special.comb(n,k)) + num - den\n",
        "    return np.exp(log)"
      ]
    },
    {
      "cell_type": "code",
      "execution_count": 27,
      "metadata": {
        "colab": {
          "base_uri": "https://localhost:8080/"
        },
        "id": "Oh2MAW1Q29MO",
        "outputId": "afdf4f86-5fc2-4c6b-fa07-53dfd2bfcdd0"
      },
      "outputs": [
        {
          "output_type": "stream",
          "name": "stdout",
          "text": [
            "0.2256680432149409\n",
            "8.572512187113213\n"
          ]
        }
      ],
      "source": [
        "# Using the method of moments, we can try to fit directly:\n",
        "# See https://en.wikipedia.org/wiki/Beta-binomial_distribution#Point_estimates\n",
        "\n",
        "t = max(f.index)\n",
        "distinct = sum ( [f[i] for i in f.index] )\n",
        "m1 = sum([ i * f[i] for i in f.index]) / distinct\n",
        "m2 = sum([ i*i * f[i] for i in f.index]) / distinct\n",
        "# print(m1, m2)\n",
        "a = (t * m1 - m2) / (( t * (m2/m1) - m1 -1 ) + m1)\n",
        "print(a)\n",
        "\n",
        "b = (t - m1) * ( t  - m2/m1) / (( t * (m2/m1) - m1 -1 ) + m1)\n",
        "print(b)"
      ]
    },
    {
      "cell_type": "code",
      "execution_count": 28,
      "metadata": {
        "colab": {
          "base_uri": "https://localhost:8080/"
        },
        "id": "qNE-3rq129MO",
        "outputId": "e200bfcd-5f6b-4872-c8b5-121c7f6f05d5"
      },
      "outputs": [
        {
          "output_type": "execute_result",
          "data": {
            "text/plain": [
              "0.5683070300848898"
            ]
          },
          "metadata": {},
          "execution_count": 28
        }
      ],
      "source": [
        "# This is the probability that a user from the population\n",
        "# is sampled 0 times\n",
        "# The one beloe is with the parameters estimated using the method of moments\n",
        "beta_binom_density_ln(0, t, a, b)"
      ]
    },
    {
      "cell_type": "code",
      "execution_count": 38,
      "metadata": {
        "collapsed": true,
        "id": "tKOnkCmM29MO"
      },
      "outputs": [],
      "source": [
        "t=98"
      ]
    },
    {
      "cell_type": "code",
      "execution_count": 55,
      "metadata": {
        "colab": {
          "base_uri": "https://localhost:8080/"
        },
        "id": "mQI-PVaK29MO",
        "outputId": "fb478320-c054-477f-9439-13e6be94a6a3"
      },
      "outputs": [
        {
          "output_type": "execute_result",
          "data": {
            "text/plain": [
              "0.5844682972606422"
            ]
          },
          "metadata": {},
          "execution_count": 55
        }
      ],
      "source": [
        "# The one below is estimated through fitting on the MLE estimates for each user\n",
        "beta_binom_density_ln(0, t, 0.60, 67.9)"
      ]
    },
    {
      "cell_type": "code",
      "execution_count": 56,
      "metadata": {
        "colab": {
          "base_uri": "https://localhost:8080/"
        },
        "id": "lFw_qwXQ29MO",
        "outputId": "bca2effe-8796-4f5e-c15a-b1d70dfb6d82"
      },
      "outputs": [
        {
          "output_type": "execute_result",
          "data": {
            "text/plain": [
              "123507"
            ]
          },
          "metadata": {},
          "execution_count": 56
        }
      ],
      "source": [
        "distinct"
      ]
    },
    {
      "cell_type": "code",
      "execution_count": 57,
      "metadata": {
        "colab": {
          "base_uri": "https://localhost:8080/"
        },
        "id": "yZVutQHp29MO",
        "outputId": "06d2810b-4a80-4b24-9910-85355325006d"
      },
      "outputs": [
        {
          "output_type": "stream",
          "name": "stdout",
          "text": [
            "297226.41903323017\n"
          ]
        }
      ],
      "source": [
        "# We now need to estimate the value of f[0], which is the number of workers that we have not seen\n",
        "# That is equal to  beta_binom_density_ln(0, t, a, b) * N\n",
        "# The remaining workers that we have seen is distinct = N * ( 1-  beta_binom_density_ln(0, t, a, b))\n",
        "\n",
        "N  = distinct / (1 - beta_binom_density_ln(0, t, 0.60, 67.9))\n",
        "print(N)"
      ]
    },
    {
      "cell_type": "code",
      "execution_count": 58,
      "metadata": {
        "colab": {
          "base_uri": "https://localhost:8080/"
        },
        "id": "gDCAKXSQ29MO",
        "outputId": "95599bd5-03ea-43fb-f3d5-3673a8948380"
      },
      "outputs": [
        {
          "output_type": "stream",
          "name": "stdout",
          "text": [
            "N_01 = 381,311.69\n",
            "Avg = 381,311.69\n",
            "N_02 = 198,472.80\n",
            "Avg = 289,892.25\n",
            "N_03 = 164,633.59\n",
            "Avg = 248,139.36\n",
            "N_04 = 161,489.58\n",
            "Avg = 226,476.92\n",
            "N_05 = 192,383.09\n",
            "Avg = 219,658.15\n",
            "N_06 = 228,841.41\n",
            "Avg = 221,188.69\n",
            "N_07 = 314,933.34\n",
            "Avg = 234,580.79\n",
            "N_08 = 398,993.20\n",
            "Avg = 255,132.34\n",
            "N_09 = 580,143.40\n",
            "Avg = 291,244.68\n",
            "N_10 = 774,564.58\n",
            "Avg = 339,576.67\n",
            "N_11 = 1,249,792.22\n",
            "Avg = 422,323.54\n",
            "N_12 = 1,879,525.09\n",
            "Avg = 543,757.00\n",
            "N_13 = 2,928,789.34\n",
            "Avg = 727,221.03\n",
            "N_15 = 7,644,695.65\n",
            "Avg = 1,221,326.36\n",
            "N_14 = 4,044,938.16\n",
            "Avg = 1,409,567.14\n",
            "N_16 = 11,560,734.98\n",
            "Avg = 2,044,015.13\n",
            "N_17 = 18,412,547.02\n",
            "Avg = 3,006,869.95\n",
            "N_18 = 27,468,811.42\n",
            "Avg = 4,365,866.70\n",
            "N_19 = 51,524,327.65\n",
            "Avg = 6,847,890.96\n",
            "N_20 = 88,950,770.93\n",
            "Avg = 10,953,034.96\n",
            "N_23 = 501,146,945.20\n",
            "Avg = 34,295,602.11\n",
            "N_21 = 137,590,375.41\n",
            "Avg = 38,990,819.08\n",
            "N_22 = 234,971,132.13\n",
            "Avg = 47,511,702.25\n",
            "N_25 = 1,325,254,988.80\n",
            "Avg = 100,751,005.86\n",
            "N_24 = 648,834,862.63\n",
            "Avg = 122,674,360.13\n",
            "N_28 = 7,726,322,782.84\n",
            "Avg = 415,122,376.39\n",
            "N_26 = 1,832,769,514.34\n",
            "Avg = 467,627,825.94\n",
            "N_29 = 13,503,972,740.55\n",
            "Avg = 933,211,572.89\n",
            "N_27 = 3,389,503,958.50\n",
            "Avg = 1,017,911,310.33\n",
            "N_31 = 53,133,888,374.60\n",
            "Avg = 2,755,110,545.80\n",
            "N_30 = 22,809,238,960.78\n",
            "Avg = 3,402,017,914.03\n",
            "N_35 = 693,831,114,195.45\n",
            "Avg = 24,977,927,172.82\n",
            "N_33 = 154,721,254,808.54\n",
            "Avg = 28,909,543,161.78\n",
            "N_36 = 1,332,475,779,627.25\n",
            "Avg = 67,249,726,587.24\n",
            "N_32 = 65,362,971,369.24\n",
            "Avg = 67,195,819,295.30\n",
            "N_34 = 255,927,264,450.02\n",
            "Avg = 72,438,359,438.48\n",
            "N_37 = 1,920,367,677,200.53\n",
            "Avg = 122,382,395,053.67\n",
            "N_39 = 8,695,779,579,440.64\n",
            "Avg = 347,998,110,432.28\n",
            "N_41 = 37,363,775,473,928.69\n",
            "Avg = 1,297,120,606,932.19\n",
            "N_38 = 3,391,092,236,633.40\n",
            "Avg = 1,349,469,897,674.72\n",
            "N_40 = 14,838,479,663,855.51\n",
            "Avg = 1,678,470,135,874.25\n",
            "N_45 = 792,636,735,150,426.38\n",
            "Avg = 20,510,809,779,077.87\n",
            "N_44 = 350,884,351,242,739.69\n",
            "Avg = 28,193,915,394,511.87\n",
            "N_42 = 67,089,257,963,021.98\n",
            "Avg = 29,077,900,452,887.10\n",
            "N_43 = 140,362,830,372,790.34\n",
            "Avg = 31,550,898,895,551.61\n",
            "N_49 = 15,684,581,434,010,030.00\n",
            "Avg = 371,834,171,398,040.25\n",
            "N_48 = 6,141,953,293,893,624.00\n",
            "Avg = 494,602,663,366,031.38\n",
            "N_50 = 34,521,249,839,253,644.00\n",
            "Avg = 1,203,491,146,197,023.25\n",
            "N_56 = 6,863,527,702,162,166,784.00\n",
            "Avg = 141,250,924,024,073,952.00\n",
            "N_51 = 69,407,070,684,091,224.00\n",
            "Avg = 139,814,046,957,274,304.00\n",
            "N_54 = 945,145,153,294,623,232.00\n",
            "Avg = 155,604,852,963,888,992.00\n",
            "N_47 = 1,317,342,187,610,707.75\n",
            "Avg = 152,637,785,448,960,576.00\n",
            "N_52 = 101,703,166,315,628,848.00\n",
            "Avg = 151,676,754,899,275,072.00\n",
            "N_62 = 1,646,118,552,727,149,608,960.00\n",
            "Avg = 30,632,544,828,459,466,752.00\n",
            "N_59 = 76,674,484,133,653,217,280.00\n",
            "Avg = 31,469,670,997,644,804,096.00\n",
            "N_57 = 8,960,957,324,927,979,520.00\n",
            "Avg = 31,067,729,682,060,574,720.00\n",
            "N_68 = 1,038,491,116,380,168,568,963,072.00\n",
            "Avg = 18,249,665,074,427,439,611,904.00\n",
            "N_55 = 1,333,137,432,595,430,656.00\n",
            "Avg = 17,935,038,661,720,631,410,688.00\n",
            "N_53 = 209,594,298,052,960,960.00\n",
            "Avg = 17,631,058,508,035,500,539,904.00\n",
            "N_46 = 380,817,492,382,189.31\n",
            "Avg = 17,337,207,539,248,534,650,880.00\n",
            "N_64 = 9,248,641,359,834,055,180,288.00\n",
            "Avg = 17,204,608,093,684,362,117,120.00\n",
            "N_66 = 84,112,912,515,531,494,391,808.00\n",
            "Avg = 18,283,774,294,036,735,590,400.00\n",
            "N_67 = 261,522,800,394,933,796,601,856.00\n",
            "Avg = 22,144,711,216,273,194,745,856.00\n",
            "N_58 = 14,247,831,079,995,301,888.00\n",
            "Avg = 21,798,922,725,879,550,312,448.00\n",
            "N_72 = 80,255,364,987,763,394,518,974,464.00\n",
            "Avg = 1,256,161,477,572,610,463,105,024.00\n",
            "N_60 = 104,799,017,420,659,212,288.00\n",
            "Avg = 1,237,130,315,776,319,698,239,488.00\n",
            "N_70 = 4,488,484,028,332,160,896,204,800.00\n",
            "Avg = 1,285,657,983,127,899,445,657,600.00\n",
            "N_80 = 3,604,905,331,850,065,270,476,600,508,416.00\n",
            "Avg = 53,014,580,454,925,515,553,025,032,192.00\n",
            "N_81 = 17,087,519,628,207,048,735,109,983,240,192.00\n",
            "Avg = 299,891,465,204,956,274,102,991,060,992.00\n",
            "N_63 = 1,578,406,807,147,554,275,328.00\n",
            "Avg = 295,607,301,438,862,731,080,431,042,560.00\n",
            "N_69 = 1,349,554,023,951,431,131,725,824.00\n",
            "Avg = 291,443,837,327,808,664,564,192,509,952.00\n",
            "N_61 = 194,140,012,904,042,987,520.00\n",
            "Avg = 287,396,006,256,507,734,507,776,901,120.00\n",
            "N_87 = 286,601,387,172,287,084,972,901,082,932,969,472.00\n",
            "Avg = 3,926,329,858,695,035,033,768,319,072,075,776.00\n",
            "N_90 = 133,419,103,271,865,571,009,214,886,367,293,603,840.00\n",
            "Avg = 1,806,834,126,372,301,512,166,925,732,841,259,008.00\n",
            "N_77 = 21,589,898,401,744,480,171,055,906,816.00\n",
            "Avg = 1,782,743,004,975,202,693,459,249,594,326,056,960.00\n",
            "N_78 = 90,834,966,508,368,687,456,063,586,304.00\n",
            "Avg = 1,759,285,861,368,094,467,919,189,173,600,256,000.00\n",
            "N_91 = 1,254,651,305,174,780,385,114,748,056,151,175,200,768.00\n",
            "Avg = 18,030,610,787,516,306,096,090,557,353,434,284,032.00\n",
            "N_76 = 5,315,077,029,000,421,716,137,082,880.00\n",
            "Avg = 17,799,449,110,821,418,916,882,771,181,041,614,848.00\n",
            "N_75 = 1,352,651,475,034,508,451,620,323,328.00\n",
            "Avg = 17,574,139,628,423,082,264,895,614,477,089,636,352.00\n",
            "N_74 = 355,230,979,230,164,319,199,035,392.00\n",
            "Avg = 17,354,462,883,072,233,321,859,336,603,397,259,264.00\n",
            "N_71 = 7,649,473,020,664,933,114,707,968.00\n",
            "Avg = 17,140,210,254,886,249,094,723,925,091,882,631,168.00\n",
            "N_65 = 6,904,162,989,262,882,471,936.00\n",
            "Avg = 16,931,183,300,558,367,000,380,786,368,581,730,304.00\n",
            "N_92 = 13,303,373,820,370,154,067,604,674,825,290,038,378,496.00\n",
            "Avg = 177,008,805,433,926,971,863,201,496,841,400,090,624.00\n"
          ]
        }
      ],
      "source": [
        "## These are additional estimates based on the difference of the count vs the expected count\n",
        "## for various frequencies\n",
        "\n",
        "import scipy.special\n",
        "import math\n",
        "\n",
        "# Fitting on the MLE estimate for each user\n",
        "a = 0.60\n",
        "b = 67.9\n",
        "\n",
        "# Fitting using Method of Moments for Beta-Binomial\n",
        "# a = 0.3\n",
        "# b = 4.6\n",
        "\n",
        "N_approx = dict()\n",
        "sm, cn = 0.0, 0.0\n",
        "for i in f.index:\n",
        "    #print(\"==========================\")\n",
        "    # e_fi = scipy.special.comb(t, i) * scipy.special.beta(a+i, t-i+b) / scipy.special.beta(a, b)\n",
        "    e_fi = beta_binom_density_ln(i, t, a, b)\n",
        "    # print(st.beta.moment(i, a, b))\n",
        "    # print(e_fi)\n",
        "    N_approx[i] = f[i]  / e_fi\n",
        "    print(\"N_{i:02d} = {approx:10,.2f}\". format(i=i, approx=N_approx[i]))\n",
        "    sm += N_approx[i]\n",
        "    cn += 1\n",
        "    print(\"Avg = {approx:10,.2f}\". format(approx=sm/cn))\n",
        "\n",
        ""
      ]
    },
    {
      "cell_type": "code",
      "execution_count": 59,
      "metadata": {
        "collapsed": true,
        "id": "wIZLFPRK29MP"
      },
      "outputs": [],
      "source": [
        "del N_approx[29]\n",
        "del N_approx[34]\n"
      ]
    },
    {
      "cell_type": "code",
      "execution_count": 60,
      "metadata": {
        "colab": {
          "base_uri": "https://localhost:8080/"
        },
        "id": "vD-ybsRP29MP",
        "outputId": "c9e0fa4f-6292-4aa2-95ba-9ab3f169b2f7"
      },
      "outputs": [
        {
          "output_type": "stream",
          "name": "stdout",
          "text": [
            "1.81379393222419e+38\n"
          ]
        }
      ],
      "source": [
        "print(sum(N_approx.values())/len(N_approx))"
      ]
    },
    {
      "cell_type": "code",
      "execution_count": 61,
      "metadata": {
        "colab": {
          "base_uri": "https://localhost:8080/"
        },
        "id": "gnjNCjkX29MP",
        "outputId": "82bf7af2-f726-424a-ff75-2cad0523411a"
      },
      "outputs": [
        {
          "output_type": "execute_result",
          "data": {
            "text/plain": [
              "4044938.1574196112"
            ]
          },
          "metadata": {},
          "execution_count": 61
        }
      ],
      "source": [
        "sorted(N_approx.values())[13]"
      ]
    },
    {
      "cell_type": "code",
      "execution_count": 47,
      "metadata": {
        "colab": {
          "base_uri": "https://localhost:8080/"
        },
        "id": "Oyipw62w29MP",
        "outputId": "ef6c54ac-e01f-4f42-befa-34b7dbe82a05"
      },
      "outputs": [
        {
          "output_type": "execute_result",
          "data": {
            "text/plain": [
              "183931"
            ]
          },
          "metadata": {},
          "execution_count": 47
        }
      ],
      "source": [
        "from scipy.special import logit\n",
        "\n",
        "## Regression against the demographics:\n",
        "\n",
        "tmp = df.set_index('worker_id').drop(\n",
        "    ['hit_answered_date','hit_creation_date','location_city','location_region','date','time'],axis=1)\n",
        "\n",
        "# How often do we see each worker?\n",
        "dem_df = pd.DataFrame(df['worker_id'].value_counts()).merge(\n",
        "    tmp,\n",
        "    how='inner', left_index=True, right_index=True)\n",
        "\n",
        "dem_df = dem_df [ dem_df.worker_id < 30]\n",
        "dem_df['propensity'] = logit(dem_df['worker_id']/30)\n",
        "dem_df['location_country'] = dem_df['location_country'].apply(lambda x : x if x in ['US','IN','CA','GB','PH'] else 'OTHER')\n",
        "dem_df['age'] = 2017-dem_df['year_of_birth']\n",
        "dem_df.drop('year_of_birth',axis=1,inplace=True)\n",
        "dem_df.drop_duplicates(inplace=True)\n",
        "\n",
        "len(dem_df)"
      ]
    },
    {
      "cell_type": "code",
      "execution_count": 48,
      "metadata": {
        "colab": {
          "base_uri": "https://localhost:8080/",
          "height": 496
        },
        "id": "7yXA17r_29MP",
        "outputId": "b6fc8ea4-035a-4351-916f-9765cd6c50d9"
      },
      "outputs": [
        {
          "output_type": "execute_result",
          "data": {
            "text/plain": [
              "                                              worker_id  gender  \\\n",
              "++02UODwxdYWf9ZrGzadGzqDSs6QFkzbErnxTVWRPX0=          6    male   \n",
              "++02UODwxdYWf9ZrGzadGzqDSs6QFkzbErnxTVWRPX0=          6    male   \n",
              "++02UODwxdYWf9ZrGzadGzqDSs6QFkzbErnxTVWRPX0=          6    male   \n",
              "++0FHBqur6ccgrVRWaML3i4Wei72uNDuWkEGKpx8hA8=          1    male   \n",
              "++1gpM2LP7ebtNGeNb3YkjprnKK02swy5CIAWoX64zE=          1    male   \n",
              "...                                                 ...     ...   \n",
              "zzkXv+6/POSSIgwrpa0Yneac9HYW5Rg1Yr7FPvU0O5Y=          1  female   \n",
              "zzmWbq2MtBJlOQb0OzqTh9QdDrsQgtqp6J3VChJAXPg=          1  female   \n",
              "zzvROB3J9BDs83jlcaHmqx8rky0FqkG5TeIhQfXF1Rw=          3    male   \n",
              "zzvROB3J9BDs83jlcaHmqx8rky0FqkG5TeIhQfXF1Rw=          3    male   \n",
              "zzvROB3J9BDs83jlcaHmqx8rky0FqkG5TeIhQfXF1Rw=          3  female   \n",
              "\n",
              "                                             household_size  \\\n",
              "++02UODwxdYWf9ZrGzadGzqDSs6QFkzbErnxTVWRPX0=              1   \n",
              "++02UODwxdYWf9ZrGzadGzqDSs6QFkzbErnxTVWRPX0=              1   \n",
              "++02UODwxdYWf9ZrGzadGzqDSs6QFkzbErnxTVWRPX0=              1   \n",
              "++0FHBqur6ccgrVRWaML3i4Wei72uNDuWkEGKpx8hA8=              4   \n",
              "++1gpM2LP7ebtNGeNb3YkjprnKK02swy5CIAWoX64zE=              2   \n",
              "...                                                     ...   \n",
              "zzkXv+6/POSSIgwrpa0Yneac9HYW5Rg1Yr7FPvU0O5Y=              1   \n",
              "zzmWbq2MtBJlOQb0OzqTh9QdDrsQgtqp6J3VChJAXPg=              4   \n",
              "zzvROB3J9BDs83jlcaHmqx8rky0FqkG5TeIhQfXF1Rw=              2   \n",
              "zzvROB3J9BDs83jlcaHmqx8rky0FqkG5TeIhQfXF1Rw=              3   \n",
              "zzvROB3J9BDs83jlcaHmqx8rky0FqkG5TeIhQfXF1Rw=              3   \n",
              "\n",
              "                                               household_income  \\\n",
              "++02UODwxdYWf9ZrGzadGzqDSs6QFkzbErnxTVWRPX0=    $25,000-$39,999   \n",
              "++02UODwxdYWf9ZrGzadGzqDSs6QFkzbErnxTVWRPX0=    $25,000-$39,999   \n",
              "++02UODwxdYWf9ZrGzadGzqDSs6QFkzbErnxTVWRPX0=    $15,000-$24,999   \n",
              "++0FHBqur6ccgrVRWaML3i4Wei72uNDuWkEGKpx8hA8=  Less than $10,000   \n",
              "++1gpM2LP7ebtNGeNb3YkjprnKK02swy5CIAWoX64zE=    $10,000-$14,999   \n",
              "...                                                         ...   \n",
              "zzkXv+6/POSSIgwrpa0Yneac9HYW5Rg1Yr7FPvU0O5Y=    $60,000-$74,999   \n",
              "zzmWbq2MtBJlOQb0OzqTh9QdDrsQgtqp6J3VChJAXPg=    $10,000-$14,999   \n",
              "zzvROB3J9BDs83jlcaHmqx8rky0FqkG5TeIhQfXF1Rw=  Less than $10,000   \n",
              "zzvROB3J9BDs83jlcaHmqx8rky0FqkG5TeIhQfXF1Rw=  Less than $10,000   \n",
              "zzvROB3J9BDs83jlcaHmqx8rky0FqkG5TeIhQfXF1Rw=    $10,000-$14,999   \n",
              "\n",
              "                                             marital_status  \\\n",
              "++02UODwxdYWf9ZrGzadGzqDSs6QFkzbErnxTVWRPX0=         single   \n",
              "++02UODwxdYWf9ZrGzadGzqDSs6QFkzbErnxTVWRPX0=         single   \n",
              "++02UODwxdYWf9ZrGzadGzqDSs6QFkzbErnxTVWRPX0=         single   \n",
              "++0FHBqur6ccgrVRWaML3i4Wei72uNDuWkEGKpx8hA8=        married   \n",
              "++1gpM2LP7ebtNGeNb3YkjprnKK02swy5CIAWoX64zE=         single   \n",
              "...                                                     ...   \n",
              "zzkXv+6/POSSIgwrpa0Yneac9HYW5Rg1Yr7FPvU0O5Y=        married   \n",
              "zzmWbq2MtBJlOQb0OzqTh9QdDrsQgtqp6J3VChJAXPg=        married   \n",
              "zzvROB3J9BDs83jlcaHmqx8rky0FqkG5TeIhQfXF1Rw=        married   \n",
              "zzvROB3J9BDs83jlcaHmqx8rky0FqkG5TeIhQfXF1Rw=         single   \n",
              "zzvROB3J9BDs83jlcaHmqx8rky0FqkG5TeIhQfXF1Rw=         single   \n",
              "\n",
              "                                               time_spent_on_mturk  \\\n",
              "++02UODwxdYWf9ZrGzadGzqDSs6QFkzbErnxTVWRPX0=                   NaN   \n",
              "++02UODwxdYWf9ZrGzadGzqDSs6QFkzbErnxTVWRPX0=    1-2 hours per week   \n",
              "++02UODwxdYWf9ZrGzadGzqDSs6QFkzbErnxTVWRPX0=  20-40 hours per week   \n",
              "++0FHBqur6ccgrVRWaML3i4Wei72uNDuWkEGKpx8hA8=  20-40 hours per week   \n",
              "++1gpM2LP7ebtNGeNb3YkjprnKK02swy5CIAWoX64zE=    2-4 hours per week   \n",
              "...                                                            ...   \n",
              "zzkXv+6/POSSIgwrpa0Yneac9HYW5Rg1Yr7FPvU0O5Y=                   NaN   \n",
              "zzmWbq2MtBJlOQb0OzqTh9QdDrsQgtqp6J3VChJAXPg=    1-2 hours per week   \n",
              "zzvROB3J9BDs83jlcaHmqx8rky0FqkG5TeIhQfXF1Rw=    4-8 hours per week   \n",
              "zzvROB3J9BDs83jlcaHmqx8rky0FqkG5TeIhQfXF1Rw=    4-8 hours per week   \n",
              "zzvROB3J9BDs83jlcaHmqx8rky0FqkG5TeIhQfXF1Rw=    2-4 hours per week   \n",
              "\n",
              "                                             languages_spoken  \\\n",
              "++02UODwxdYWf9ZrGzadGzqDSs6QFkzbErnxTVWRPX0=              NaN   \n",
              "++02UODwxdYWf9ZrGzadGzqDSs6QFkzbErnxTVWRPX0=          English   \n",
              "++02UODwxdYWf9ZrGzadGzqDSs6QFkzbErnxTVWRPX0=          English   \n",
              "++0FHBqur6ccgrVRWaML3i4Wei72uNDuWkEGKpx8hA8=            Tamil   \n",
              "++1gpM2LP7ebtNGeNb3YkjprnKK02swy5CIAWoX64zE=          English   \n",
              "...                                                       ...   \n",
              "zzkXv+6/POSSIgwrpa0Yneac9HYW5Rg1Yr7FPvU0O5Y=              NaN   \n",
              "zzmWbq2MtBJlOQb0OzqTh9QdDrsQgtqp6J3VChJAXPg=          English   \n",
              "zzvROB3J9BDs83jlcaHmqx8rky0FqkG5TeIhQfXF1Rw=          English   \n",
              "zzvROB3J9BDs83jlcaHmqx8rky0FqkG5TeIhQfXF1Rw=          English   \n",
              "zzvROB3J9BDs83jlcaHmqx8rky0FqkG5TeIhQfXF1Rw=          English   \n",
              "\n",
              "                                             weekly_income_from_mturk  \\\n",
              "++02UODwxdYWf9ZrGzadGzqDSs6QFkzbErnxTVWRPX0=                      NaN   \n",
              "++02UODwxdYWf9ZrGzadGzqDSs6QFkzbErnxTVWRPX0=          $5-$10 per week   \n",
              "++02UODwxdYWf9ZrGzadGzqDSs6QFkzbErnxTVWRPX0=       $100-$200 per week   \n",
              "++0FHBqur6ccgrVRWaML3i4Wei72uNDuWkEGKpx8hA8=         $20-$50 per week   \n",
              "++1gpM2LP7ebtNGeNb3YkjprnKK02swy5CIAWoX64zE=          $5-$10 per week   \n",
              "...                                                               ...   \n",
              "zzkXv+6/POSSIgwrpa0Yneac9HYW5Rg1Yr7FPvU0O5Y=                      NaN   \n",
              "zzmWbq2MtBJlOQb0OzqTh9QdDrsQgtqp6J3VChJAXPg=           $1-$5 per week   \n",
              "zzvROB3J9BDs83jlcaHmqx8rky0FqkG5TeIhQfXF1Rw=           $1-$5 per week   \n",
              "zzvROB3J9BDs83jlcaHmqx8rky0FqkG5TeIhQfXF1Rw=         $10-$20 per week   \n",
              "zzvROB3J9BDs83jlcaHmqx8rky0FqkG5TeIhQfXF1Rw=          $5-$10 per week   \n",
              "\n",
              "                                                    educational_level  \\\n",
              "++02UODwxdYWf9ZrGzadGzqDSs6QFkzbErnxTVWRPX0=                      NaN   \n",
              "++02UODwxdYWf9ZrGzadGzqDSs6QFkzbErnxTVWRPX0=  Some college, no degree   \n",
              "++02UODwxdYWf9ZrGzadGzqDSs6QFkzbErnxTVWRPX0=  Some college, no degree   \n",
              "++0FHBqur6ccgrVRWaML3i4Wei72uNDuWkEGKpx8hA8=         Bachelors degree   \n",
              "++1gpM2LP7ebtNGeNb3YkjprnKK02swy5CIAWoX64zE=         Bachelors degree   \n",
              "...                                                               ...   \n",
              "zzkXv+6/POSSIgwrpa0Yneac9HYW5Rg1Yr7FPvU0O5Y=                      NaN   \n",
              "zzmWbq2MtBJlOQb0OzqTh9QdDrsQgtqp6J3VChJAXPg=         Bachelors degree   \n",
              "zzvROB3J9BDs83jlcaHmqx8rky0FqkG5TeIhQfXF1Rw=         Some High School   \n",
              "zzvROB3J9BDs83jlcaHmqx8rky0FqkG5TeIhQfXF1Rw=         Some High School   \n",
              "zzvROB3J9BDs83jlcaHmqx8rky0FqkG5TeIhQfXF1Rw=  Some college, no degree   \n",
              "\n",
              "                                             location_country  propensity  \\\n",
              "++02UODwxdYWf9ZrGzadGzqDSs6QFkzbErnxTVWRPX0=               US   -1.386294   \n",
              "++02UODwxdYWf9ZrGzadGzqDSs6QFkzbErnxTVWRPX0=               US   -1.386294   \n",
              "++02UODwxdYWf9ZrGzadGzqDSs6QFkzbErnxTVWRPX0=               US   -1.386294   \n",
              "++0FHBqur6ccgrVRWaML3i4Wei72uNDuWkEGKpx8hA8=               IN   -3.367296   \n",
              "++1gpM2LP7ebtNGeNb3YkjprnKK02swy5CIAWoX64zE=               US   -3.367296   \n",
              "...                                                       ...         ...   \n",
              "zzkXv+6/POSSIgwrpa0Yneac9HYW5Rg1Yr7FPvU0O5Y=               US   -3.367296   \n",
              "zzmWbq2MtBJlOQb0OzqTh9QdDrsQgtqp6J3VChJAXPg=               US   -3.367296   \n",
              "zzvROB3J9BDs83jlcaHmqx8rky0FqkG5TeIhQfXF1Rw=               IN   -2.197225   \n",
              "zzvROB3J9BDs83jlcaHmqx8rky0FqkG5TeIhQfXF1Rw=               IN   -2.197225   \n",
              "zzvROB3J9BDs83jlcaHmqx8rky0FqkG5TeIhQfXF1Rw=               IN   -2.197225   \n",
              "\n",
              "                                               age  \n",
              "++02UODwxdYWf9ZrGzadGzqDSs6QFkzbErnxTVWRPX0=  24.0  \n",
              "++02UODwxdYWf9ZrGzadGzqDSs6QFkzbErnxTVWRPX0=  24.0  \n",
              "++02UODwxdYWf9ZrGzadGzqDSs6QFkzbErnxTVWRPX0=  24.0  \n",
              "++0FHBqur6ccgrVRWaML3i4Wei72uNDuWkEGKpx8hA8=  37.0  \n",
              "++1gpM2LP7ebtNGeNb3YkjprnKK02swy5CIAWoX64zE=  22.0  \n",
              "...                                            ...  \n",
              "zzkXv+6/POSSIgwrpa0Yneac9HYW5Rg1Yr7FPvU0O5Y=  28.0  \n",
              "zzmWbq2MtBJlOQb0OzqTh9QdDrsQgtqp6J3VChJAXPg=  53.0  \n",
              "zzvROB3J9BDs83jlcaHmqx8rky0FqkG5TeIhQfXF1Rw=  23.0  \n",
              "zzvROB3J9BDs83jlcaHmqx8rky0FqkG5TeIhQfXF1Rw=  22.0  \n",
              "zzvROB3J9BDs83jlcaHmqx8rky0FqkG5TeIhQfXF1Rw=  21.0  \n",
              "\n",
              "[183931 rows x 12 columns]"
            ],
            "text/html": [
              "\n",
              "  <div id=\"df-b7e4feac-dc27-4ef2-8000-36d9d2a0139f\" class=\"colab-df-container\">\n",
              "    <div>\n",
              "<style scoped>\n",
              "    .dataframe tbody tr th:only-of-type {\n",
              "        vertical-align: middle;\n",
              "    }\n",
              "\n",
              "    .dataframe tbody tr th {\n",
              "        vertical-align: top;\n",
              "    }\n",
              "\n",
              "    .dataframe thead th {\n",
              "        text-align: right;\n",
              "    }\n",
              "</style>\n",
              "<table border=\"1\" class=\"dataframe\">\n",
              "  <thead>\n",
              "    <tr style=\"text-align: right;\">\n",
              "      <th></th>\n",
              "      <th>worker_id</th>\n",
              "      <th>gender</th>\n",
              "      <th>household_size</th>\n",
              "      <th>household_income</th>\n",
              "      <th>marital_status</th>\n",
              "      <th>time_spent_on_mturk</th>\n",
              "      <th>languages_spoken</th>\n",
              "      <th>weekly_income_from_mturk</th>\n",
              "      <th>educational_level</th>\n",
              "      <th>location_country</th>\n",
              "      <th>propensity</th>\n",
              "      <th>age</th>\n",
              "    </tr>\n",
              "  </thead>\n",
              "  <tbody>\n",
              "    <tr>\n",
              "      <th>++02UODwxdYWf9ZrGzadGzqDSs6QFkzbErnxTVWRPX0=</th>\n",
              "      <td>6</td>\n",
              "      <td>male</td>\n",
              "      <td>1</td>\n",
              "      <td>$25,000-$39,999</td>\n",
              "      <td>single</td>\n",
              "      <td>NaN</td>\n",
              "      <td>NaN</td>\n",
              "      <td>NaN</td>\n",
              "      <td>NaN</td>\n",
              "      <td>US</td>\n",
              "      <td>-1.386294</td>\n",
              "      <td>24.0</td>\n",
              "    </tr>\n",
              "    <tr>\n",
              "      <th>++02UODwxdYWf9ZrGzadGzqDSs6QFkzbErnxTVWRPX0=</th>\n",
              "      <td>6</td>\n",
              "      <td>male</td>\n",
              "      <td>1</td>\n",
              "      <td>$25,000-$39,999</td>\n",
              "      <td>single</td>\n",
              "      <td>1-2 hours per week</td>\n",
              "      <td>English</td>\n",
              "      <td>$5-$10 per week</td>\n",
              "      <td>Some college, no degree</td>\n",
              "      <td>US</td>\n",
              "      <td>-1.386294</td>\n",
              "      <td>24.0</td>\n",
              "    </tr>\n",
              "    <tr>\n",
              "      <th>++02UODwxdYWf9ZrGzadGzqDSs6QFkzbErnxTVWRPX0=</th>\n",
              "      <td>6</td>\n",
              "      <td>male</td>\n",
              "      <td>1</td>\n",
              "      <td>$15,000-$24,999</td>\n",
              "      <td>single</td>\n",
              "      <td>20-40 hours per week</td>\n",
              "      <td>English</td>\n",
              "      <td>$100-$200 per week</td>\n",
              "      <td>Some college, no degree</td>\n",
              "      <td>US</td>\n",
              "      <td>-1.386294</td>\n",
              "      <td>24.0</td>\n",
              "    </tr>\n",
              "    <tr>\n",
              "      <th>++0FHBqur6ccgrVRWaML3i4Wei72uNDuWkEGKpx8hA8=</th>\n",
              "      <td>1</td>\n",
              "      <td>male</td>\n",
              "      <td>4</td>\n",
              "      <td>Less than $10,000</td>\n",
              "      <td>married</td>\n",
              "      <td>20-40 hours per week</td>\n",
              "      <td>Tamil</td>\n",
              "      <td>$20-$50 per week</td>\n",
              "      <td>Bachelors degree</td>\n",
              "      <td>IN</td>\n",
              "      <td>-3.367296</td>\n",
              "      <td>37.0</td>\n",
              "    </tr>\n",
              "    <tr>\n",
              "      <th>++1gpM2LP7ebtNGeNb3YkjprnKK02swy5CIAWoX64zE=</th>\n",
              "      <td>1</td>\n",
              "      <td>male</td>\n",
              "      <td>2</td>\n",
              "      <td>$10,000-$14,999</td>\n",
              "      <td>single</td>\n",
              "      <td>2-4 hours per week</td>\n",
              "      <td>English</td>\n",
              "      <td>$5-$10 per week</td>\n",
              "      <td>Bachelors degree</td>\n",
              "      <td>US</td>\n",
              "      <td>-3.367296</td>\n",
              "      <td>22.0</td>\n",
              "    </tr>\n",
              "    <tr>\n",
              "      <th>...</th>\n",
              "      <td>...</td>\n",
              "      <td>...</td>\n",
              "      <td>...</td>\n",
              "      <td>...</td>\n",
              "      <td>...</td>\n",
              "      <td>...</td>\n",
              "      <td>...</td>\n",
              "      <td>...</td>\n",
              "      <td>...</td>\n",
              "      <td>...</td>\n",
              "      <td>...</td>\n",
              "      <td>...</td>\n",
              "    </tr>\n",
              "    <tr>\n",
              "      <th>zzkXv+6/POSSIgwrpa0Yneac9HYW5Rg1Yr7FPvU0O5Y=</th>\n",
              "      <td>1</td>\n",
              "      <td>female</td>\n",
              "      <td>1</td>\n",
              "      <td>$60,000-$74,999</td>\n",
              "      <td>married</td>\n",
              "      <td>NaN</td>\n",
              "      <td>NaN</td>\n",
              "      <td>NaN</td>\n",
              "      <td>NaN</td>\n",
              "      <td>US</td>\n",
              "      <td>-3.367296</td>\n",
              "      <td>28.0</td>\n",
              "    </tr>\n",
              "    <tr>\n",
              "      <th>zzmWbq2MtBJlOQb0OzqTh9QdDrsQgtqp6J3VChJAXPg=</th>\n",
              "      <td>1</td>\n",
              "      <td>female</td>\n",
              "      <td>4</td>\n",
              "      <td>$10,000-$14,999</td>\n",
              "      <td>married</td>\n",
              "      <td>1-2 hours per week</td>\n",
              "      <td>English</td>\n",
              "      <td>$1-$5 per week</td>\n",
              "      <td>Bachelors degree</td>\n",
              "      <td>US</td>\n",
              "      <td>-3.367296</td>\n",
              "      <td>53.0</td>\n",
              "    </tr>\n",
              "    <tr>\n",
              "      <th>zzvROB3J9BDs83jlcaHmqx8rky0FqkG5TeIhQfXF1Rw=</th>\n",
              "      <td>3</td>\n",
              "      <td>male</td>\n",
              "      <td>2</td>\n",
              "      <td>Less than $10,000</td>\n",
              "      <td>married</td>\n",
              "      <td>4-8 hours per week</td>\n",
              "      <td>English</td>\n",
              "      <td>$1-$5 per week</td>\n",
              "      <td>Some High School</td>\n",
              "      <td>IN</td>\n",
              "      <td>-2.197225</td>\n",
              "      <td>23.0</td>\n",
              "    </tr>\n",
              "    <tr>\n",
              "      <th>zzvROB3J9BDs83jlcaHmqx8rky0FqkG5TeIhQfXF1Rw=</th>\n",
              "      <td>3</td>\n",
              "      <td>male</td>\n",
              "      <td>3</td>\n",
              "      <td>Less than $10,000</td>\n",
              "      <td>single</td>\n",
              "      <td>4-8 hours per week</td>\n",
              "      <td>English</td>\n",
              "      <td>$10-$20 per week</td>\n",
              "      <td>Some High School</td>\n",
              "      <td>IN</td>\n",
              "      <td>-2.197225</td>\n",
              "      <td>22.0</td>\n",
              "    </tr>\n",
              "    <tr>\n",
              "      <th>zzvROB3J9BDs83jlcaHmqx8rky0FqkG5TeIhQfXF1Rw=</th>\n",
              "      <td>3</td>\n",
              "      <td>female</td>\n",
              "      <td>3</td>\n",
              "      <td>$10,000-$14,999</td>\n",
              "      <td>single</td>\n",
              "      <td>2-4 hours per week</td>\n",
              "      <td>English</td>\n",
              "      <td>$5-$10 per week</td>\n",
              "      <td>Some college, no degree</td>\n",
              "      <td>IN</td>\n",
              "      <td>-2.197225</td>\n",
              "      <td>21.0</td>\n",
              "    </tr>\n",
              "  </tbody>\n",
              "</table>\n",
              "<p>183931 rows × 12 columns</p>\n",
              "</div>\n",
              "    <div class=\"colab-df-buttons\">\n",
              "\n",
              "  <div class=\"colab-df-container\">\n",
              "    <button class=\"colab-df-convert\" onclick=\"convertToInteractive('df-b7e4feac-dc27-4ef2-8000-36d9d2a0139f')\"\n",
              "            title=\"Convert this dataframe to an interactive table.\"\n",
              "            style=\"display:none;\">\n",
              "\n",
              "  <svg xmlns=\"http://www.w3.org/2000/svg\" height=\"24px\" viewBox=\"0 -960 960 960\">\n",
              "    <path d=\"M120-120v-720h720v720H120Zm60-500h600v-160H180v160Zm220 220h160v-160H400v160Zm0 220h160v-160H400v160ZM180-400h160v-160H180v160Zm440 0h160v-160H620v160ZM180-180h160v-160H180v160Zm440 0h160v-160H620v160Z\"/>\n",
              "  </svg>\n",
              "    </button>\n",
              "\n",
              "  <style>\n",
              "    .colab-df-container {\n",
              "      display:flex;\n",
              "      gap: 12px;\n",
              "    }\n",
              "\n",
              "    .colab-df-convert {\n",
              "      background-color: #E8F0FE;\n",
              "      border: none;\n",
              "      border-radius: 50%;\n",
              "      cursor: pointer;\n",
              "      display: none;\n",
              "      fill: #1967D2;\n",
              "      height: 32px;\n",
              "      padding: 0 0 0 0;\n",
              "      width: 32px;\n",
              "    }\n",
              "\n",
              "    .colab-df-convert:hover {\n",
              "      background-color: #E2EBFA;\n",
              "      box-shadow: 0px 1px 2px rgba(60, 64, 67, 0.3), 0px 1px 3px 1px rgba(60, 64, 67, 0.15);\n",
              "      fill: #174EA6;\n",
              "    }\n",
              "\n",
              "    .colab-df-buttons div {\n",
              "      margin-bottom: 4px;\n",
              "    }\n",
              "\n",
              "    [theme=dark] .colab-df-convert {\n",
              "      background-color: #3B4455;\n",
              "      fill: #D2E3FC;\n",
              "    }\n",
              "\n",
              "    [theme=dark] .colab-df-convert:hover {\n",
              "      background-color: #434B5C;\n",
              "      box-shadow: 0px 1px 3px 1px rgba(0, 0, 0, 0.15);\n",
              "      filter: drop-shadow(0px 1px 2px rgba(0, 0, 0, 0.3));\n",
              "      fill: #FFFFFF;\n",
              "    }\n",
              "  </style>\n",
              "\n",
              "    <script>\n",
              "      const buttonEl =\n",
              "        document.querySelector('#df-b7e4feac-dc27-4ef2-8000-36d9d2a0139f button.colab-df-convert');\n",
              "      buttonEl.style.display =\n",
              "        google.colab.kernel.accessAllowed ? 'block' : 'none';\n",
              "\n",
              "      async function convertToInteractive(key) {\n",
              "        const element = document.querySelector('#df-b7e4feac-dc27-4ef2-8000-36d9d2a0139f');\n",
              "        const dataTable =\n",
              "          await google.colab.kernel.invokeFunction('convertToInteractive',\n",
              "                                                    [key], {});\n",
              "        if (!dataTable) return;\n",
              "\n",
              "        const docLinkHtml = 'Like what you see? Visit the ' +\n",
              "          '<a target=\"_blank\" href=https://colab.research.google.com/notebooks/data_table.ipynb>data table notebook</a>'\n",
              "          + ' to learn more about interactive tables.';\n",
              "        element.innerHTML = '';\n",
              "        dataTable['output_type'] = 'display_data';\n",
              "        await google.colab.output.renderOutput(dataTable, element);\n",
              "        const docLink = document.createElement('div');\n",
              "        docLink.innerHTML = docLinkHtml;\n",
              "        element.appendChild(docLink);\n",
              "      }\n",
              "    </script>\n",
              "  </div>\n",
              "\n",
              "\n",
              "<div id=\"df-50ba1ce7-1c1f-4378-a03e-bb8ba7bf1cf0\">\n",
              "  <button class=\"colab-df-quickchart\" onclick=\"quickchart('df-50ba1ce7-1c1f-4378-a03e-bb8ba7bf1cf0')\"\n",
              "            title=\"Suggest charts.\"\n",
              "            style=\"display:none;\">\n",
              "\n",
              "<svg xmlns=\"http://www.w3.org/2000/svg\" height=\"24px\"viewBox=\"0 0 24 24\"\n",
              "     width=\"24px\">\n",
              "    <g>\n",
              "        <path d=\"M19 3H5c-1.1 0-2 .9-2 2v14c0 1.1.9 2 2 2h14c1.1 0 2-.9 2-2V5c0-1.1-.9-2-2-2zM9 17H7v-7h2v7zm4 0h-2V7h2v10zm4 0h-2v-4h2v4z\"/>\n",
              "    </g>\n",
              "</svg>\n",
              "  </button>\n",
              "\n",
              "<style>\n",
              "  .colab-df-quickchart {\n",
              "    background-color: #E8F0FE;\n",
              "    border: none;\n",
              "    border-radius: 50%;\n",
              "    cursor: pointer;\n",
              "    display: none;\n",
              "    fill: #1967D2;\n",
              "    height: 32px;\n",
              "    padding: 0 0 0 0;\n",
              "    width: 32px;\n",
              "  }\n",
              "\n",
              "  .colab-df-quickchart:hover {\n",
              "    background-color: #E2EBFA;\n",
              "    box-shadow: 0px 1px 2px rgba(60, 64, 67, 0.3), 0px 1px 3px 1px rgba(60, 64, 67, 0.15);\n",
              "    fill: #174EA6;\n",
              "  }\n",
              "\n",
              "  [theme=dark] .colab-df-quickchart {\n",
              "    background-color: #3B4455;\n",
              "    fill: #D2E3FC;\n",
              "  }\n",
              "\n",
              "  [theme=dark] .colab-df-quickchart:hover {\n",
              "    background-color: #434B5C;\n",
              "    box-shadow: 0px 1px 3px 1px rgba(0, 0, 0, 0.15);\n",
              "    filter: drop-shadow(0px 1px 2px rgba(0, 0, 0, 0.3));\n",
              "    fill: #FFFFFF;\n",
              "  }\n",
              "</style>\n",
              "\n",
              "  <script>\n",
              "    async function quickchart(key) {\n",
              "      const charts = await google.colab.kernel.invokeFunction(\n",
              "          'suggestCharts', [key], {});\n",
              "    }\n",
              "    (() => {\n",
              "      let quickchartButtonEl =\n",
              "        document.querySelector('#df-50ba1ce7-1c1f-4378-a03e-bb8ba7bf1cf0 button');\n",
              "      quickchartButtonEl.style.display =\n",
              "        google.colab.kernel.accessAllowed ? 'block' : 'none';\n",
              "    })();\n",
              "  </script>\n",
              "</div>\n",
              "    </div>\n",
              "  </div>\n"
            ]
          },
          "metadata": {},
          "execution_count": 48
        }
      ],
      "source": [
        "dem_df"
      ]
    },
    {
      "cell_type": "code",
      "execution_count": 49,
      "metadata": {
        "colab": {
          "base_uri": "https://localhost:8080/"
        },
        "id": "iNj73B3W29MP",
        "outputId": "b49919a6-ef15-4b4f-e4f7-6bc12e240f0e"
      },
      "outputs": [
        {
          "output_type": "execute_result",
          "data": {
            "text/plain": [
              "worker_id                      int64\n",
              "gender                        object\n",
              "household_size              category\n",
              "household_income            category\n",
              "marital_status              category\n",
              "time_spent_on_mturk           object\n",
              "languages_spoken              object\n",
              "weekly_income_from_mturk      object\n",
              "educational_level             object\n",
              "location_country              object\n",
              "propensity                   float64\n",
              "age                          float64\n",
              "dtype: object"
            ]
          },
          "metadata": {},
          "execution_count": 49
        }
      ],
      "source": [
        "dem_df.dtypes"
      ]
    },
    {
      "cell_type": "code",
      "execution_count": 50,
      "metadata": {
        "colab": {
          "base_uri": "https://localhost:8080/",
          "height": 1000
        },
        "id": "y4JJimlZ29MP",
        "outputId": "44776d0c-507a-4cb3-836d-093ac7c6b2a7"
      },
      "outputs": [
        {
          "output_type": "execute_result",
          "data": {
            "text/plain": [
              "<class 'statsmodels.iolib.summary.Summary'>\n",
              "\"\"\"\n",
              "                            OLS Regression Results                            \n",
              "==============================================================================\n",
              "Dep. Variable:             propensity   R-squared:                       0.104\n",
              "Model:                            OLS   Adj. R-squared:                  0.104\n",
              "Method:                 Least Squares   F-statistic:                     822.6\n",
              "Date:                Sun, 20 Aug 2023   Prob (F-statistic):               0.00\n",
              "Time:                        10:26:28   Log-Likelihood:            -3.0876e+05\n",
              "No. Observations:              183831   AIC:                         6.176e+05\n",
              "Df Residuals:                  183804   BIC:                         6.178e+05\n",
              "Df Model:                          26                                         \n",
              "Covariance Type:            nonrobust                                         \n",
              "============================================================================================================\n",
              "                                               coef    std err          t      P>|t|      [0.025      0.975]\n",
              "------------------------------------------------------------------------------------------------------------\n",
              "Intercept                                   -3.3621      1.298     -2.590      0.010      -5.907      -0.818\n",
              "C(location_country)[T.GB]                   -0.2981      0.034     -8.757      0.000      -0.365      -0.231\n",
              "C(location_country)[T.IN]                    1.4777      0.025     58.087      0.000       1.428       1.528\n",
              "C(location_country)[T.OTHER]                 0.3688      0.026     14.131      0.000       0.318       0.420\n",
              "C(location_country)[T.PH]                    0.5489      0.068      8.070      0.000       0.416       0.682\n",
              "C(location_country)[T.US]                    0.2369      0.024      9.816      0.000       0.190       0.284\n",
              "C(gender)[T.female]                          0.9696      1.298      0.747      0.455      -1.574       3.514\n",
              "C(gender)[T.male]                            0.9537      1.298      0.735      0.462      -1.590       3.498\n",
              "C(household_income)[T.$100,000 or more]      0.1984      0.015     13.150      0.000       0.169       0.228\n",
              "C(household_income)[T.$15,000-$24,999]       0.0971      0.014      6.897      0.000       0.070       0.125\n",
              "C(household_income)[T.$25,000-$39,999]       0.1139      0.013      8.629      0.000       0.088       0.140\n",
              "C(household_income)[T.$40,000-$59,999]       0.1170      0.013      9.069      0.000       0.092       0.142\n",
              "C(household_income)[T.$60,000-$74,999]       0.1461      0.014     10.459      0.000       0.119       0.173\n",
              "C(household_income)[T.$75,000-$99,999]       0.1335      0.014      9.444      0.000       0.106       0.161\n",
              "C(household_income)[T.Less than $10,000]    -0.0602      0.014     -4.173      0.000      -0.089      -0.032\n",
              "C(household_size)[T.2]                      -0.1048      0.011     -9.153      0.000      -0.127      -0.082\n",
              "C(household_size)[T.3]                      -0.1733      0.011    -15.362      0.000      -0.195      -0.151\n",
              "C(household_size)[T.4]                      -0.2029      0.011    -17.656      0.000      -0.225      -0.180\n",
              "C(household_size)[T.5 ]                      0.3459      0.649      0.533      0.594      -0.926       1.618\n",
              "C(household_size)[T.5+]                     -0.1246      0.013     -9.482      0.000      -0.150      -0.099\n",
              "C(marital_status)[T.divorced]               -0.1161      0.020     -5.853      0.000      -0.155      -0.077\n",
              "C(marital_status)[T.engaged]                -0.2643      0.021    -12.446      0.000      -0.306      -0.223\n",
              "C(marital_status)[T.married]                -0.2950      0.013    -23.300      0.000      -0.320      -0.270\n",
              "C(marital_status)[T.separated]               0.8089      0.918      0.881      0.378      -0.990       2.608\n",
              "C(marital_status)[T.single]                 -0.1120      0.013     -8.420      0.000      -0.138      -0.086\n",
              "C(marital_status)[T.widowed]                -0.1348      0.459     -0.294      0.769      -1.035       0.765\n",
              "age                                          0.0061      0.000     22.510      0.000       0.006       0.007\n",
              "==============================================================================\n",
              "Omnibus:                    27462.829   Durbin-Watson:                   0.506\n",
              "Prob(Omnibus):                  0.000   Jarque-Bera (JB):            44034.461\n",
              "Skew:                           1.033   Prob(JB):                         0.00\n",
              "Kurtosis:                       4.216   Cond. No.                     2.60e+04\n",
              "==============================================================================\n",
              "\n",
              "Notes:\n",
              "[1] Standard Errors assume that the covariance matrix of the errors is correctly specified.\n",
              "[2] The condition number is large, 2.6e+04. This might indicate that there are\n",
              "strong multicollinearity or other numerical problems.\n",
              "\"\"\""
            ],
            "text/html": [
              "<table class=\"simpletable\">\n",
              "<caption>OLS Regression Results</caption>\n",
              "<tr>\n",
              "  <th>Dep. Variable:</th>       <td>propensity</td>    <th>  R-squared:         </th>  <td>   0.104</td>  \n",
              "</tr>\n",
              "<tr>\n",
              "  <th>Model:</th>                   <td>OLS</td>       <th>  Adj. R-squared:    </th>  <td>   0.104</td>  \n",
              "</tr>\n",
              "<tr>\n",
              "  <th>Method:</th>             <td>Least Squares</td>  <th>  F-statistic:       </th>  <td>   822.6</td>  \n",
              "</tr>\n",
              "<tr>\n",
              "  <th>Date:</th>             <td>Sun, 20 Aug 2023</td> <th>  Prob (F-statistic):</th>   <td>  0.00</td>   \n",
              "</tr>\n",
              "<tr>\n",
              "  <th>Time:</th>                 <td>10:26:28</td>     <th>  Log-Likelihood:    </th> <td>-3.0876e+05</td>\n",
              "</tr>\n",
              "<tr>\n",
              "  <th>No. Observations:</th>      <td>183831</td>      <th>  AIC:               </th>  <td>6.176e+05</td> \n",
              "</tr>\n",
              "<tr>\n",
              "  <th>Df Residuals:</th>          <td>183804</td>      <th>  BIC:               </th>  <td>6.178e+05</td> \n",
              "</tr>\n",
              "<tr>\n",
              "  <th>Df Model:</th>              <td>    26</td>      <th>                     </th>      <td> </td>     \n",
              "</tr>\n",
              "<tr>\n",
              "  <th>Covariance Type:</th>      <td>nonrobust</td>    <th>                     </th>      <td> </td>     \n",
              "</tr>\n",
              "</table>\n",
              "<table class=\"simpletable\">\n",
              "<tr>\n",
              "                      <td></td>                        <th>coef</th>     <th>std err</th>      <th>t</th>      <th>P>|t|</th>  <th>[0.025</th>    <th>0.975]</th>  \n",
              "</tr>\n",
              "<tr>\n",
              "  <th>Intercept</th>                                <td>   -3.3621</td> <td>    1.298</td> <td>   -2.590</td> <td> 0.010</td> <td>   -5.907</td> <td>   -0.818</td>\n",
              "</tr>\n",
              "<tr>\n",
              "  <th>C(location_country)[T.GB]</th>                <td>   -0.2981</td> <td>    0.034</td> <td>   -8.757</td> <td> 0.000</td> <td>   -0.365</td> <td>   -0.231</td>\n",
              "</tr>\n",
              "<tr>\n",
              "  <th>C(location_country)[T.IN]</th>                <td>    1.4777</td> <td>    0.025</td> <td>   58.087</td> <td> 0.000</td> <td>    1.428</td> <td>    1.528</td>\n",
              "</tr>\n",
              "<tr>\n",
              "  <th>C(location_country)[T.OTHER]</th>             <td>    0.3688</td> <td>    0.026</td> <td>   14.131</td> <td> 0.000</td> <td>    0.318</td> <td>    0.420</td>\n",
              "</tr>\n",
              "<tr>\n",
              "  <th>C(location_country)[T.PH]</th>                <td>    0.5489</td> <td>    0.068</td> <td>    8.070</td> <td> 0.000</td> <td>    0.416</td> <td>    0.682</td>\n",
              "</tr>\n",
              "<tr>\n",
              "  <th>C(location_country)[T.US]</th>                <td>    0.2369</td> <td>    0.024</td> <td>    9.816</td> <td> 0.000</td> <td>    0.190</td> <td>    0.284</td>\n",
              "</tr>\n",
              "<tr>\n",
              "  <th>C(gender)[T.female]</th>                      <td>    0.9696</td> <td>    1.298</td> <td>    0.747</td> <td> 0.455</td> <td>   -1.574</td> <td>    3.514</td>\n",
              "</tr>\n",
              "<tr>\n",
              "  <th>C(gender)[T.male]</th>                        <td>    0.9537</td> <td>    1.298</td> <td>    0.735</td> <td> 0.462</td> <td>   -1.590</td> <td>    3.498</td>\n",
              "</tr>\n",
              "<tr>\n",
              "  <th>C(household_income)[T.$100,000 or more]</th>  <td>    0.1984</td> <td>    0.015</td> <td>   13.150</td> <td> 0.000</td> <td>    0.169</td> <td>    0.228</td>\n",
              "</tr>\n",
              "<tr>\n",
              "  <th>C(household_income)[T.$15,000-$24,999]</th>   <td>    0.0971</td> <td>    0.014</td> <td>    6.897</td> <td> 0.000</td> <td>    0.070</td> <td>    0.125</td>\n",
              "</tr>\n",
              "<tr>\n",
              "  <th>C(household_income)[T.$25,000-$39,999]</th>   <td>    0.1139</td> <td>    0.013</td> <td>    8.629</td> <td> 0.000</td> <td>    0.088</td> <td>    0.140</td>\n",
              "</tr>\n",
              "<tr>\n",
              "  <th>C(household_income)[T.$40,000-$59,999]</th>   <td>    0.1170</td> <td>    0.013</td> <td>    9.069</td> <td> 0.000</td> <td>    0.092</td> <td>    0.142</td>\n",
              "</tr>\n",
              "<tr>\n",
              "  <th>C(household_income)[T.$60,000-$74,999]</th>   <td>    0.1461</td> <td>    0.014</td> <td>   10.459</td> <td> 0.000</td> <td>    0.119</td> <td>    0.173</td>\n",
              "</tr>\n",
              "<tr>\n",
              "  <th>C(household_income)[T.$75,000-$99,999]</th>   <td>    0.1335</td> <td>    0.014</td> <td>    9.444</td> <td> 0.000</td> <td>    0.106</td> <td>    0.161</td>\n",
              "</tr>\n",
              "<tr>\n",
              "  <th>C(household_income)[T.Less than $10,000]</th> <td>   -0.0602</td> <td>    0.014</td> <td>   -4.173</td> <td> 0.000</td> <td>   -0.089</td> <td>   -0.032</td>\n",
              "</tr>\n",
              "<tr>\n",
              "  <th>C(household_size)[T.2]</th>                   <td>   -0.1048</td> <td>    0.011</td> <td>   -9.153</td> <td> 0.000</td> <td>   -0.127</td> <td>   -0.082</td>\n",
              "</tr>\n",
              "<tr>\n",
              "  <th>C(household_size)[T.3]</th>                   <td>   -0.1733</td> <td>    0.011</td> <td>  -15.362</td> <td> 0.000</td> <td>   -0.195</td> <td>   -0.151</td>\n",
              "</tr>\n",
              "<tr>\n",
              "  <th>C(household_size)[T.4]</th>                   <td>   -0.2029</td> <td>    0.011</td> <td>  -17.656</td> <td> 0.000</td> <td>   -0.225</td> <td>   -0.180</td>\n",
              "</tr>\n",
              "<tr>\n",
              "  <th>C(household_size)[T.5 ]</th>                  <td>    0.3459</td> <td>    0.649</td> <td>    0.533</td> <td> 0.594</td> <td>   -0.926</td> <td>    1.618</td>\n",
              "</tr>\n",
              "<tr>\n",
              "  <th>C(household_size)[T.5+]</th>                  <td>   -0.1246</td> <td>    0.013</td> <td>   -9.482</td> <td> 0.000</td> <td>   -0.150</td> <td>   -0.099</td>\n",
              "</tr>\n",
              "<tr>\n",
              "  <th>C(marital_status)[T.divorced]</th>            <td>   -0.1161</td> <td>    0.020</td> <td>   -5.853</td> <td> 0.000</td> <td>   -0.155</td> <td>   -0.077</td>\n",
              "</tr>\n",
              "<tr>\n",
              "  <th>C(marital_status)[T.engaged]</th>             <td>   -0.2643</td> <td>    0.021</td> <td>  -12.446</td> <td> 0.000</td> <td>   -0.306</td> <td>   -0.223</td>\n",
              "</tr>\n",
              "<tr>\n",
              "  <th>C(marital_status)[T.married]</th>             <td>   -0.2950</td> <td>    0.013</td> <td>  -23.300</td> <td> 0.000</td> <td>   -0.320</td> <td>   -0.270</td>\n",
              "</tr>\n",
              "<tr>\n",
              "  <th>C(marital_status)[T.separated]</th>           <td>    0.8089</td> <td>    0.918</td> <td>    0.881</td> <td> 0.378</td> <td>   -0.990</td> <td>    2.608</td>\n",
              "</tr>\n",
              "<tr>\n",
              "  <th>C(marital_status)[T.single]</th>              <td>   -0.1120</td> <td>    0.013</td> <td>   -8.420</td> <td> 0.000</td> <td>   -0.138</td> <td>   -0.086</td>\n",
              "</tr>\n",
              "<tr>\n",
              "  <th>C(marital_status)[T.widowed]</th>             <td>   -0.1348</td> <td>    0.459</td> <td>   -0.294</td> <td> 0.769</td> <td>   -1.035</td> <td>    0.765</td>\n",
              "</tr>\n",
              "<tr>\n",
              "  <th>age</th>                                      <td>    0.0061</td> <td>    0.000</td> <td>   22.510</td> <td> 0.000</td> <td>    0.006</td> <td>    0.007</td>\n",
              "</tr>\n",
              "</table>\n",
              "<table class=\"simpletable\">\n",
              "<tr>\n",
              "  <th>Omnibus:</th>       <td>27462.829</td> <th>  Durbin-Watson:     </th> <td>   0.506</td> \n",
              "</tr>\n",
              "<tr>\n",
              "  <th>Prob(Omnibus):</th>  <td> 0.000</td>   <th>  Jarque-Bera (JB):  </th> <td>44034.461</td>\n",
              "</tr>\n",
              "<tr>\n",
              "  <th>Skew:</th>           <td> 1.033</td>   <th>  Prob(JB):          </th> <td>    0.00</td> \n",
              "</tr>\n",
              "<tr>\n",
              "  <th>Kurtosis:</th>       <td> 4.216</td>   <th>  Cond. No.          </th> <td>2.60e+04</td> \n",
              "</tr>\n",
              "</table><br/><br/>Notes:<br/>[1] Standard Errors assume that the covariance matrix of the errors is correctly specified.<br/>[2] The condition number is large, 2.6e+04. This might indicate that there are<br/>strong multicollinearity or other numerical problems."
            ],
            "text/latex": "\\begin{center}\n\\begin{tabular}{lclc}\n\\toprule\n\\textbf{Dep. Variable:}                             &    propensity    & \\textbf{  R-squared:         } &      0.104   \\\\\n\\textbf{Model:}                                     &       OLS        & \\textbf{  Adj. R-squared:    } &      0.104   \\\\\n\\textbf{Method:}                                    &  Least Squares   & \\textbf{  F-statistic:       } &      822.6   \\\\\n\\textbf{Date:}                                      & Sun, 20 Aug 2023 & \\textbf{  Prob (F-statistic):} &      0.00    \\\\\n\\textbf{Time:}                                      &     10:26:28     & \\textbf{  Log-Likelihood:    } & -3.0876e+05  \\\\\n\\textbf{No. Observations:}                          &      183831      & \\textbf{  AIC:               } &  6.176e+05   \\\\\n\\textbf{Df Residuals:}                              &      183804      & \\textbf{  BIC:               } &  6.178e+05   \\\\\n\\textbf{Df Model:}                                  &          26      & \\textbf{                     } &              \\\\\n\\textbf{Covariance Type:}                           &    nonrobust     & \\textbf{                     } &              \\\\\n\\bottomrule\n\\end{tabular}\n\\begin{tabular}{lcccccc}\n                                                    & \\textbf{coef} & \\textbf{std err} & \\textbf{t} & \\textbf{P$> |$t$|$} & \\textbf{[0.025} & \\textbf{0.975]}  \\\\\n\\midrule\n\\textbf{Intercept}                                  &      -3.3621  &        1.298     &    -2.590  &         0.010        &       -5.907    &       -0.818     \\\\\n\\textbf{C(location\\_country)[T.GB]}                 &      -0.2981  &        0.034     &    -8.757  &         0.000        &       -0.365    &       -0.231     \\\\\n\\textbf{C(location\\_country)[T.IN]}                 &       1.4777  &        0.025     &    58.087  &         0.000        &        1.428    &        1.528     \\\\\n\\textbf{C(location\\_country)[T.OTHER]}              &       0.3688  &        0.026     &    14.131  &         0.000        &        0.318    &        0.420     \\\\\n\\textbf{C(location\\_country)[T.PH]}                 &       0.5489  &        0.068     &     8.070  &         0.000        &        0.416    &        0.682     \\\\\n\\textbf{C(location\\_country)[T.US]}                 &       0.2369  &        0.024     &     9.816  &         0.000        &        0.190    &        0.284     \\\\\n\\textbf{C(gender)[T.female]}                        &       0.9696  &        1.298     &     0.747  &         0.455        &       -1.574    &        3.514     \\\\\n\\textbf{C(gender)[T.male]}                          &       0.9537  &        1.298     &     0.735  &         0.462        &       -1.590    &        3.498     \\\\\n\\textbf{C(household\\_income)[T.\\$100,000 or more]}  &       0.1984  &        0.015     &    13.150  &         0.000        &        0.169    &        0.228     \\\\\n\\textbf{C(household\\_income)[T.\\$15,000-\\$24,999]}  &       0.0971  &        0.014     &     6.897  &         0.000        &        0.070    &        0.125     \\\\\n\\textbf{C(household\\_income)[T.\\$25,000-\\$39,999]}  &       0.1139  &        0.013     &     8.629  &         0.000        &        0.088    &        0.140     \\\\\n\\textbf{C(household\\_income)[T.\\$40,000-\\$59,999]}  &       0.1170  &        0.013     &     9.069  &         0.000        &        0.092    &        0.142     \\\\\n\\textbf{C(household\\_income)[T.\\$60,000-\\$74,999]}  &       0.1461  &        0.014     &    10.459  &         0.000        &        0.119    &        0.173     \\\\\n\\textbf{C(household\\_income)[T.\\$75,000-\\$99,999]}  &       0.1335  &        0.014     &     9.444  &         0.000        &        0.106    &        0.161     \\\\\n\\textbf{C(household\\_income)[T.Less than \\$10,000]} &      -0.0602  &        0.014     &    -4.173  &         0.000        &       -0.089    &       -0.032     \\\\\n\\textbf{C(household\\_size)[T.2]}                    &      -0.1048  &        0.011     &    -9.153  &         0.000        &       -0.127    &       -0.082     \\\\\n\\textbf{C(household\\_size)[T.3]}                    &      -0.1733  &        0.011     &   -15.362  &         0.000        &       -0.195    &       -0.151     \\\\\n\\textbf{C(household\\_size)[T.4]}                    &      -0.2029  &        0.011     &   -17.656  &         0.000        &       -0.225    &       -0.180     \\\\\n\\textbf{C(household\\_size)[T.5 ]}                   &       0.3459  &        0.649     &     0.533  &         0.594        &       -0.926    &        1.618     \\\\\n\\textbf{C(household\\_size)[T.5+]}                   &      -0.1246  &        0.013     &    -9.482  &         0.000        &       -0.150    &       -0.099     \\\\\n\\textbf{C(marital\\_status)[T.divorced]}             &      -0.1161  &        0.020     &    -5.853  &         0.000        &       -0.155    &       -0.077     \\\\\n\\textbf{C(marital\\_status)[T.engaged]}              &      -0.2643  &        0.021     &   -12.446  &         0.000        &       -0.306    &       -0.223     \\\\\n\\textbf{C(marital\\_status)[T.married]}              &      -0.2950  &        0.013     &   -23.300  &         0.000        &       -0.320    &       -0.270     \\\\\n\\textbf{C(marital\\_status)[T.separated]}            &       0.8089  &        0.918     &     0.881  &         0.378        &       -0.990    &        2.608     \\\\\n\\textbf{C(marital\\_status)[T.single]}               &      -0.1120  &        0.013     &    -8.420  &         0.000        &       -0.138    &       -0.086     \\\\\n\\textbf{C(marital\\_status)[T.widowed]}              &      -0.1348  &        0.459     &    -0.294  &         0.769        &       -1.035    &        0.765     \\\\\n\\textbf{age}                                        &       0.0061  &        0.000     &    22.510  &         0.000        &        0.006    &        0.007     \\\\\n\\bottomrule\n\\end{tabular}\n\\begin{tabular}{lclc}\n\\textbf{Omnibus:}       & 27462.829 & \\textbf{  Durbin-Watson:     } &     0.506  \\\\\n\\textbf{Prob(Omnibus):} &    0.000  & \\textbf{  Jarque-Bera (JB):  } & 44034.461  \\\\\n\\textbf{Skew:}          &    1.033  & \\textbf{  Prob(JB):          } &      0.00  \\\\\n\\textbf{Kurtosis:}      &    4.216  & \\textbf{  Cond. No.          } &  2.60e+04  \\\\\n\\bottomrule\n\\end{tabular}\n%\\caption{OLS Regression Results}\n\\end{center}\n\nNotes: \\newline\n [1] Standard Errors assume that the covariance matrix of the errors is correctly specified. \\newline\n [2] The condition number is large, 2.6e+04. This might indicate that there are \\newline\n strong multicollinearity or other numerical problems."
          },
          "metadata": {},
          "execution_count": 50
        }
      ],
      "source": [
        "import math\n",
        "import statsmodels.formula.api as sm\n",
        "\n",
        "formula = \"propensity ~ C(location_country) + C(gender) +  C(household_income)+ C(household_size) + C(marital_status) + age\"\n",
        "\n",
        "result = sm.ols(formula=formula, data=dem_df).fit()\n",
        "result.summary()"
      ]
    },
    {
      "cell_type": "code",
      "execution_count": 51,
      "metadata": {
        "colab": {
          "base_uri": "https://localhost:8080/",
          "height": 479
        },
        "id": "ZEJtTxxX29MP",
        "outputId": "30d25c13-3ea6-4aff-c480-0fd0d66a470a"
      },
      "outputs": [
        {
          "output_type": "execute_result",
          "data": {
            "text/plain": [
              "<Axes: ylabel='Frequency'>"
            ]
          },
          "metadata": {},
          "execution_count": 51
        },
        {
          "output_type": "display_data",
          "data": {
            "text/plain": [
              "<Figure size 1600x800 with 1 Axes>"
            ],
            "image/png": "[encoded data removed]"
          },
          "metadata": {}
        }
      ],
      "source": [
        "dem_df.propensity.plot.hist()"
      ]
    },
    {
      "cell_type": "code",
      "execution_count": 52,
      "metadata": {
        "colab": {
          "base_uri": "https://localhost:8080/",
          "height": 254
        },
        "id": "pchdaMcs29MP",
        "outputId": "7b9d925a-787e-49b7-dc6f-0bff8c13a15f"
      },
      "outputs": [
        {
          "output_type": "error",
          "ename": "TypeError",
          "evalue": "ignored",
          "traceback": [
            "\u001b[0;31m---------------------------------------------------------------------------\u001b[0m",
            "\u001b[0;31mTypeError\u001b[0m                                 Traceback (most recent call last)",
            "\u001b[0;32m<ipython-input-52-4b49da0831a1>\u001b[0m in \u001b[0;36m<cell line: 8>\u001b[0;34m()\u001b[0m\n\u001b[1;32m      6\u001b[0m \u001b[0mfam\u001b[0m \u001b[0;34m=\u001b[0m \u001b[0mPoisson\u001b[0m\u001b[0;34m(\u001b[0m\u001b[0;34m)\u001b[0m\u001b[0;34m\u001b[0m\u001b[0;34m\u001b[0m\u001b[0m\n\u001b[1;32m      7\u001b[0m \u001b[0mind\u001b[0m \u001b[0;34m=\u001b[0m \u001b[0mIndependence\u001b[0m\u001b[0;34m(\u001b[0m\u001b[0;34m)\u001b[0m\u001b[0;34m\u001b[0m\u001b[0;34m\u001b[0m\u001b[0m\n\u001b[0;32m----> 8\u001b[0;31m \u001b[0mmodel1\u001b[0m \u001b[0;34m=\u001b[0m \u001b[0mGEE\u001b[0m\u001b[0;34m.\u001b[0m\u001b[0mfrom_formula\u001b[0m\u001b[0;34m(\u001b[0m\u001b[0mformula\u001b[0m\u001b[0;34m,\u001b[0m \u001b[0mdata\u001b[0m\u001b[0;34m=\u001b[0m\u001b[0mdem_df\u001b[0m\u001b[0;34m,\u001b[0m \u001b[0mcov_struct\u001b[0m\u001b[0;34m=\u001b[0m\u001b[0mind\u001b[0m\u001b[0;34m,\u001b[0m \u001b[0mfamily\u001b[0m\u001b[0;34m=\u001b[0m\u001b[0mfam\u001b[0m\u001b[0;34m)\u001b[0m\u001b[0;34m\u001b[0m\u001b[0;34m\u001b[0m\u001b[0m\n\u001b[0m\u001b[1;32m      9\u001b[0m \u001b[0mresult1\u001b[0m \u001b[0;34m=\u001b[0m \u001b[0mmodel1\u001b[0m\u001b[0;34m.\u001b[0m\u001b[0mfit\u001b[0m\u001b[0;34m(\u001b[0m\u001b[0;34m)\u001b[0m\u001b[0;34m\u001b[0m\u001b[0;34m\u001b[0m\u001b[0m\n\u001b[1;32m     10\u001b[0m \u001b[0mresult1\u001b[0m\u001b[0;34m.\u001b[0m\u001b[0msummary\u001b[0m\u001b[0;34m(\u001b[0m\u001b[0;34m)\u001b[0m\u001b[0;34m\u001b[0m\u001b[0;34m\u001b[0m\u001b[0m\n",
            "\u001b[0;31mTypeError\u001b[0m: GEE.from_formula() missing 1 required positional argument: 'groups'"
          ]
        }
      ],
      "source": [
        "from statsmodels.genmod.generalized_estimating_equations import GEE\n",
        "from statsmodels.genmod.cov_struct import (Exchangeable,\n",
        "    Independence,Autoregressive)\n",
        "from statsmodels.genmod.families import Poisson\n",
        "\n",
        "fam = Poisson()\n",
        "ind = Independence()\n",
        "model1 = GEE.from_formula(formula, data=dem_df, cov_struct=ind, family=fam)\n",
        "result1 = model1.fit()\n",
        "result1.summary()"
      ]
    },
    {
      "cell_type": "code",
      "execution_count": null,
      "metadata": {
        "id": "R_brtXEh29MP"
      },
      "outputs": [],
      "source": [
        "!sudo pip3 install -U pymc3"
      ]
    },
    {
      "cell_type": "code",
      "execution_count": null,
      "metadata": {
        "id": "7FxWs3p429MP"
      },
      "outputs": [],
      "source": [
        "import pymc3 as pm\n",
        "\n",
        "with pm.Model() as model:\n",
        "    pm.glm.GLM.from_formula(formula=formula, data=dem_df, family=pm.glm.families.NegativeBinomial())\n",
        "\n",
        "    # Old initialization\n",
        "    # start = pm.find_MAP(fmin=optimize.fmin_powell)\n",
        "    # C = pm.approx_hessian(start)\n",
        "    # trace = pm.sample(4000, step=pm.NUTS(scaling=C))\n",
        "\n",
        "    trace = pm.sample(2000, njobs=2)"
      ]
    },
    {
      "cell_type": "code",
      "execution_count": null,
      "metadata": {
        "collapsed": true,
        "id": "pTJrB1tc29MP"
      },
      "outputs": [],
      "source": []
    }
  ],
  "metadata": {
    "kernelspec": {
      "display_name": "Python 3",
      "language": "python",
      "name": "python3"
    },
    "language_info": {
      "codemirror_mode": {
        "name": "ipython",
        "version": 3
      },
      "file_extension": ".py",
      "mimetype": "text/x-python",
      "name": "python",
      "nbconvert_exporter": "python",
      "pygments_lexer": "ipython3",
      "version": "3.5.2"
    },
    "colab": {
      "provenance": [],
      "include_colab_link": true
    }
  },
  "nbformat": 4,
  "nbformat_minor": 0
}