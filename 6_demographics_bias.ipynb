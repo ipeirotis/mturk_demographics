{
  "cells": [
    {
      "cell_type": "markdown",
      "metadata": {
        "id": "view-in-github",
        "colab_type": "text"
      },
      "source": [
        "<a href=\"https://colab.research.google.com/github/ipeirotis/mturk_demographics/blob/master/6_demographics_bias.ipynb\" target=\"_parent\"><img src=\"https://colab.research.google.com/assets/colab-badge.svg\" alt=\"Open In Colab\"/></a>"
      ]
    },
    {
      "cell_type": "markdown",
      "source": [
        "## Data Preprocessing"
      ],
      "metadata": {
        "id": "kZV5GcdkgmIS"
      }
    },
    {
      "cell_type": "code",
      "execution_count": 1,
      "metadata": {
        "id": "UKhEi_CQ9zfq"
      },
      "outputs": [],
      "source": [
        "# Load the data and process it.\n",
        "import pandas as pd\n",
        "URL = 'https://github.com/ipeirotis/mturk_demographics/raw/master/dataset_29may2023_16_mar2015.zip'\n",
        "df = pd.read_csv(URL, low_memory=False)"
      ]
    },
    {
      "cell_type": "code",
      "source": [
        "# df=df.dropna()\n",
        "grouped_size = df.groupby(['worker_id','hit_answered_date','gender','household_income','household_size','location_country','time_spent_on_mturk','marital_status','year_of_birth']).transform('size')\n",
        "# Map the group sizes to the original DataFrame based on index\n",
        "df['count'] = grouped_size\n",
        "\n",
        "# Display the dataset with the new \"row_count\" column\n",
        "print(len(df['worker_id'].unique()))\n",
        "print(df['count'].value_counts())"
      ],
      "metadata": {
        "colab": {
          "base_uri": "https://localhost:8080/"
        },
        "id": "iX0EVHW8B1DT",
        "outputId": "cd0e9f7b-df53-477e-94bf-33ab5e59c9a9"
      },
      "execution_count": 2,
      "outputs": [
        {
          "output_type": "stream",
          "name": "stdout",
          "text": [
            "123508\n",
            "1.0    207279\n",
            "2.0       862\n",
            "3.0        60\n",
            "5.0         5\n",
            "Name: count, dtype: int64\n"
          ]
        }
      ]
    },
    {
      "cell_type": "code",
      "source": [
        "# Add a new column for 'worker_id' counts\n",
        "df['participation'] = df['worker_id'].map(df['worker_id'].value_counts())\n",
        "print(len(df['worker_id'].unique()))"
      ],
      "metadata": {
        "colab": {
          "base_uri": "https://localhost:8080/"
        },
        "id": "IEzl6fRkTK4f",
        "outputId": "c240c37d-72f5-443a-9a9c-850d7aa1d700"
      },
      "execution_count": 3,
      "outputs": [
        {
          "output_type": "stream",
          "name": "stdout",
          "text": [
            "123508\n"
          ]
        }
      ]
    },
    {
      "cell_type": "code",
      "source": [
        "df= df[['worker_id','gender','household_income','household_size','location_country','marital_status','year_of_birth','time_spent_on_mturk','count','participation']]\n",
        "\n",
        "#dem_df = df.drop_duplicates()\n",
        "dem_df = df.drop_duplicates(subset=['worker_id'])\n",
        "\n",
        "dem_df=dem_df.dropna()\n",
        "print(len(dem_df))"
      ],
      "metadata": {
        "colab": {
          "base_uri": "https://localhost:8080/"
        },
        "id": "w8Ypzm2wmJ-X",
        "outputId": "12be1f1f-56d5-40ca-9467-8a75196ab097"
      },
      "execution_count": 4,
      "outputs": [
        {
          "output_type": "stream",
          "name": "stdout",
          "text": [
            "87318\n"
          ]
        }
      ]
    },
    {
      "cell_type": "code",
      "source": [
        "dem_df.head(5)"
      ],
      "metadata": {
        "colab": {
          "base_uri": "https://localhost:8080/",
          "height": 226
        },
        "id": "CpQaS_rUp35s",
        "outputId": "25ef8ba6-36d6-46ae-c3a6-52f05bdcfa4f"
      },
      "execution_count": 5,
      "outputs": [
        {
          "output_type": "execute_result",
          "data": {
            "text/plain": [
              "                                      worker_id  gender household_income  \\\n",
              "0  GIQvi1p3x6/xUloDxpXza3DJKzO9QxtN0yPb49FMiY8=    male  $25,000-$39,999   \n",
              "1  OuVAI9jQUJ1TrM8tfCrr70KsearC0kNbovFD9prQ91M=    male  $40,000-$59,999   \n",
              "2  rXYK7nenLvxPYqFIOk9Ik5ALPFsXma+Lah1+1Ct+5y4=  female  $40,000-$59,999   \n",
              "3  ndej+ke5aXKdkZmPuI2Vz878ZjtyA4r2+7D4zA05Pvw=    male  $75,000-$99,999   \n",
              "4  E2skbsh2TBfWqeUSwFDajfQfJpMB2hqjKkzFh26W2PY=  female  $75,000-$99,999   \n",
              "\n",
              "  household_size location_country marital_status  year_of_birth  \\\n",
              "0              2               ZZ        married         1982.0   \n",
              "1              3               ZZ        married         1930.0   \n",
              "2              2               ZZ         single         1994.0   \n",
              "3              4               ZZ        married         1991.0   \n",
              "4              4               ZZ        married         1996.0   \n",
              "\n",
              "  time_spent_on_mturk  count  participation  \n",
              "0  2-4 hours per week    1.0            4.0  \n",
              "1  2-4 hours per week    1.0            5.0  \n",
              "2  4-8 hours per week    1.0            4.0  \n",
              "3  2-4 hours per week    1.0           25.0  \n",
              "4  2-4 hours per week    1.0           21.0  "
            ],
            "text/html": [
              "\n",
              "  <div id=\"df-4f0fdeee-b224-41ba-acb0-d6fd349cd321\" class=\"colab-df-container\">\n",
              "    <div>\n",
              "<style scoped>\n",
              "    .dataframe tbody tr th:only-of-type {\n",
              "        vertical-align: middle;\n",
              "    }\n",
              "\n",
              "    .dataframe tbody tr th {\n",
              "        vertical-align: top;\n",
              "    }\n",
              "\n",
              "    .dataframe thead th {\n",
              "        text-align: right;\n",
              "    }\n",
              "</style>\n",
              "<table border=\"1\" class=\"dataframe\">\n",
              "  <thead>\n",
              "    <tr style=\"text-align: right;\">\n",
              "      <th></th>\n",
              "      <th>worker_id</th>\n",
              "      <th>gender</th>\n",
              "      <th>household_income</th>\n",
              "      <th>household_size</th>\n",
              "      <th>location_country</th>\n",
              "      <th>marital_status</th>\n",
              "      <th>year_of_birth</th>\n",
              "      <th>time_spent_on_mturk</th>\n",
              "      <th>count</th>\n",
              "      <th>participation</th>\n",
              "    </tr>\n",
              "  </thead>\n",
              "  <tbody>\n",
              "    <tr>\n",
              "      <th>0</th>\n",
              "      <td>GIQvi1p3x6/xUloDxpXza3DJKzO9QxtN0yPb49FMiY8=</td>\n",
              "      <td>male</td>\n",
              "      <td>$25,000-$39,999</td>\n",
              "      <td>2</td>\n",
              "      <td>ZZ</td>\n",
              "      <td>married</td>\n",
              "      <td>1982.0</td>\n",
              "      <td>2-4 hours per week</td>\n",
              "      <td>1.0</td>\n",
              "      <td>4.0</td>\n",
              "    </tr>\n",
              "    <tr>\n",
              "      <th>1</th>\n",
              "      <td>OuVAI9jQUJ1TrM8tfCrr70KsearC0kNbovFD9prQ91M=</td>\n",
              "      <td>male</td>\n",
              "      <td>$40,000-$59,999</td>\n",
              "      <td>3</td>\n",
              "      <td>ZZ</td>\n",
              "      <td>married</td>\n",
              "      <td>1930.0</td>\n",
              "      <td>2-4 hours per week</td>\n",
              "      <td>1.0</td>\n",
              "      <td>5.0</td>\n",
              "    </tr>\n",
              "    <tr>\n",
              "      <th>2</th>\n",
              "      <td>rXYK7nenLvxPYqFIOk9Ik5ALPFsXma+Lah1+1Ct+5y4=</td>\n",
              "      <td>female</td>\n",
              "      <td>$40,000-$59,999</td>\n",
              "      <td>2</td>\n",
              "      <td>ZZ</td>\n",
              "      <td>single</td>\n",
              "      <td>1994.0</td>\n",
              "      <td>4-8 hours per week</td>\n",
              "      <td>1.0</td>\n",
              "      <td>4.0</td>\n",
              "    </tr>\n",
              "    <tr>\n",
              "      <th>3</th>\n",
              "      <td>ndej+ke5aXKdkZmPuI2Vz878ZjtyA4r2+7D4zA05Pvw=</td>\n",
              "      <td>male</td>\n",
              "      <td>$75,000-$99,999</td>\n",
              "      <td>4</td>\n",
              "      <td>ZZ</td>\n",
              "      <td>married</td>\n",
              "      <td>1991.0</td>\n",
              "      <td>2-4 hours per week</td>\n",
              "      <td>1.0</td>\n",
              "      <td>25.0</td>\n",
              "    </tr>\n",
              "    <tr>\n",
              "      <th>4</th>\n",
              "      <td>E2skbsh2TBfWqeUSwFDajfQfJpMB2hqjKkzFh26W2PY=</td>\n",
              "      <td>female</td>\n",
              "      <td>$75,000-$99,999</td>\n",
              "      <td>4</td>\n",
              "      <td>ZZ</td>\n",
              "      <td>married</td>\n",
              "      <td>1996.0</td>\n",
              "      <td>2-4 hours per week</td>\n",
              "      <td>1.0</td>\n",
              "      <td>21.0</td>\n",
              "    </tr>\n",
              "  </tbody>\n",
              "</table>\n",
              "</div>\n",
              "    <div class=\"colab-df-buttons\">\n",
              "\n",
              "  <div class=\"colab-df-container\">\n",
              "    <button class=\"colab-df-convert\" onclick=\"convertToInteractive('df-4f0fdeee-b224-41ba-acb0-d6fd349cd321')\"\n",
              "            title=\"Convert this dataframe to an interactive table.\"\n",
              "            style=\"display:none;\">\n",
              "\n",
              "  <svg xmlns=\"http://www.w3.org/2000/svg\" height=\"24px\" viewBox=\"0 -960 960 960\">\n",
              "    <path d=\"M120-120v-720h720v720H120Zm60-500h600v-160H180v160Zm220 220h160v-160H400v160Zm0 220h160v-160H400v160ZM180-400h160v-160H180v160Zm440 0h160v-160H620v160ZM180-180h160v-160H180v160Zm440 0h160v-160H620v160Z\"/>\n",
              "  </svg>\n",
              "    </button>\n",
              "\n",
              "  <style>\n",
              "    .colab-df-container {\n",
              "      display:flex;\n",
              "      gap: 12px;\n",
              "    }\n",
              "\n",
              "    .colab-df-convert {\n",
              "      background-color: #E8F0FE;\n",
              "      border: none;\n",
              "      border-radius: 50%;\n",
              "      cursor: pointer;\n",
              "      display: none;\n",
              "      fill: #1967D2;\n",
              "      height: 32px;\n",
              "      padding: 0 0 0 0;\n",
              "      width: 32px;\n",
              "    }\n",
              "\n",
              "    .colab-df-convert:hover {\n",
              "      background-color: #E2EBFA;\n",
              "      box-shadow: 0px 1px 2px rgba(60, 64, 67, 0.3), 0px 1px 3px 1px rgba(60, 64, 67, 0.15);\n",
              "      fill: #174EA6;\n",
              "    }\n",
              "\n",
              "    .colab-df-buttons div {\n",
              "      margin-bottom: 4px;\n",
              "    }\n",
              "\n",
              "    [theme=dark] .colab-df-convert {\n",
              "      background-color: #3B4455;\n",
              "      fill: #D2E3FC;\n",
              "    }\n",
              "\n",
              "    [theme=dark] .colab-df-convert:hover {\n",
              "      background-color: #434B5C;\n",
              "      box-shadow: 0px 1px 3px 1px rgba(0, 0, 0, 0.15);\n",
              "      filter: drop-shadow(0px 1px 2px rgba(0, 0, 0, 0.3));\n",
              "      fill: #FFFFFF;\n",
              "    }\n",
              "  </style>\n",
              "\n",
              "    <script>\n",
              "      const buttonEl =\n",
              "        document.querySelector('#df-4f0fdeee-b224-41ba-acb0-d6fd349cd321 button.colab-df-convert');\n",
              "      buttonEl.style.display =\n",
              "        google.colab.kernel.accessAllowed ? 'block' : 'none';\n",
              "\n",
              "      async function convertToInteractive(key) {\n",
              "        const element = document.querySelector('#df-4f0fdeee-b224-41ba-acb0-d6fd349cd321');\n",
              "        const dataTable =\n",
              "          await google.colab.kernel.invokeFunction('convertToInteractive',\n",
              "                                                    [key], {});\n",
              "        if (!dataTable) return;\n",
              "\n",
              "        const docLinkHtml = 'Like what you see? Visit the ' +\n",
              "          '<a target=\"_blank\" href=https://colab.research.google.com/notebooks/data_table.ipynb>data table notebook</a>'\n",
              "          + ' to learn more about interactive tables.';\n",
              "        element.innerHTML = '';\n",
              "        dataTable['output_type'] = 'display_data';\n",
              "        await google.colab.output.renderOutput(dataTable, element);\n",
              "        const docLink = document.createElement('div');\n",
              "        docLink.innerHTML = docLinkHtml;\n",
              "        element.appendChild(docLink);\n",
              "      }\n",
              "    </script>\n",
              "  </div>\n",
              "\n",
              "\n",
              "<div id=\"df-4ea32d51-a3f7-42ac-92d4-af877de4881d\">\n",
              "  <button class=\"colab-df-quickchart\" onclick=\"quickchart('df-4ea32d51-a3f7-42ac-92d4-af877de4881d')\"\n",
              "            title=\"Suggest charts.\"\n",
              "            style=\"display:none;\">\n",
              "\n",
              "<svg xmlns=\"http://www.w3.org/2000/svg\" height=\"24px\"viewBox=\"0 0 24 24\"\n",
              "     width=\"24px\">\n",
              "    <g>\n",
              "        <path d=\"M19 3H5c-1.1 0-2 .9-2 2v14c0 1.1.9 2 2 2h14c1.1 0 2-.9 2-2V5c0-1.1-.9-2-2-2zM9 17H7v-7h2v7zm4 0h-2V7h2v10zm4 0h-2v-4h2v4z\"/>\n",
              "    </g>\n",
              "</svg>\n",
              "  </button>\n",
              "\n",
              "<style>\n",
              "  .colab-df-quickchart {\n",
              "    background-color: #E8F0FE;\n",
              "    border: none;\n",
              "    border-radius: 50%;\n",
              "    cursor: pointer;\n",
              "    display: none;\n",
              "    fill: #1967D2;\n",
              "    height: 32px;\n",
              "    padding: 0 0 0 0;\n",
              "    width: 32px;\n",
              "  }\n",
              "\n",
              "  .colab-df-quickchart:hover {\n",
              "    background-color: #E2EBFA;\n",
              "    box-shadow: 0px 1px 2px rgba(60, 64, 67, 0.3), 0px 1px 3px 1px rgba(60, 64, 67, 0.15);\n",
              "    fill: #174EA6;\n",
              "  }\n",
              "\n",
              "  [theme=dark] .colab-df-quickchart {\n",
              "    background-color: #3B4455;\n",
              "    fill: #D2E3FC;\n",
              "  }\n",
              "\n",
              "  [theme=dark] .colab-df-quickchart:hover {\n",
              "    background-color: #434B5C;\n",
              "    box-shadow: 0px 1px 3px 1px rgba(0, 0, 0, 0.15);\n",
              "    filter: drop-shadow(0px 1px 2px rgba(0, 0, 0, 0.3));\n",
              "    fill: #FFFFFF;\n",
              "  }\n",
              "</style>\n",
              "\n",
              "  <script>\n",
              "    async function quickchart(key) {\n",
              "      const charts = await google.colab.kernel.invokeFunction(\n",
              "          'suggestCharts', [key], {});\n",
              "    }\n",
              "    (() => {\n",
              "      let quickchartButtonEl =\n",
              "        document.querySelector('#df-4ea32d51-a3f7-42ac-92d4-af877de4881d button');\n",
              "      quickchartButtonEl.style.display =\n",
              "        google.colab.kernel.accessAllowed ? 'block' : 'none';\n",
              "    })();\n",
              "  </script>\n",
              "</div>\n",
              "    </div>\n",
              "  </div>\n"
            ]
          },
          "metadata": {},
          "execution_count": 5
        }
      ]
    },
    {
      "cell_type": "code",
      "source": [
        "from scipy.special import logit\n",
        "import pandas as pd\n",
        "\n",
        "## Regression against the demographics:\n",
        "## DJ preprocessed the data using sql\n",
        "## 1 worker per row: count\n",
        "##    - count: number of identical rows\n",
        "##    - participation: number of submissions\n",
        "##  if count <> participation, worker changed his reponses (participation - count) times\n",
        "\n",
        "# dem_df = pd.read_csv(\"demographics_preprocessed.csv\")\n",
        "\n",
        "dem_df[\"household_income\"]=dem_df[\"household_income\"].astype(\"category\")\n",
        "dem_df[\"household_size\"]=dem_df[\"household_size\"].astype(\"category\")\n",
        "dem_df[\"location_country\"]=dem_df[\"location_country\"].astype(\"category\")\n",
        "dem_df[\"marital_status\"]=dem_df[\"marital_status\"].astype(\"category\")\n",
        "dem_df[\"year_of_birth\"]=dem_df[\"year_of_birth\"].astype(int)\n",
        "dem_df[\"time_spent_on_mturk\"]=dem_df[\"time_spent_on_mturk\"].astype(\"category\")\n",
        "\n",
        "dem_df['propensity'] = dem_df['participation']/29\n",
        "dem_df['life_event'] = dem_df['count']!= dem_df['participation']\n",
        "dem_df['life_event'] = dem_df['life_event'].apply(lambda x : 1 if x else 0)\n",
        "dem_df['location_country'] = dem_df['location_country'].apply(lambda x : x if x in ['US','IN','CA','GB','PH'] else 'OTHER')\n",
        "dem_df['age'] = 2023 - dem_df['year_of_birth']\n",
        "\n",
        "len(dem_df)"
      ],
      "metadata": {
        "colab": {
          "base_uri": "https://localhost:8080/"
        },
        "id": "rrsKwoqngiZP",
        "outputId": "c326c52f-a60d-4438-d83a-ade7a84cf055"
      },
      "execution_count": 6,
      "outputs": [
        {
          "output_type": "execute_result",
          "data": {
            "text/plain": [
              "87318"
            ]
          },
          "metadata": {},
          "execution_count": 6
        }
      ]
    },
    {
      "cell_type": "code",
      "execution_count": 7,
      "metadata": {
        "colab": {
          "base_uri": "https://localhost:8080/",
          "height": 1000
        },
        "id": "x7GK1CZJ9zfs",
        "outputId": "fc83dffd-c153-4208-e245-15f3ec141c11"
      },
      "outputs": [
        {
          "output_type": "execute_result",
          "data": {
            "text/plain": [
              "<class 'statsmodels.iolib.summary.Summary'>\n",
              "\"\"\"\n",
              "                            OLS Regression Results                            \n",
              "==============================================================================\n",
              "Dep. Variable:             propensity   R-squared:                       0.201\n",
              "Model:                            OLS   Adj. R-squared:                  0.201\n",
              "Method:                 Least Squares   F-statistic:                     731.5\n",
              "Date:                Wed, 30 Aug 2023   Prob (F-statistic):               0.00\n",
              "Time:                        13:33:31   Log-Likelihood:                 51696.\n",
              "No. Observations:               87318   AIC:                        -1.033e+05\n",
              "Df Residuals:                   87287   BIC:                        -1.030e+05\n",
              "Df Model:                          30                                         \n",
              "Covariance Type:            nonrobust                                         \n",
              "=========================================================================================================================\n",
              "                                                            coef    std err          t      P>|t|      [0.025      0.975]\n",
              "-------------------------------------------------------------------------------------------------------------------------\n",
              "Intercept                                                 0.0247      0.005      4.850      0.000       0.015       0.035\n",
              "C(location_country)[T.GB]                                -0.0047      0.005     -0.991      0.322      -0.014       0.005\n",
              "C(location_country)[T.IN]                                 0.0756      0.004     18.973      0.000       0.068       0.083\n",
              "C(location_country)[T.OTHER]                              0.0053      0.004      1.350      0.177      -0.002       0.013\n",
              "C(location_country)[T.PH]                                 0.0296      0.016      1.842      0.065      -0.002       0.061\n",
              "C(location_country)[T.US]                                 0.0018      0.004      0.496      0.620      -0.005       0.009\n",
              "C(gender)[T.male]                                         0.0007      0.001      0.799      0.424      -0.001       0.003\n",
              "C(household_income)[T.$100,000 or more]                   0.0177      0.002      7.414      0.000       0.013       0.022\n",
              "C(household_income)[T.$15,000-$24,999]                    0.0059      0.002      2.469      0.014       0.001       0.011\n",
              "C(household_income)[T.$25,000-$39,999]                    0.0088      0.002      4.018      0.000       0.004       0.013\n",
              "C(household_income)[T.$40,000-$59,999]                    0.0061      0.002      2.906      0.004       0.002       0.010\n",
              "C(household_income)[T.$60,000-$74,999]                    0.0108      0.002      4.826      0.000       0.006       0.015\n",
              "C(household_income)[T.$75,000-$99,999]                    0.0131      0.002      5.874      0.000       0.009       0.017\n",
              "C(household_income)[T.Less than $10,000]                  0.0047      0.003      1.860      0.063      -0.000       0.010\n",
              "C(household_size)[T.2]                                   -0.0123      0.002     -6.698      0.000      -0.016      -0.009\n",
              "C(household_size)[T.3]                                   -0.0194      0.002    -10.830      0.000      -0.023      -0.016\n",
              "C(household_size)[T.4]                                   -0.0211      0.002    -11.625      0.000      -0.025      -0.018\n",
              "C(household_size)[T.5 ]                                  -0.1152      0.134     -0.860      0.390      -0.378       0.147\n",
              "C(household_size)[T.5+]                                  -0.0154      0.002     -7.242      0.000      -0.020      -0.011\n",
              "C(marital_status)[T.divorced]                            -0.0031      0.004     -0.872      0.383      -0.010       0.004\n",
              "C(marital_status)[T.engaged]                             -0.0105      0.003     -3.045      0.002      -0.017      -0.004\n",
              "C(marital_status)[T.married]                             -0.0149      0.002     -6.766      0.000      -0.019      -0.011\n",
              "C(marital_status)[T.single]                              -0.0039      0.002     -1.698      0.089      -0.008       0.001\n",
              "C(time_spent_on_mturk)[T.2-4 hours per week]             -0.0030      0.002     -1.561      0.118      -0.007       0.001\n",
              "C(time_spent_on_mturk)[T.20-40 hours per week]            0.0068      0.002      3.491      0.000       0.003       0.011\n",
              "C(time_spent_on_mturk)[T.4-8 hours per week]             -0.0019      0.002     -1.029      0.304      -0.005       0.002\n",
              "C(time_spent_on_mturk)[T.8-20 hours per week]             0.0052      0.002      2.884      0.004       0.002       0.009\n",
              "C(time_spent_on_mturk)[T.Less than 1 hour per week]      -0.0011      0.003     -0.377      0.706      -0.007       0.005\n",
              "C(time_spent_on_mturk)[T.More than 40 hours per week]     0.0041      0.002      1.836      0.066      -0.000       0.009\n",
              "C(life_event)[T.1]                                        0.1284      0.001    133.018      0.000       0.127       0.130\n",
              "age                                                       0.0005   4.01e-05     13.552      0.000       0.000       0.001\n",
              "==============================================================================\n",
              "Omnibus:                   121269.717   Durbin-Watson:                   1.751\n",
              "Prob(Omnibus):                  0.000   Jarque-Bera (JB):         34672936.924\n",
              "Skew:                           8.206   Prob(JB):                         0.00\n",
              "Kurtosis:                      99.233   Cond. No.                     1.17e+04\n",
              "==============================================================================\n",
              "\n",
              "Notes:\n",
              "[1] Standard Errors assume that the covariance matrix of the errors is correctly specified.\n",
              "[2] The condition number is large, 1.17e+04. This might indicate that there are\n",
              "strong multicollinearity or other numerical problems.\n",
              "\"\"\""
            ],
            "text/html": [
              "<table class=\"simpletable\">\n",
              "<caption>OLS Regression Results</caption>\n",
              "<tr>\n",
              "  <th>Dep. Variable:</th>       <td>propensity</td>    <th>  R-squared:         </th>  <td>   0.201</td> \n",
              "</tr>\n",
              "<tr>\n",
              "  <th>Model:</th>                   <td>OLS</td>       <th>  Adj. R-squared:    </th>  <td>   0.201</td> \n",
              "</tr>\n",
              "<tr>\n",
              "  <th>Method:</th>             <td>Least Squares</td>  <th>  F-statistic:       </th>  <td>   731.5</td> \n",
              "</tr>\n",
              "<tr>\n",
              "  <th>Date:</th>             <td>Wed, 30 Aug 2023</td> <th>  Prob (F-statistic):</th>   <td>  0.00</td>  \n",
              "</tr>\n",
              "<tr>\n",
              "  <th>Time:</th>                 <td>13:33:31</td>     <th>  Log-Likelihood:    </th>  <td>  51696.</td> \n",
              "</tr>\n",
              "<tr>\n",
              "  <th>No. Observations:</th>      <td> 87318</td>      <th>  AIC:               </th> <td>-1.033e+05</td>\n",
              "</tr>\n",
              "<tr>\n",
              "  <th>Df Residuals:</th>          <td> 87287</td>      <th>  BIC:               </th> <td>-1.030e+05</td>\n",
              "</tr>\n",
              "<tr>\n",
              "  <th>Df Model:</th>              <td>    30</td>      <th>                     </th>      <td> </td>    \n",
              "</tr>\n",
              "<tr>\n",
              "  <th>Covariance Type:</th>      <td>nonrobust</td>    <th>                     </th>      <td> </td>    \n",
              "</tr>\n",
              "</table>\n",
              "<table class=\"simpletable\">\n",
              "<tr>\n",
              "                            <td></td>                               <th>coef</th>     <th>std err</th>      <th>t</th>      <th>P>|t|</th>  <th>[0.025</th>    <th>0.975]</th>  \n",
              "</tr>\n",
              "<tr>\n",
              "  <th>Intercept</th>                                             <td>    0.0247</td> <td>    0.005</td> <td>    4.850</td> <td> 0.000</td> <td>    0.015</td> <td>    0.035</td>\n",
              "</tr>\n",
              "<tr>\n",
              "  <th>C(location_country)[T.GB]</th>                             <td>   -0.0047</td> <td>    0.005</td> <td>   -0.991</td> <td> 0.322</td> <td>   -0.014</td> <td>    0.005</td>\n",
              "</tr>\n",
              "<tr>\n",
              "  <th>C(location_country)[T.IN]</th>                             <td>    0.0756</td> <td>    0.004</td> <td>   18.973</td> <td> 0.000</td> <td>    0.068</td> <td>    0.083</td>\n",
              "</tr>\n",
              "<tr>\n",
              "  <th>C(location_country)[T.OTHER]</th>                          <td>    0.0053</td> <td>    0.004</td> <td>    1.350</td> <td> 0.177</td> <td>   -0.002</td> <td>    0.013</td>\n",
              "</tr>\n",
              "<tr>\n",
              "  <th>C(location_country)[T.PH]</th>                             <td>    0.0296</td> <td>    0.016</td> <td>    1.842</td> <td> 0.065</td> <td>   -0.002</td> <td>    0.061</td>\n",
              "</tr>\n",
              "<tr>\n",
              "  <th>C(location_country)[T.US]</th>                             <td>    0.0018</td> <td>    0.004</td> <td>    0.496</td> <td> 0.620</td> <td>   -0.005</td> <td>    0.009</td>\n",
              "</tr>\n",
              "<tr>\n",
              "  <th>C(gender)[T.male]</th>                                     <td>    0.0007</td> <td>    0.001</td> <td>    0.799</td> <td> 0.424</td> <td>   -0.001</td> <td>    0.003</td>\n",
              "</tr>\n",
              "<tr>\n",
              "  <th>C(household_income)[T.$100,000 or more]</th>               <td>    0.0177</td> <td>    0.002</td> <td>    7.414</td> <td> 0.000</td> <td>    0.013</td> <td>    0.022</td>\n",
              "</tr>\n",
              "<tr>\n",
              "  <th>C(household_income)[T.$15,000-$24,999]</th>                <td>    0.0059</td> <td>    0.002</td> <td>    2.469</td> <td> 0.014</td> <td>    0.001</td> <td>    0.011</td>\n",
              "</tr>\n",
              "<tr>\n",
              "  <th>C(household_income)[T.$25,000-$39,999]</th>                <td>    0.0088</td> <td>    0.002</td> <td>    4.018</td> <td> 0.000</td> <td>    0.004</td> <td>    0.013</td>\n",
              "</tr>\n",
              "<tr>\n",
              "  <th>C(household_income)[T.$40,000-$59,999]</th>                <td>    0.0061</td> <td>    0.002</td> <td>    2.906</td> <td> 0.004</td> <td>    0.002</td> <td>    0.010</td>\n",
              "</tr>\n",
              "<tr>\n",
              "  <th>C(household_income)[T.$60,000-$74,999]</th>                <td>    0.0108</td> <td>    0.002</td> <td>    4.826</td> <td> 0.000</td> <td>    0.006</td> <td>    0.015</td>\n",
              "</tr>\n",
              "<tr>\n",
              "  <th>C(household_income)[T.$75,000-$99,999]</th>                <td>    0.0131</td> <td>    0.002</td> <td>    5.874</td> <td> 0.000</td> <td>    0.009</td> <td>    0.017</td>\n",
              "</tr>\n",
              "<tr>\n",
              "  <th>C(household_income)[T.Less than $10,000]</th>              <td>    0.0047</td> <td>    0.003</td> <td>    1.860</td> <td> 0.063</td> <td>   -0.000</td> <td>    0.010</td>\n",
              "</tr>\n",
              "<tr>\n",
              "  <th>C(household_size)[T.2]</th>                                <td>   -0.0123</td> <td>    0.002</td> <td>   -6.698</td> <td> 0.000</td> <td>   -0.016</td> <td>   -0.009</td>\n",
              "</tr>\n",
              "<tr>\n",
              "  <th>C(household_size)[T.3]</th>                                <td>   -0.0194</td> <td>    0.002</td> <td>  -10.830</td> <td> 0.000</td> <td>   -0.023</td> <td>   -0.016</td>\n",
              "</tr>\n",
              "<tr>\n",
              "  <th>C(household_size)[T.4]</th>                                <td>   -0.0211</td> <td>    0.002</td> <td>  -11.625</td> <td> 0.000</td> <td>   -0.025</td> <td>   -0.018</td>\n",
              "</tr>\n",
              "<tr>\n",
              "  <th>C(household_size)[T.5 ]</th>                               <td>   -0.1152</td> <td>    0.134</td> <td>   -0.860</td> <td> 0.390</td> <td>   -0.378</td> <td>    0.147</td>\n",
              "</tr>\n",
              "<tr>\n",
              "  <th>C(household_size)[T.5+]</th>                               <td>   -0.0154</td> <td>    0.002</td> <td>   -7.242</td> <td> 0.000</td> <td>   -0.020</td> <td>   -0.011</td>\n",
              "</tr>\n",
              "<tr>\n",
              "  <th>C(marital_status)[T.divorced]</th>                         <td>   -0.0031</td> <td>    0.004</td> <td>   -0.872</td> <td> 0.383</td> <td>   -0.010</td> <td>    0.004</td>\n",
              "</tr>\n",
              "<tr>\n",
              "  <th>C(marital_status)[T.engaged]</th>                          <td>   -0.0105</td> <td>    0.003</td> <td>   -3.045</td> <td> 0.002</td> <td>   -0.017</td> <td>   -0.004</td>\n",
              "</tr>\n",
              "<tr>\n",
              "  <th>C(marital_status)[T.married]</th>                          <td>   -0.0149</td> <td>    0.002</td> <td>   -6.766</td> <td> 0.000</td> <td>   -0.019</td> <td>   -0.011</td>\n",
              "</tr>\n",
              "<tr>\n",
              "  <th>C(marital_status)[T.single]</th>                           <td>   -0.0039</td> <td>    0.002</td> <td>   -1.698</td> <td> 0.089</td> <td>   -0.008</td> <td>    0.001</td>\n",
              "</tr>\n",
              "<tr>\n",
              "  <th>C(time_spent_on_mturk)[T.2-4 hours per week]</th>          <td>   -0.0030</td> <td>    0.002</td> <td>   -1.561</td> <td> 0.118</td> <td>   -0.007</td> <td>    0.001</td>\n",
              "</tr>\n",
              "<tr>\n",
              "  <th>C(time_spent_on_mturk)[T.20-40 hours per week]</th>        <td>    0.0068</td> <td>    0.002</td> <td>    3.491</td> <td> 0.000</td> <td>    0.003</td> <td>    0.011</td>\n",
              "</tr>\n",
              "<tr>\n",
              "  <th>C(time_spent_on_mturk)[T.4-8 hours per week]</th>          <td>   -0.0019</td> <td>    0.002</td> <td>   -1.029</td> <td> 0.304</td> <td>   -0.005</td> <td>    0.002</td>\n",
              "</tr>\n",
              "<tr>\n",
              "  <th>C(time_spent_on_mturk)[T.8-20 hours per week]</th>         <td>    0.0052</td> <td>    0.002</td> <td>    2.884</td> <td> 0.004</td> <td>    0.002</td> <td>    0.009</td>\n",
              "</tr>\n",
              "<tr>\n",
              "  <th>C(time_spent_on_mturk)[T.Less than 1 hour per week]</th>   <td>   -0.0011</td> <td>    0.003</td> <td>   -0.377</td> <td> 0.706</td> <td>   -0.007</td> <td>    0.005</td>\n",
              "</tr>\n",
              "<tr>\n",
              "  <th>C(time_spent_on_mturk)[T.More than 40 hours per week]</th> <td>    0.0041</td> <td>    0.002</td> <td>    1.836</td> <td> 0.066</td> <td>   -0.000</td> <td>    0.009</td>\n",
              "</tr>\n",
              "<tr>\n",
              "  <th>C(life_event)[T.1]</th>                                    <td>    0.1284</td> <td>    0.001</td> <td>  133.018</td> <td> 0.000</td> <td>    0.127</td> <td>    0.130</td>\n",
              "</tr>\n",
              "<tr>\n",
              "  <th>age</th>                                                   <td>    0.0005</td> <td> 4.01e-05</td> <td>   13.552</td> <td> 0.000</td> <td>    0.000</td> <td>    0.001</td>\n",
              "</tr>\n",
              "</table>\n",
              "<table class=\"simpletable\">\n",
              "<tr>\n",
              "  <th>Omnibus:</th>       <td>121269.717</td> <th>  Durbin-Watson:     </th>   <td>   1.751</td>  \n",
              "</tr>\n",
              "<tr>\n",
              "  <th>Prob(Omnibus):</th>   <td> 0.000</td>   <th>  Jarque-Bera (JB):  </th> <td>34672936.924</td>\n",
              "</tr>\n",
              "<tr>\n",
              "  <th>Skew:</th>            <td> 8.206</td>   <th>  Prob(JB):          </th>   <td>    0.00</td>  \n",
              "</tr>\n",
              "<tr>\n",
              "  <th>Kurtosis:</th>        <td>99.233</td>   <th>  Cond. No.          </th>   <td>1.17e+04</td>  \n",
              "</tr>\n",
              "</table><br/><br/>Notes:<br/>[1] Standard Errors assume that the covariance matrix of the errors is correctly specified.<br/>[2] The condition number is large, 1.17e+04. This might indicate that there are<br/>strong multicollinearity or other numerical problems."
            ],
            "text/latex": "\\begin{center}\n\\begin{tabular}{lclc}\n\\toprule\n\\textbf{Dep. Variable:}                                           &    propensity    & \\textbf{  R-squared:         } &      0.201    \\\\\n\\textbf{Model:}                                                   &       OLS        & \\textbf{  Adj. R-squared:    } &      0.201    \\\\\n\\textbf{Method:}                                                  &  Least Squares   & \\textbf{  F-statistic:       } &      731.5    \\\\\n\\textbf{Date:}                                                    & Wed, 30 Aug 2023 & \\textbf{  Prob (F-statistic):} &      0.00     \\\\\n\\textbf{Time:}                                                    &     13:33:31     & \\textbf{  Log-Likelihood:    } &     51696.    \\\\\n\\textbf{No. Observations:}                                        &       87318      & \\textbf{  AIC:               } &  -1.033e+05   \\\\\n\\textbf{Df Residuals:}                                            &       87287      & \\textbf{  BIC:               } &  -1.030e+05   \\\\\n\\textbf{Df Model:}                                                &          30      & \\textbf{                     } &               \\\\\n\\textbf{Covariance Type:}                                         &    nonrobust     & \\textbf{                     } &               \\\\\n\\bottomrule\n\\end{tabular}\n\\begin{tabular}{lcccccc}\n                                                                  & \\textbf{coef} & \\textbf{std err} & \\textbf{t} & \\textbf{P$> |$t$|$} & \\textbf{[0.025} & \\textbf{0.975]}  \\\\\n\\midrule\n\\textbf{Intercept}                                                &       0.0247  &        0.005     &     4.850  &         0.000        &        0.015    &        0.035     \\\\\n\\textbf{C(location\\_country)[T.GB]}                               &      -0.0047  &        0.005     &    -0.991  &         0.322        &       -0.014    &        0.005     \\\\\n\\textbf{C(location\\_country)[T.IN]}                               &       0.0756  &        0.004     &    18.973  &         0.000        &        0.068    &        0.083     \\\\\n\\textbf{C(location\\_country)[T.OTHER]}                            &       0.0053  &        0.004     &     1.350  &         0.177        &       -0.002    &        0.013     \\\\\n\\textbf{C(location\\_country)[T.PH]}                               &       0.0296  &        0.016     &     1.842  &         0.065        &       -0.002    &        0.061     \\\\\n\\textbf{C(location\\_country)[T.US]}                               &       0.0018  &        0.004     &     0.496  &         0.620        &       -0.005    &        0.009     \\\\\n\\textbf{C(gender)[T.male]}                                        &       0.0007  &        0.001     &     0.799  &         0.424        &       -0.001    &        0.003     \\\\\n\\textbf{C(household\\_income)[T.\\$100,000 or more]}                &       0.0177  &        0.002     &     7.414  &         0.000        &        0.013    &        0.022     \\\\\n\\textbf{C(household\\_income)[T.\\$15,000-\\$24,999]}                &       0.0059  &        0.002     &     2.469  &         0.014        &        0.001    &        0.011     \\\\\n\\textbf{C(household\\_income)[T.\\$25,000-\\$39,999]}                &       0.0088  &        0.002     &     4.018  &         0.000        &        0.004    &        0.013     \\\\\n\\textbf{C(household\\_income)[T.\\$40,000-\\$59,999]}                &       0.0061  &        0.002     &     2.906  &         0.004        &        0.002    &        0.010     \\\\\n\\textbf{C(household\\_income)[T.\\$60,000-\\$74,999]}                &       0.0108  &        0.002     &     4.826  &         0.000        &        0.006    &        0.015     \\\\\n\\textbf{C(household\\_income)[T.\\$75,000-\\$99,999]}                &       0.0131  &        0.002     &     5.874  &         0.000        &        0.009    &        0.017     \\\\\n\\textbf{C(household\\_income)[T.Less than \\$10,000]}               &       0.0047  &        0.003     &     1.860  &         0.063        &       -0.000    &        0.010     \\\\\n\\textbf{C(household\\_size)[T.2]}                                  &      -0.0123  &        0.002     &    -6.698  &         0.000        &       -0.016    &       -0.009     \\\\\n\\textbf{C(household\\_size)[T.3]}                                  &      -0.0194  &        0.002     &   -10.830  &         0.000        &       -0.023    &       -0.016     \\\\\n\\textbf{C(household\\_size)[T.4]}                                  &      -0.0211  &        0.002     &   -11.625  &         0.000        &       -0.025    &       -0.018     \\\\\n\\textbf{C(household\\_size)[T.5 ]}                                 &      -0.1152  &        0.134     &    -0.860  &         0.390        &       -0.378    &        0.147     \\\\\n\\textbf{C(household\\_size)[T.5+]}                                 &      -0.0154  &        0.002     &    -7.242  &         0.000        &       -0.020    &       -0.011     \\\\\n\\textbf{C(marital\\_status)[T.divorced]}                           &      -0.0031  &        0.004     &    -0.872  &         0.383        &       -0.010    &        0.004     \\\\\n\\textbf{C(marital\\_status)[T.engaged]}                            &      -0.0105  &        0.003     &    -3.045  &         0.002        &       -0.017    &       -0.004     \\\\\n\\textbf{C(marital\\_status)[T.married]}                            &      -0.0149  &        0.002     &    -6.766  &         0.000        &       -0.019    &       -0.011     \\\\\n\\textbf{C(marital\\_status)[T.single]}                             &      -0.0039  &        0.002     &    -1.698  &         0.089        &       -0.008    &        0.001     \\\\\n\\textbf{C(time\\_spent\\_on\\_mturk)[T.2-4 hours per week]}          &      -0.0030  &        0.002     &    -1.561  &         0.118        &       -0.007    &        0.001     \\\\\n\\textbf{C(time\\_spent\\_on\\_mturk)[T.20-40 hours per week]}        &       0.0068  &        0.002     &     3.491  &         0.000        &        0.003    &        0.011     \\\\\n\\textbf{C(time\\_spent\\_on\\_mturk)[T.4-8 hours per week]}          &      -0.0019  &        0.002     &    -1.029  &         0.304        &       -0.005    &        0.002     \\\\\n\\textbf{C(time\\_spent\\_on\\_mturk)[T.8-20 hours per week]}         &       0.0052  &        0.002     &     2.884  &         0.004        &        0.002    &        0.009     \\\\\n\\textbf{C(time\\_spent\\_on\\_mturk)[T.Less than 1 hour per week]}   &      -0.0011  &        0.003     &    -0.377  &         0.706        &       -0.007    &        0.005     \\\\\n\\textbf{C(time\\_spent\\_on\\_mturk)[T.More than 40 hours per week]} &       0.0041  &        0.002     &     1.836  &         0.066        &       -0.000    &        0.009     \\\\\n\\textbf{C(life\\_event)[T.1]}                                      &       0.1284  &        0.001     &   133.018  &         0.000        &        0.127    &        0.130     \\\\\n\\textbf{age}                                                      &       0.0005  &     4.01e-05     &    13.552  &         0.000        &        0.000    &        0.001     \\\\\n\\bottomrule\n\\end{tabular}\n\\begin{tabular}{lclc}\n\\textbf{Omnibus:}       & 121269.717 & \\textbf{  Durbin-Watson:     } &      1.751    \\\\\n\\textbf{Prob(Omnibus):} &    0.000   & \\textbf{  Jarque-Bera (JB):  } & 34672936.924  \\\\\n\\textbf{Skew:}          &    8.206   & \\textbf{  Prob(JB):          } &       0.00    \\\\\n\\textbf{Kurtosis:}      &   99.233   & \\textbf{  Cond. No.          } &   1.17e+04    \\\\\n\\bottomrule\n\\end{tabular}\n%\\caption{OLS Regression Results}\n\\end{center}\n\nNotes: \\newline\n [1] Standard Errors assume that the covariance matrix of the errors is correctly specified. \\newline\n [2] The condition number is large, 1.17e+04. This might indicate that there are \\newline\n strong multicollinearity or other numerical problems."
          },
          "metadata": {},
          "execution_count": 7
        }
      ],
      "source": [
        "import math\n",
        "import statsmodels.formula.api as sm\n",
        "\n",
        "formula = \"propensity ~ C(location_country) + C(gender) +  C(household_income)+ C(household_size) + C(marital_status) + C(time_spent_on_mturk)+ age + C(life_event)\"\n",
        "\n",
        "result = sm.ols(formula=formula, data=dem_df).fit()\n",
        "result.summary()"
      ]
    },
    {
      "cell_type": "code",
      "execution_count": null,
      "metadata": {
        "collapsed": true,
        "id": "CyBZl-dX9zft"
      },
      "outputs": [],
      "source": [
        "%matplotlib inline\n",
        "import matplotlib as mpl\n",
        "import matplotlib.pyplot as plt\n",
        "import seaborn as sns\n",
        "\n",
        "sns.set_style(\"whitegrid\")\n",
        "mpl.rc(\"figure\", figsize=(16, 8))\n",
        "mpl.rcParams.update({'font.size': 22})"
      ]
    },
    {
      "cell_type": "code",
      "execution_count": null,
      "metadata": {
        "colab": {
          "base_uri": "https://localhost:8080/",
          "height": 642
        },
        "id": "ALu_4Z-x9zft",
        "outputId": "918069b4-445f-4783-e41f-4b248ac880e5"
      },
      "outputs": [
        {
          "output_type": "execute_result",
          "data": {
            "text/plain": [
              "<Axes: ylabel='Frequency'>"
            ]
          },
          "metadata": {},
          "execution_count": 70
        },
        {
          "output_type": "display_data",
          "data": {
            "text/plain": [
              "<Figure size 1600x800 with 1 Axes>"
            ],
            "image/png": "[encoded data removed]"
          },
          "metadata": {}
        }
      ],
      "source": [
        "dem_df.propensity.plot.hist(log=True)"
      ]
    },
    {
      "cell_type": "code",
      "execution_count": 10,
      "metadata": {
        "collapsed": true,
        "id": "ab2lvOnq9zft",
        "colab": {
          "base_uri": "https://localhost:8080/"
        },
        "outputId": "9d5c7c90-66f0-4cf5-f653-b68d7fccce96"
      },
      "outputs": [
        {
          "output_type": "execute_result",
          "data": {
            "text/plain": [
              "81.36352183971232"
            ]
          },
          "metadata": {},
          "execution_count": 10
        }
      ],
      "source": [
        "len(dem_df[dem_df['propensity']<0.1])/len(dem_df)*100"
      ]
    }
  ],
  "metadata": {
    "kernelspec": {
      "display_name": "Python 3",
      "language": "python",
      "name": "python3"
    },
    "language_info": {
      "codemirror_mode": {
        "name": "ipython",
        "version": 3
      },
      "file_extension": ".py",
      "mimetype": "text/x-python",
      "name": "python",
      "nbconvert_exporter": "python",
      "pygments_lexer": "ipython3",
      "version": "3.5.2"
    },
    "colab": {
      "provenance": [],
      "include_colab_link": true
    }
  },
  "nbformat": 4,
  "nbformat_minor": 0
}